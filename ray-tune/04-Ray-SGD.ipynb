{
 "cells": [
  {
   "cell_type": "markdown",
   "metadata": {},
   "source": [
    "# Ray SGD - A Library for Distributed Deep Learning\n",
    "\n",
    "© 2019-2020, Anyscale. All Rights Reserved\n",
    "\n",
    "![Anyscale Academy](../images/AnyscaleAcademy_Logo_clearbanner_141x100.png)\n",
    "\n",
    "[Ray SGD](https://docs.ray.io/en/latest/raysgd/raysgd.html) is a lightweight library for distributed deep learning. It provides thin wrappers around [PyTorch](https://pytorch.org) and [TensorFlow](https://tensorflow.org) native modules for data parallel training."
   ]
  },
  {
   "cell_type": "markdown",
   "metadata": {},
   "source": [
    "## About Ray SGD\n",
    "\n",
    "The main features of Ray SGD are:\n",
    "\n",
    "* **Ease of use:** You can scale PyTorch’s native `DistributedDataParallel` and TensorFlow’s `tf.distribute.MirroredStrategy` without the requirement to monitor individual nodes yourself.\n",
    "* **Composability:** Ray SGD is built on top of the Ray Actor API, enabling seamless integration with existing Ray applications such as RLlib, Tune, and Serve.\n",
    "* **Scale up and down:** You can start on a single CPU, then scale up to multi-node, multi-CPU, or multi-GPU clusters when needed. All it takes is changing two lines of code.\n",
    "\n",
    "This [Ray blog post](https://medium.com/distributed-computing-with-ray/faster-and-cheaper-pytorch-with-raysgd-a5a44d4fd220) provides more information on the motivations for Ray SGD, such as the many steps you have to do yourself without it, and how it removes those steps."
   ]
  },
  {
   "cell_type": "markdown",
   "metadata": {},
   "source": [
    "## Example - Distributed Training for PyTorch \n",
    "\n",
    "This examples is adapted from the [Ray SGD documentation](https://docs.ray.io/en/latest/raysgd/raysgd.html). \n",
    "\n",
    "First, we initialize Ray and do the necessary imports, as before."
   ]
  },
  {
   "cell_type": "code",
   "execution_count": null,
   "metadata": {},
   "outputs": [],
   "source": [
    "!../tools/start-ray.sh --check --verbose"
   ]
  },
  {
   "cell_type": "code",
   "execution_count": null,
   "metadata": {},
   "outputs": [],
   "source": [
    "import ray\n",
    "from ray.util.sgd import TorchTrainer\n",
    "from ray.util.sgd.torch.examples.train_example import LinearDataset\n",
    "\n",
    "import torch\n",
    "from torch.utils.data import DataLoader"
   ]
  },
  {
   "cell_type": "code",
   "execution_count": null,
   "metadata": {},
   "outputs": [],
   "source": [
    "ray.init(address='auto', ignore_reinit_error=True)"
   ]
  },
  {
   "cell_type": "markdown",
   "metadata": {},
   "source": [
    "Now define several functions we'll need."
   ]
  },
  {
   "cell_type": "code",
   "execution_count": null,
   "metadata": {
    "scrolled": true
   },
   "outputs": [],
   "source": [
    "# Create a torch neural network:\n",
    "def model_creator(config):\n",
    "    return torch.nn.Linear(1, 1)\n",
    "\n",
    "# Create an optimizer:\n",
    "def optimizer_creator(model, config):\n",
    "    \"\"\"Returns optimizer.\"\"\"\n",
    "    return torch.optim.SGD(model.parameters(), lr=1e-2)\n",
    "\n",
    "# Create data:\n",
    "def data_creator(config):\n",
    "    train_loader = DataLoader(LinearDataset(2, 5), config[\"batch_size\"])\n",
    "    val_loader = DataLoader(LinearDataset(2, 5), config[\"batch_size\"])\n",
    "    return train_loader, val_loader"
   ]
  },
  {
   "cell_type": "markdown",
   "metadata": {},
   "source": [
    "Define a trainer"
   ]
  },
  {
   "cell_type": "code",
   "execution_count": null,
   "metadata": {},
   "outputs": [],
   "source": [
    "trainer = TorchTrainer(\n",
    "    model_creator=model_creator,\n",
    "    data_creator=data_creator,\n",
    "    optimizer_creator=optimizer_creator,\n",
    "    loss_creator=torch.nn.MSELoss,\n",
    "    use_gpu=False,\n",
    "    config={\"batch_size\": 64})"
   ]
  },
  {
   "cell_type": "markdown",
   "metadata": {},
   "source": [
    "We won't run a full training process, but the following cell shows the core steps."
   ]
  },
  {
   "cell_type": "code",
   "execution_count": null,
   "metadata": {},
   "outputs": [],
   "source": [
    "for i in range(10):\n",
    "    stats = trainer.train()\n",
    "    print(f'{i:2d}: {stats}')\n",
    "trainer.shutdown()"
   ]
  }
 ],
 "metadata": {
  "kernelspec": {
   "display_name": "Python 3",
   "language": "python",
   "name": "python3"
  },
  "language_info": {
   "codemirror_mode": {
    "name": "ipython",
    "version": 3
   },
   "file_extension": ".py",
   "mimetype": "text/x-python",
   "name": "python",
   "nbconvert_exporter": "python",
   "pygments_lexer": "ipython3",
   "version": "3.7.6"
  }
 },
 "nbformat": 4,
 "nbformat_minor": 4
}
