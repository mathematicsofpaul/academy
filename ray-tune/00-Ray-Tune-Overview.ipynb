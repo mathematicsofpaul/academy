{
 "cells": [
  {
   "cell_type": "markdown",
   "metadata": {},
   "source": [
    "# Ray Tune - Overview\n",
    "\n",
    "© 2019-2020, Anyscale. All Rights Reserved\n",
    "\n",
    "![Anyscale Academy](../images/AnyscaleAcademy_Logo_clearbanner_141x100.png)\n",
    "\n",
    "## Join Us at Ray Summit 2020!\n",
    "\n",
    "Join us for the [_free_ Ray Summit 2020 virtual conference](https://events.linuxfoundation.org/ray-summit/?utm_source=dean&utm_medium=embed&utm_campaign=ray_summit&utm_content=anyscale_academy), September 30 - October 1, 2020. We have an amazing lineup of luminar keynote speakers and breakout sessions on the Ray ecosystem, third-party Ray libraries, and applications of Ray in the real world.\n",
    "\n",
    "![Ray Summit 2020](../images/raysummit-horizontal-white-banner-full.png)\n",
    "\n",
    "## About This Tutorial\n",
    "\n",
    "This tutorial, part of [Anyscale Academy](https://anyscale.com/academy), introduces _hyperparameter tuning_, often called _hyperparameter optimization_ for which we'll use the acronym _HPO_ (since \"hyperparameter\" is often spelled \"hyper parameter\"). \n",
    "\n",
    "In particular this tutorial introduces [Ray Tune](http://tune.io), Ray's comprehensive HPO library.\n",
    "\n",
    "![Ray Tune](../images/RayTune.png)\n",
    "\n",
    "There is also a lesson on the new [Ray SGD](https://docs.ray.io/en/latest/raysgd/raysgd.html) API.\n",
    "\n",
    "![Ray SGD](../images/RaySGD.png)\n",
    "\n",
    "See the instructions in the [README](../README.md) for setting up your environment to use this tutorial.\n",
    "\n",
    "Go [here](../Overview.ipynb) for an overview of all tutorials."
   ]
  },
  {
   "cell_type": "markdown",
   "metadata": {},
   "source": [
    "|     | Lesson | Description |\n",
    "| :-- | :----- | :---------- |\n",
    "| 00  | [Ray Tune Overview](00-Ray-Tune-Overview.ipynb) | Overview of this tutorial. |\n",
    "| 01  | [Understanding Hyperparameter Tuning](01-Understanding-Hyperparameter-Tuning.ipynb) | An explanation of hyperparameters vs. parameters and a non-trivial example of hyperparameter tuning/optimization with Tune. |\n",
    "| 02  | [Ray Tune with MNIST](02-Ray-Tune-with-MNIST.ipynb) | More exploration of the Tune API, using an MNIST example. |\n",
    "| 03  | [Search Algos and Schedulers](03-Search-Algos-and-Schedulers.ipynb) | Understanding the concepts of search algorithms and schedulers, again using an MNIST example. |\n",
    "| 04  | [Ray SGD](04-Ray-SGD.ipynb) | The new Ray SGD API and how to use it. |\n",
    "|     | [Hyperparameter Tuning References](References-Hyperparameter-Tuning.ipynb) | References for hyperparameter tuning. |\n",
    "\n",
    "In addition, exercise solutions for this tutorial can be found in the `solutions` directory.\n",
    "\n",
    "For other, earlier tutorials that use Tune, see [github.com/ray-project/tutorial](https://github.com/ray-project/tutorial)."
   ]
  },
  {
   "cell_type": "markdown",
   "metadata": {},
   "source": [
    "## Getting Help\n",
    "\n",
    "* The [#tutorial channel](https://ray-distributed.slack.com/archives/C011ML23W5B) on the [Ray Slack](https://ray-distributed.slack.com). [Click here](https://forms.gle/9TSdDYUgxYs8SA9e8) to join.\n",
    "* [Email](mailto:academy@anyscale.com)\n",
    "\n",
    "Find an issue? Please report it!\n",
    "\n",
    "* [GitHub issues](https://github.com/anyscale/academy/issues)"
   ]
  },
  {
   "cell_type": "markdown",
   "metadata": {},
   "source": [
    "## Give Us Feedback!\n",
    "\n",
    "Let us know what you like and don't like about this HPO and Ray Tune tutorial.\n",
    "\n",
    "* [Survey](https://forms.gle/StzNufFyyDT3dapt8)"
   ]
  }
 ],
 "metadata": {
  "kernelspec": {
   "display_name": "Python 3",
   "language": "python",
   "name": "python3"
  },
  "language_info": {
   "codemirror_mode": {
    "name": "ipython",
    "version": 3
   },
   "file_extension": ".py",
   "mimetype": "text/x-python",
   "name": "python",
   "nbconvert_exporter": "python",
   "pygments_lexer": "ipython3",
   "version": "3.7.6"
  }
 },
 "nbformat": 4,
 "nbformat_minor": 4
}
