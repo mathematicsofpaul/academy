{
 "cells": [
  {
   "cell_type": "markdown",
   "metadata": {},
   "source": [
    "# Ray RLlib Multi-Armed Bandits - Market Bandit Example\n",
    "\n",
    "© 2019-2020, Anyscale. All Rights Reserved\n",
    "\n",
    "![Anyscale Academy](../../images/AnyscaleAcademy_Logo_clearbanner_141x100.png)"
   ]
  },
  {
   "cell_type": "markdown",
   "metadata": {},
   "source": [
    "Now that we've learned about multi-armed bandits and methods for optimizing rewards, let's look at real-world applications, starting with a stock market example. We'll also learn a little more about configuring RLlib trainers.\n",
    "\n",
    "We'll load a dataset derived from this [NYU Stern table](http://pages.stern.nyu.edu/~adamodar/New_Home_Page/datafile/histretSP.html) that shows returns for nearly a century of market data, including dividends and adjustments for inflation. The `market.tsv` file in this folder contains the data."
   ]
  },
  {
   "cell_type": "code",
   "execution_count": 1,
   "metadata": {},
   "outputs": [],
   "source": [
    "import pandas as pd\n",
    "import numpy as np\n",
    "import os, sys"
   ]
  },
  {
   "cell_type": "code",
   "execution_count": 2,
   "metadata": {},
   "outputs": [],
   "source": [
    "# Some properties we'll need:\n",
    "DEFAULT_MAX_INFLATION = 100.0\n",
    "DEFAULT_TICKERS = [\"sp500\", \"t.bill\", \"t.bond\", \"corp\"]\n",
    "DEFAULT_DATA_FILE = os.path.abspath(os.path.curdir) + '/market.tsv'  # full path"
   ]
  },
  {
   "cell_type": "code",
   "execution_count": 3,
   "metadata": {},
   "outputs": [],
   "source": [
    "def load_market_data (file_name):\n",
    "    with open(file_name, \"r\") as f:\n",
    "        return pd.read_table(f)"
   ]
  },
  {
   "cell_type": "code",
   "execution_count": 4,
   "metadata": {},
   "outputs": [
    {
     "data": {
      "text/html": [
       "<div>\n",
       "<style scoped>\n",
       "    .dataframe tbody tr th:only-of-type {\n",
       "        vertical-align: middle;\n",
       "    }\n",
       "\n",
       "    .dataframe tbody tr th {\n",
       "        vertical-align: top;\n",
       "    }\n",
       "\n",
       "    .dataframe thead th {\n",
       "        text-align: right;\n",
       "    }\n",
       "</style>\n",
       "<table border=\"1\" class=\"dataframe\">\n",
       "  <thead>\n",
       "    <tr style=\"text-align: right;\">\n",
       "      <th></th>\n",
       "      <th>year</th>\n",
       "      <th>inflation</th>\n",
       "      <th>sp500</th>\n",
       "      <th>t.bill</th>\n",
       "      <th>t.bond</th>\n",
       "      <th>corp</th>\n",
       "    </tr>\n",
       "  </thead>\n",
       "  <tbody>\n",
       "    <tr>\n",
       "      <th>0</th>\n",
       "      <td>1928</td>\n",
       "      <td>-1.15</td>\n",
       "      <td>45.49</td>\n",
       "      <td>4.28</td>\n",
       "      <td>2.01</td>\n",
       "      <td>4.42</td>\n",
       "    </tr>\n",
       "    <tr>\n",
       "      <th>1</th>\n",
       "      <td>1929</td>\n",
       "      <td>0.00</td>\n",
       "      <td>-8.30</td>\n",
       "      <td>3.16</td>\n",
       "      <td>4.20</td>\n",
       "      <td>3.02</td>\n",
       "    </tr>\n",
       "    <tr>\n",
       "      <th>2</th>\n",
       "      <td>1930</td>\n",
       "      <td>-2.67</td>\n",
       "      <td>-23.07</td>\n",
       "      <td>7.42</td>\n",
       "      <td>7.41</td>\n",
       "      <td>3.30</td>\n",
       "    </tr>\n",
       "    <tr>\n",
       "      <th>3</th>\n",
       "      <td>1931</td>\n",
       "      <td>-8.93</td>\n",
       "      <td>-38.33</td>\n",
       "      <td>12.34</td>\n",
       "      <td>7.00</td>\n",
       "      <td>-7.41</td>\n",
       "    </tr>\n",
       "    <tr>\n",
       "      <th>4</th>\n",
       "      <td>1932</td>\n",
       "      <td>-10.30</td>\n",
       "      <td>1.85</td>\n",
       "      <td>12.68</td>\n",
       "      <td>21.28</td>\n",
       "      <td>37.78</td>\n",
       "    </tr>\n",
       "    <tr>\n",
       "      <th>...</th>\n",
       "      <td>...</td>\n",
       "      <td>...</td>\n",
       "      <td>...</td>\n",
       "      <td>...</td>\n",
       "      <td>...</td>\n",
       "      <td>...</td>\n",
       "    </tr>\n",
       "    <tr>\n",
       "      <th>87</th>\n",
       "      <td>2015</td>\n",
       "      <td>0.12</td>\n",
       "      <td>1.26</td>\n",
       "      <td>-0.07</td>\n",
       "      <td>1.16</td>\n",
       "      <td>-0.82</td>\n",
       "    </tr>\n",
       "    <tr>\n",
       "      <th>88</th>\n",
       "      <td>2016</td>\n",
       "      <td>1.26</td>\n",
       "      <td>10.38</td>\n",
       "      <td>-0.93</td>\n",
       "      <td>-0.56</td>\n",
       "      <td>8.99</td>\n",
       "    </tr>\n",
       "    <tr>\n",
       "      <th>89</th>\n",
       "      <td>2017</td>\n",
       "      <td>2.13</td>\n",
       "      <td>19.07</td>\n",
       "      <td>-1.17</td>\n",
       "      <td>0.66</td>\n",
       "      <td>7.44</td>\n",
       "    </tr>\n",
       "    <tr>\n",
       "      <th>90</th>\n",
       "      <td>2018</td>\n",
       "      <td>2.44</td>\n",
       "      <td>-6.51</td>\n",
       "      <td>-0.49</td>\n",
       "      <td>-2.40</td>\n",
       "      <td>-5.08</td>\n",
       "    </tr>\n",
       "    <tr>\n",
       "      <th>91</th>\n",
       "      <td>2019</td>\n",
       "      <td>2.29</td>\n",
       "      <td>28.29</td>\n",
       "      <td>-0.72</td>\n",
       "      <td>7.18</td>\n",
       "      <td>12.75</td>\n",
       "    </tr>\n",
       "  </tbody>\n",
       "</table>\n",
       "<p>92 rows × 6 columns</p>\n",
       "</div>"
      ],
      "text/plain": [
       "    year  inflation  sp500  t.bill  t.bond   corp\n",
       "0   1928      -1.15  45.49    4.28    2.01   4.42\n",
       "1   1929       0.00  -8.30    3.16    4.20   3.02\n",
       "2   1930      -2.67 -23.07    7.42    7.41   3.30\n",
       "3   1931      -8.93 -38.33   12.34    7.00  -7.41\n",
       "4   1932     -10.30   1.85   12.68   21.28  37.78\n",
       "..   ...        ...    ...     ...     ...    ...\n",
       "87  2015       0.12   1.26   -0.07    1.16  -0.82\n",
       "88  2016       1.26  10.38   -0.93   -0.56   8.99\n",
       "89  2017       2.13  19.07   -1.17    0.66   7.44\n",
       "90  2018       2.44  -6.51   -0.49   -2.40  -5.08\n",
       "91  2019       2.29  28.29   -0.72    7.18  12.75\n",
       "\n",
       "[92 rows x 6 columns]"
      ]
     },
     "execution_count": 4,
     "metadata": {},
     "output_type": "execute_result"
    }
   ],
   "source": [
    "df = load_market_data(DEFAULT_DATA_FILE)\n",
    "df"
   ]
  },
  {
   "cell_type": "markdown",
   "metadata": {},
   "source": [
    "As you can see the data spans 92 years, from 1928 to 2019. The columns represent:\n",
    "  * the year\n",
    "  * inflation rate at the time\n",
    "  * [S&P500](https://en.wikipedia.org/wiki/S%26P_500_Index) (composite stock index)\n",
    "  * [Treasury Bills](https://www.investopedia.com/terms/t/treasurybill.asp) (short-term gov bonds)\n",
    "  * [Treasury Bonds](https://www.investopedia.com/terms/t/treasurybond.asp) (long-term gov bonds)\n",
    "  * [Moody's Baa Corporate Bonds](https://en.wikipedia.org/wiki/Moody%27s_Investors_Service#Moody's_credit_ratings) (moderate risk)"
   ]
  },
  {
   "cell_type": "code",
   "execution_count": 5,
   "metadata": {},
   "outputs": [
    {
     "data": {
      "text/html": [
       "<div>\n",
       "<style scoped>\n",
       "    .dataframe tbody tr th:only-of-type {\n",
       "        vertical-align: middle;\n",
       "    }\n",
       "\n",
       "    .dataframe tbody tr th {\n",
       "        vertical-align: top;\n",
       "    }\n",
       "\n",
       "    .dataframe thead th {\n",
       "        text-align: right;\n",
       "    }\n",
       "</style>\n",
       "<table border=\"1\" class=\"dataframe\">\n",
       "  <thead>\n",
       "    <tr style=\"text-align: right;\">\n",
       "      <th></th>\n",
       "      <th>year</th>\n",
       "      <th>inflation</th>\n",
       "      <th>sp500</th>\n",
       "      <th>t.bill</th>\n",
       "      <th>t.bond</th>\n",
       "      <th>corp</th>\n",
       "    </tr>\n",
       "  </thead>\n",
       "  <tbody>\n",
       "    <tr>\n",
       "      <th>count</th>\n",
       "      <td>92.00000</td>\n",
       "      <td>92.000000</td>\n",
       "      <td>92.000000</td>\n",
       "      <td>92.000000</td>\n",
       "      <td>92.000000</td>\n",
       "      <td>92.000000</td>\n",
       "    </tr>\n",
       "    <tr>\n",
       "      <th>mean</th>\n",
       "      <td>1973.50000</td>\n",
       "      <td>3.041957</td>\n",
       "      <td>8.413261</td>\n",
       "      <td>0.434239</td>\n",
       "      <td>2.166413</td>\n",
       "      <td>4.216630</td>\n",
       "    </tr>\n",
       "    <tr>\n",
       "      <th>std</th>\n",
       "      <td>26.70206</td>\n",
       "      <td>3.803579</td>\n",
       "      <td>19.619605</td>\n",
       "      <td>3.573035</td>\n",
       "      <td>8.126432</td>\n",
       "      <td>8.625809</td>\n",
       "    </tr>\n",
       "    <tr>\n",
       "      <th>min</th>\n",
       "      <td>1928.00000</td>\n",
       "      <td>-10.300000</td>\n",
       "      <td>-38.900000</td>\n",
       "      <td>-12.050000</td>\n",
       "      <td>-14.570000</td>\n",
       "      <td>-14.850000</td>\n",
       "    </tr>\n",
       "    <tr>\n",
       "      <th>25%</th>\n",
       "      <td>1950.75000</td>\n",
       "      <td>1.415000</td>\n",
       "      <td>-2.740000</td>\n",
       "      <td>-1.185000</td>\n",
       "      <td>-2.620000</td>\n",
       "      <td>-1.322500</td>\n",
       "    </tr>\n",
       "    <tr>\n",
       "      <th>50%</th>\n",
       "      <td>1973.50000</td>\n",
       "      <td>2.750000</td>\n",
       "      <td>10.515000</td>\n",
       "      <td>0.590000</td>\n",
       "      <td>1.070000</td>\n",
       "      <td>3.910000</td>\n",
       "    </tr>\n",
       "    <tr>\n",
       "      <th>75%</th>\n",
       "      <td>1996.25000</td>\n",
       "      <td>4.275000</td>\n",
       "      <td>20.622500</td>\n",
       "      <td>2.117500</td>\n",
       "      <td>7.037500</td>\n",
       "      <td>9.287500</td>\n",
       "    </tr>\n",
       "    <tr>\n",
       "      <th>max</th>\n",
       "      <td>2019.00000</td>\n",
       "      <td>14.390000</td>\n",
       "      <td>58.200000</td>\n",
       "      <td>12.680000</td>\n",
       "      <td>25.140000</td>\n",
       "      <td>37.780000</td>\n",
       "    </tr>\n",
       "  </tbody>\n",
       "</table>\n",
       "</div>"
      ],
      "text/plain": [
       "             year  inflation      sp500     t.bill     t.bond       corp\n",
       "count    92.00000  92.000000  92.000000  92.000000  92.000000  92.000000\n",
       "mean   1973.50000   3.041957   8.413261   0.434239   2.166413   4.216630\n",
       "std      26.70206   3.803579  19.619605   3.573035   8.126432   8.625809\n",
       "min    1928.00000 -10.300000 -38.900000 -12.050000 -14.570000 -14.850000\n",
       "25%    1950.75000   1.415000  -2.740000  -1.185000  -2.620000  -1.322500\n",
       "50%    1973.50000   2.750000  10.515000   0.590000   1.070000   3.910000\n",
       "75%    1996.25000   4.275000  20.622500   2.117500   7.037500   9.287500\n",
       "max    2019.00000  14.390000  58.200000  12.680000  25.140000  37.780000"
      ]
     },
     "execution_count": 5,
     "metadata": {},
     "output_type": "execute_result"
    }
   ],
   "source": [
    "df.describe()"
   ]
  },
  {
   "cell_type": "markdown",
   "metadata": {},
   "source": [
    "\"Corp\" refers to corporate bonds."
   ]
  },
  {
   "cell_type": "markdown",
   "metadata": {},
   "source": [
    "## Analysis of the Data\n",
    "\n",
    "What are the worst case and best case scenarios? In other words, if one could predict the future market performance, what are the possible ranges of total failure vs. total success over the past century? By \"total\", we mean what if you had all your money in a given year invested in the worst performing _sector_ (S&P500, T bills, or other) or you were invested in the best performing sector for that year."
   ]
  },
  {
   "cell_type": "code",
   "execution_count": 6,
   "metadata": {},
   "outputs": [
    {
     "name": "stdout",
     "output_type": "stream",
     "text": [
      "-5.64% worst case annualized\n",
      "15.18% best case annualized\n"
     ]
    }
   ],
   "source": [
    "n_years = len(df)\n",
    "min_list = []\n",
    "max_list = []\n",
    "\n",
    "for i in range(n_years):\n",
    "    row = df.iloc[i, 2:]\n",
    "    min_list.append(min(row))\n",
    "    max_list.append(max(row))\n",
    "    \n",
    "print(\"{:5.2f}% worst case annualized\".format(sum(min_list) / n_years))\n",
    "print(\"{:5.2f}% best case annualized\".format(sum(max_list) / n_years))"
   ]
  },
  {
   "cell_type": "code",
   "execution_count": 7,
   "metadata": {},
   "outputs": [],
   "source": [
    "sys.path.append('../..')\n",
    "from util.line_plots import plot_line, plot_line_with_stddev, plot_between_lines\n",
    "from bokeh_util import plot_cumulative_regret"
   ]
  },
  {
   "cell_type": "code",
   "execution_count": 8,
   "metadata": {},
   "outputs": [
    {
     "data": {
      "text/html": [
       "\n",
       "    <div class=\"bk-root\">\n",
       "        <a href=\"https://bokeh.org\" target=\"_blank\" class=\"bk-logo bk-logo-small bk-logo-notebook\"></a>\n",
       "        <span id=\"1001\">Loading BokehJS ...</span>\n",
       "    </div>"
      ]
     },
     "metadata": {},
     "output_type": "display_data"
    },
    {
     "data": {
      "application/javascript": [
       "\n",
       "(function(root) {\n",
       "  function now() {\n",
       "    return new Date();\n",
       "  }\n",
       "\n",
       "  var force = true;\n",
       "\n",
       "  if (typeof root._bokeh_onload_callbacks === \"undefined\" || force === true) {\n",
       "    root._bokeh_onload_callbacks = [];\n",
       "    root._bokeh_is_loading = undefined;\n",
       "  }\n",
       "\n",
       "  var JS_MIME_TYPE = 'application/javascript';\n",
       "  var HTML_MIME_TYPE = 'text/html';\n",
       "  var EXEC_MIME_TYPE = 'application/vnd.bokehjs_exec.v0+json';\n",
       "  var CLASS_NAME = 'output_bokeh rendered_html';\n",
       "\n",
       "  /**\n",
       "   * Render data to the DOM node\n",
       "   */\n",
       "  function render(props, node) {\n",
       "    var script = document.createElement(\"script\");\n",
       "    node.appendChild(script);\n",
       "  }\n",
       "\n",
       "  /**\n",
       "   * Handle when an output is cleared or removed\n",
       "   */\n",
       "  function handleClearOutput(event, handle) {\n",
       "    var cell = handle.cell;\n",
       "\n",
       "    var id = cell.output_area._bokeh_element_id;\n",
       "    var server_id = cell.output_area._bokeh_server_id;\n",
       "    // Clean up Bokeh references\n",
       "    if (id != null && id in Bokeh.index) {\n",
       "      Bokeh.index[id].model.document.clear();\n",
       "      delete Bokeh.index[id];\n",
       "    }\n",
       "\n",
       "    if (server_id !== undefined) {\n",
       "      // Clean up Bokeh references\n",
       "      var cmd = \"from bokeh.io.state import curstate; print(curstate().uuid_to_server['\" + server_id + \"'].get_sessions()[0].document.roots[0]._id)\";\n",
       "      cell.notebook.kernel.execute(cmd, {\n",
       "        iopub: {\n",
       "          output: function(msg) {\n",
       "            var id = msg.content.text.trim();\n",
       "            if (id in Bokeh.index) {\n",
       "              Bokeh.index[id].model.document.clear();\n",
       "              delete Bokeh.index[id];\n",
       "            }\n",
       "          }\n",
       "        }\n",
       "      });\n",
       "      // Destroy server and session\n",
       "      var cmd = \"import bokeh.io.notebook as ion; ion.destroy_server('\" + server_id + \"')\";\n",
       "      cell.notebook.kernel.execute(cmd);\n",
       "    }\n",
       "  }\n",
       "\n",
       "  /**\n",
       "   * Handle when a new output is added\n",
       "   */\n",
       "  function handleAddOutput(event, handle) {\n",
       "    var output_area = handle.output_area;\n",
       "    var output = handle.output;\n",
       "\n",
       "    // limit handleAddOutput to display_data with EXEC_MIME_TYPE content only\n",
       "    if ((output.output_type != \"display_data\") || (!output.data.hasOwnProperty(EXEC_MIME_TYPE))) {\n",
       "      return\n",
       "    }\n",
       "\n",
       "    var toinsert = output_area.element.find(\".\" + CLASS_NAME.split(' ')[0]);\n",
       "\n",
       "    if (output.metadata[EXEC_MIME_TYPE][\"id\"] !== undefined) {\n",
       "      toinsert[toinsert.length - 1].firstChild.textContent = output.data[JS_MIME_TYPE];\n",
       "      // store reference to embed id on output_area\n",
       "      output_area._bokeh_element_id = output.metadata[EXEC_MIME_TYPE][\"id\"];\n",
       "    }\n",
       "    if (output.metadata[EXEC_MIME_TYPE][\"server_id\"] !== undefined) {\n",
       "      var bk_div = document.createElement(\"div\");\n",
       "      bk_div.innerHTML = output.data[HTML_MIME_TYPE];\n",
       "      var script_attrs = bk_div.children[0].attributes;\n",
       "      for (var i = 0; i < script_attrs.length; i++) {\n",
       "        toinsert[toinsert.length - 1].firstChild.setAttribute(script_attrs[i].name, script_attrs[i].value);\n",
       "        toinsert[toinsert.length - 1].firstChild.textContent = bk_div.children[0].textContent\n",
       "      }\n",
       "      // store reference to server id on output_area\n",
       "      output_area._bokeh_server_id = output.metadata[EXEC_MIME_TYPE][\"server_id\"];\n",
       "    }\n",
       "  }\n",
       "\n",
       "  function register_renderer(events, OutputArea) {\n",
       "\n",
       "    function append_mime(data, metadata, element) {\n",
       "      // create a DOM node to render to\n",
       "      var toinsert = this.create_output_subarea(\n",
       "        metadata,\n",
       "        CLASS_NAME,\n",
       "        EXEC_MIME_TYPE\n",
       "      );\n",
       "      this.keyboard_manager.register_events(toinsert);\n",
       "      // Render to node\n",
       "      var props = {data: data, metadata: metadata[EXEC_MIME_TYPE]};\n",
       "      render(props, toinsert[toinsert.length - 1]);\n",
       "      element.append(toinsert);\n",
       "      return toinsert\n",
       "    }\n",
       "\n",
       "    /* Handle when an output is cleared or removed */\n",
       "    events.on('clear_output.CodeCell', handleClearOutput);\n",
       "    events.on('delete.Cell', handleClearOutput);\n",
       "\n",
       "    /* Handle when a new output is added */\n",
       "    events.on('output_added.OutputArea', handleAddOutput);\n",
       "\n",
       "    /**\n",
       "     * Register the mime type and append_mime function with output_area\n",
       "     */\n",
       "    OutputArea.prototype.register_mime_type(EXEC_MIME_TYPE, append_mime, {\n",
       "      /* Is output safe? */\n",
       "      safe: true,\n",
       "      /* Index of renderer in `output_area.display_order` */\n",
       "      index: 0\n",
       "    });\n",
       "  }\n",
       "\n",
       "  // register the mime type if in Jupyter Notebook environment and previously unregistered\n",
       "  if (root.Jupyter !== undefined) {\n",
       "    var events = require('base/js/events');\n",
       "    var OutputArea = require('notebook/js/outputarea').OutputArea;\n",
       "\n",
       "    if (OutputArea.prototype.mime_types().indexOf(EXEC_MIME_TYPE) == -1) {\n",
       "      register_renderer(events, OutputArea);\n",
       "    }\n",
       "  }\n",
       "\n",
       "  \n",
       "  if (typeof (root._bokeh_timeout) === \"undefined\" || force === true) {\n",
       "    root._bokeh_timeout = Date.now() + 5000;\n",
       "    root._bokeh_failed_load = false;\n",
       "  }\n",
       "\n",
       "  var NB_LOAD_WARNING = {'data': {'text/html':\n",
       "     \"<div style='background-color: #fdd'>\\n\"+\n",
       "     \"<p>\\n\"+\n",
       "     \"BokehJS does not appear to have successfully loaded. If loading BokehJS from CDN, this \\n\"+\n",
       "     \"may be due to a slow or bad network connection. Possible fixes:\\n\"+\n",
       "     \"</p>\\n\"+\n",
       "     \"<ul>\\n\"+\n",
       "     \"<li>re-rerun `output_notebook()` to attempt to load from CDN again, or</li>\\n\"+\n",
       "     \"<li>use INLINE resources instead, as so:</li>\\n\"+\n",
       "     \"</ul>\\n\"+\n",
       "     \"<code>\\n\"+\n",
       "     \"from bokeh.resources import INLINE\\n\"+\n",
       "     \"output_notebook(resources=INLINE)\\n\"+\n",
       "     \"</code>\\n\"+\n",
       "     \"</div>\"}};\n",
       "\n",
       "  function display_loaded() {\n",
       "    var el = document.getElementById(\"1001\");\n",
       "    if (el != null) {\n",
       "      el.textContent = \"BokehJS is loading...\";\n",
       "    }\n",
       "    if (root.Bokeh !== undefined) {\n",
       "      if (el != null) {\n",
       "        el.textContent = \"BokehJS \" + root.Bokeh.version + \" successfully loaded.\";\n",
       "      }\n",
       "    } else if (Date.now() < root._bokeh_timeout) {\n",
       "      setTimeout(display_loaded, 100)\n",
       "    }\n",
       "  }\n",
       "\n",
       "\n",
       "  function run_callbacks() {\n",
       "    try {\n",
       "      root._bokeh_onload_callbacks.forEach(function(callback) {\n",
       "        if (callback != null)\n",
       "          callback();\n",
       "      });\n",
       "    } finally {\n",
       "      delete root._bokeh_onload_callbacks\n",
       "    }\n",
       "    console.debug(\"Bokeh: all callbacks have finished\");\n",
       "  }\n",
       "\n",
       "  function load_libs(css_urls, js_urls, callback) {\n",
       "    if (css_urls == null) css_urls = [];\n",
       "    if (js_urls == null) js_urls = [];\n",
       "\n",
       "    root._bokeh_onload_callbacks.push(callback);\n",
       "    if (root._bokeh_is_loading > 0) {\n",
       "      console.debug(\"Bokeh: BokehJS is being loaded, scheduling callback at\", now());\n",
       "      return null;\n",
       "    }\n",
       "    if (js_urls == null || js_urls.length === 0) {\n",
       "      run_callbacks();\n",
       "      return null;\n",
       "    }\n",
       "    console.debug(\"Bokeh: BokehJS not loaded, scheduling load and callback at\", now());\n",
       "    root._bokeh_is_loading = css_urls.length + js_urls.length;\n",
       "\n",
       "    function on_load() {\n",
       "      root._bokeh_is_loading--;\n",
       "      if (root._bokeh_is_loading === 0) {\n",
       "        console.debug(\"Bokeh: all BokehJS libraries/stylesheets loaded\");\n",
       "        run_callbacks()\n",
       "      }\n",
       "    }\n",
       "\n",
       "    function on_error() {\n",
       "      console.error(\"failed to load \" + url);\n",
       "    }\n",
       "\n",
       "    for (var i = 0; i < css_urls.length; i++) {\n",
       "      var url = css_urls[i];\n",
       "      const element = document.createElement(\"link\");\n",
       "      element.onload = on_load;\n",
       "      element.onerror = on_error;\n",
       "      element.rel = \"stylesheet\";\n",
       "      element.type = \"text/css\";\n",
       "      element.href = url;\n",
       "      console.debug(\"Bokeh: injecting link tag for BokehJS stylesheet: \", url);\n",
       "      document.body.appendChild(element);\n",
       "    }\n",
       "\n",
       "    const hashes = {\"https://cdn.bokeh.org/bokeh/release/bokeh-2.1.1.min.js\": \"kLr4fYcqcSpbuI95brIH3vnnYCquzzSxHPU6XGQCIkQRGJwhg0StNbj1eegrHs12\", \"https://cdn.bokeh.org/bokeh/release/bokeh-widgets-2.1.1.min.js\": \"xIGPmVtaOm+z0BqfSOMn4lOR6ciex448GIKG4eE61LsAvmGj48XcMQZtKcE/UXZe\", \"https://cdn.bokeh.org/bokeh/release/bokeh-tables-2.1.1.min.js\": \"Dc9u1wF/0zApGIWoBbH77iWEHtdmkuYWG839Uzmv8y8yBLXebjO9ZnERsde5Ln/P\", \"https://cdn.bokeh.org/bokeh/release/bokeh-gl-2.1.1.min.js\": \"cT9JaBz7GiRXdENrJLZNSC6eMNF3nh3fa5fTF51Svp+ukxPdwcU5kGXGPBgDCa2j\"};\n",
       "\n",
       "    for (var i = 0; i < js_urls.length; i++) {\n",
       "      var url = js_urls[i];\n",
       "      var element = document.createElement('script');\n",
       "      element.onload = on_load;\n",
       "      element.onerror = on_error;\n",
       "      element.async = false;\n",
       "      element.src = url;\n",
       "      if (url in hashes) {\n",
       "        element.crossOrigin = \"anonymous\";\n",
       "        element.integrity = \"sha384-\" + hashes[url];\n",
       "      }\n",
       "      console.debug(\"Bokeh: injecting script tag for BokehJS library: \", url);\n",
       "      document.head.appendChild(element);\n",
       "    }\n",
       "  };\n",
       "\n",
       "  function inject_raw_css(css) {\n",
       "    const element = document.createElement(\"style\");\n",
       "    element.appendChild(document.createTextNode(css));\n",
       "    document.body.appendChild(element);\n",
       "  }\n",
       "\n",
       "  \n",
       "  var js_urls = [\"https://cdn.bokeh.org/bokeh/release/bokeh-2.1.1.min.js\", \"https://cdn.bokeh.org/bokeh/release/bokeh-widgets-2.1.1.min.js\", \"https://cdn.bokeh.org/bokeh/release/bokeh-tables-2.1.1.min.js\", \"https://cdn.bokeh.org/bokeh/release/bokeh-gl-2.1.1.min.js\"];\n",
       "  var css_urls = [];\n",
       "  \n",
       "\n",
       "  var inline_js = [\n",
       "    function(Bokeh) {\n",
       "      Bokeh.set_log_level(\"info\");\n",
       "    },\n",
       "    function(Bokeh) {\n",
       "    \n",
       "    \n",
       "    }\n",
       "  ];\n",
       "\n",
       "  function run_inline_js() {\n",
       "    \n",
       "    if (root.Bokeh !== undefined || force === true) {\n",
       "      \n",
       "    for (var i = 0; i < inline_js.length; i++) {\n",
       "      inline_js[i].call(root, root.Bokeh);\n",
       "    }\n",
       "    if (force === true) {\n",
       "        display_loaded();\n",
       "      }} else if (Date.now() < root._bokeh_timeout) {\n",
       "      setTimeout(run_inline_js, 100);\n",
       "    } else if (!root._bokeh_failed_load) {\n",
       "      console.log(\"Bokeh: BokehJS failed to load within specified timeout.\");\n",
       "      root._bokeh_failed_load = true;\n",
       "    } else if (force !== true) {\n",
       "      var cell = $(document.getElementById(\"1001\")).parents('.cell').data().cell;\n",
       "      cell.output_area.append_execute_result(NB_LOAD_WARNING)\n",
       "    }\n",
       "\n",
       "  }\n",
       "\n",
       "  if (root._bokeh_is_loading === 0) {\n",
       "    console.debug(\"Bokeh: BokehJS loaded, going straight to plotting\");\n",
       "    run_inline_js();\n",
       "  } else {\n",
       "    load_libs(css_urls, js_urls, function() {\n",
       "      console.debug(\"Bokeh: BokehJS plotting callback run at\", now());\n",
       "      run_inline_js();\n",
       "    });\n",
       "  }\n",
       "}(window));"
      ],
      "application/vnd.bokehjs_load.v0+json": "\n(function(root) {\n  function now() {\n    return new Date();\n  }\n\n  var force = true;\n\n  if (typeof root._bokeh_onload_callbacks === \"undefined\" || force === true) {\n    root._bokeh_onload_callbacks = [];\n    root._bokeh_is_loading = undefined;\n  }\n\n  \n\n  \n  if (typeof (root._bokeh_timeout) === \"undefined\" || force === true) {\n    root._bokeh_timeout = Date.now() + 5000;\n    root._bokeh_failed_load = false;\n  }\n\n  var NB_LOAD_WARNING = {'data': {'text/html':\n     \"<div style='background-color: #fdd'>\\n\"+\n     \"<p>\\n\"+\n     \"BokehJS does not appear to have successfully loaded. If loading BokehJS from CDN, this \\n\"+\n     \"may be due to a slow or bad network connection. Possible fixes:\\n\"+\n     \"</p>\\n\"+\n     \"<ul>\\n\"+\n     \"<li>re-rerun `output_notebook()` to attempt to load from CDN again, or</li>\\n\"+\n     \"<li>use INLINE resources instead, as so:</li>\\n\"+\n     \"</ul>\\n\"+\n     \"<code>\\n\"+\n     \"from bokeh.resources import INLINE\\n\"+\n     \"output_notebook(resources=INLINE)\\n\"+\n     \"</code>\\n\"+\n     \"</div>\"}};\n\n  function display_loaded() {\n    var el = document.getElementById(\"1001\");\n    if (el != null) {\n      el.textContent = \"BokehJS is loading...\";\n    }\n    if (root.Bokeh !== undefined) {\n      if (el != null) {\n        el.textContent = \"BokehJS \" + root.Bokeh.version + \" successfully loaded.\";\n      }\n    } else if (Date.now() < root._bokeh_timeout) {\n      setTimeout(display_loaded, 100)\n    }\n  }\n\n\n  function run_callbacks() {\n    try {\n      root._bokeh_onload_callbacks.forEach(function(callback) {\n        if (callback != null)\n          callback();\n      });\n    } finally {\n      delete root._bokeh_onload_callbacks\n    }\n    console.debug(\"Bokeh: all callbacks have finished\");\n  }\n\n  function load_libs(css_urls, js_urls, callback) {\n    if (css_urls == null) css_urls = [];\n    if (js_urls == null) js_urls = [];\n\n    root._bokeh_onload_callbacks.push(callback);\n    if (root._bokeh_is_loading > 0) {\n      console.debug(\"Bokeh: BokehJS is being loaded, scheduling callback at\", now());\n      return null;\n    }\n    if (js_urls == null || js_urls.length === 0) {\n      run_callbacks();\n      return null;\n    }\n    console.debug(\"Bokeh: BokehJS not loaded, scheduling load and callback at\", now());\n    root._bokeh_is_loading = css_urls.length + js_urls.length;\n\n    function on_load() {\n      root._bokeh_is_loading--;\n      if (root._bokeh_is_loading === 0) {\n        console.debug(\"Bokeh: all BokehJS libraries/stylesheets loaded\");\n        run_callbacks()\n      }\n    }\n\n    function on_error() {\n      console.error(\"failed to load \" + url);\n    }\n\n    for (var i = 0; i < css_urls.length; i++) {\n      var url = css_urls[i];\n      const element = document.createElement(\"link\");\n      element.onload = on_load;\n      element.onerror = on_error;\n      element.rel = \"stylesheet\";\n      element.type = \"text/css\";\n      element.href = url;\n      console.debug(\"Bokeh: injecting link tag for BokehJS stylesheet: \", url);\n      document.body.appendChild(element);\n    }\n\n    const hashes = {\"https://cdn.bokeh.org/bokeh/release/bokeh-2.1.1.min.js\": \"kLr4fYcqcSpbuI95brIH3vnnYCquzzSxHPU6XGQCIkQRGJwhg0StNbj1eegrHs12\", \"https://cdn.bokeh.org/bokeh/release/bokeh-widgets-2.1.1.min.js\": \"xIGPmVtaOm+z0BqfSOMn4lOR6ciex448GIKG4eE61LsAvmGj48XcMQZtKcE/UXZe\", \"https://cdn.bokeh.org/bokeh/release/bokeh-tables-2.1.1.min.js\": \"Dc9u1wF/0zApGIWoBbH77iWEHtdmkuYWG839Uzmv8y8yBLXebjO9ZnERsde5Ln/P\", \"https://cdn.bokeh.org/bokeh/release/bokeh-gl-2.1.1.min.js\": \"cT9JaBz7GiRXdENrJLZNSC6eMNF3nh3fa5fTF51Svp+ukxPdwcU5kGXGPBgDCa2j\"};\n\n    for (var i = 0; i < js_urls.length; i++) {\n      var url = js_urls[i];\n      var element = document.createElement('script');\n      element.onload = on_load;\n      element.onerror = on_error;\n      element.async = false;\n      element.src = url;\n      if (url in hashes) {\n        element.crossOrigin = \"anonymous\";\n        element.integrity = \"sha384-\" + hashes[url];\n      }\n      console.debug(\"Bokeh: injecting script tag for BokehJS library: \", url);\n      document.head.appendChild(element);\n    }\n  };\n\n  function inject_raw_css(css) {\n    const element = document.createElement(\"style\");\n    element.appendChild(document.createTextNode(css));\n    document.body.appendChild(element);\n  }\n\n  \n  var js_urls = [\"https://cdn.bokeh.org/bokeh/release/bokeh-2.1.1.min.js\", \"https://cdn.bokeh.org/bokeh/release/bokeh-widgets-2.1.1.min.js\", \"https://cdn.bokeh.org/bokeh/release/bokeh-tables-2.1.1.min.js\", \"https://cdn.bokeh.org/bokeh/release/bokeh-gl-2.1.1.min.js\"];\n  var css_urls = [];\n  \n\n  var inline_js = [\n    function(Bokeh) {\n      Bokeh.set_log_level(\"info\");\n    },\n    function(Bokeh) {\n    \n    \n    }\n  ];\n\n  function run_inline_js() {\n    \n    if (root.Bokeh !== undefined || force === true) {\n      \n    for (var i = 0; i < inline_js.length; i++) {\n      inline_js[i].call(root, root.Bokeh);\n    }\n    if (force === true) {\n        display_loaded();\n      }} else if (Date.now() < root._bokeh_timeout) {\n      setTimeout(run_inline_js, 100);\n    } else if (!root._bokeh_failed_load) {\n      console.log(\"Bokeh: BokehJS failed to load within specified timeout.\");\n      root._bokeh_failed_load = true;\n    } else if (force !== true) {\n      var cell = $(document.getElementById(\"1001\")).parents('.cell').data().cell;\n      cell.output_area.append_execute_result(NB_LOAD_WARNING)\n    }\n\n  }\n\n  if (root._bokeh_is_loading === 0) {\n    console.debug(\"Bokeh: BokehJS loaded, going straight to plotting\");\n    run_inline_js();\n  } else {\n    load_libs(css_urls, js_urls, function() {\n      console.debug(\"Bokeh: BokehJS plotting callback run at\", now());\n      run_inline_js();\n    });\n  }\n}(window));"
     },
     "metadata": {},
     "output_type": "display_data"
    }
   ],
   "source": [
    "import bokeh\n",
    "bokeh.io.reset_output()\n",
    "bokeh.io.output_notebook()"
   ]
  },
  {
   "cell_type": "code",
   "execution_count": 9,
   "metadata": {},
   "outputs": [
    {
     "data": {
      "text/html": [
       "<div>\n",
       "<style scoped>\n",
       "    .dataframe tbody tr th:only-of-type {\n",
       "        vertical-align: middle;\n",
       "    }\n",
       "\n",
       "    .dataframe tbody tr th {\n",
       "        vertical-align: top;\n",
       "    }\n",
       "\n",
       "    .dataframe thead th {\n",
       "        text-align: right;\n",
       "    }\n",
       "</style>\n",
       "<table border=\"1\" class=\"dataframe\">\n",
       "  <thead>\n",
       "    <tr style=\"text-align: right;\">\n",
       "      <th></th>\n",
       "      <th>year</th>\n",
       "      <th>min</th>\n",
       "      <th>max</th>\n",
       "    </tr>\n",
       "  </thead>\n",
       "  <tbody>\n",
       "    <tr>\n",
       "      <th>0</th>\n",
       "      <td>1928</td>\n",
       "      <td>2.01</td>\n",
       "      <td>45.49</td>\n",
       "    </tr>\n",
       "    <tr>\n",
       "      <th>1</th>\n",
       "      <td>1929</td>\n",
       "      <td>-8.30</td>\n",
       "      <td>4.20</td>\n",
       "    </tr>\n",
       "    <tr>\n",
       "      <th>2</th>\n",
       "      <td>1930</td>\n",
       "      <td>-23.07</td>\n",
       "      <td>7.42</td>\n",
       "    </tr>\n",
       "    <tr>\n",
       "      <th>3</th>\n",
       "      <td>1931</td>\n",
       "      <td>-38.33</td>\n",
       "      <td>12.34</td>\n",
       "    </tr>\n",
       "    <tr>\n",
       "      <th>4</th>\n",
       "      <td>1932</td>\n",
       "      <td>1.85</td>\n",
       "      <td>37.78</td>\n",
       "    </tr>\n",
       "    <tr>\n",
       "      <th>...</th>\n",
       "      <td>...</td>\n",
       "      <td>...</td>\n",
       "      <td>...</td>\n",
       "    </tr>\n",
       "    <tr>\n",
       "      <th>87</th>\n",
       "      <td>2015</td>\n",
       "      <td>-0.82</td>\n",
       "      <td>1.26</td>\n",
       "    </tr>\n",
       "    <tr>\n",
       "      <th>88</th>\n",
       "      <td>2016</td>\n",
       "      <td>-0.93</td>\n",
       "      <td>10.38</td>\n",
       "    </tr>\n",
       "    <tr>\n",
       "      <th>89</th>\n",
       "      <td>2017</td>\n",
       "      <td>-1.17</td>\n",
       "      <td>19.07</td>\n",
       "    </tr>\n",
       "    <tr>\n",
       "      <th>90</th>\n",
       "      <td>2018</td>\n",
       "      <td>-6.51</td>\n",
       "      <td>-0.49</td>\n",
       "    </tr>\n",
       "    <tr>\n",
       "      <th>91</th>\n",
       "      <td>2019</td>\n",
       "      <td>-0.72</td>\n",
       "      <td>28.29</td>\n",
       "    </tr>\n",
       "  </tbody>\n",
       "</table>\n",
       "<p>92 rows × 3 columns</p>\n",
       "</div>"
      ],
      "text/plain": [
       "    year    min    max\n",
       "0   1928   2.01  45.49\n",
       "1   1929  -8.30   4.20\n",
       "2   1930 -23.07   7.42\n",
       "3   1931 -38.33  12.34\n",
       "4   1932   1.85  37.78\n",
       "..   ...    ...    ...\n",
       "87  2015  -0.82   1.26\n",
       "88  2016  -0.93  10.38\n",
       "89  2017  -1.17  19.07\n",
       "90  2018  -6.51  -0.49\n",
       "91  2019  -0.72  28.29\n",
       "\n",
       "[92 rows x 3 columns]"
      ]
     },
     "execution_count": 9,
     "metadata": {},
     "output_type": "execute_result"
    }
   ],
   "source": [
    "min_max = pd.DataFrame.from_dict({'year': df['year'], 'min':min_list, 'max':max_list})\n",
    "min_max"
   ]
  },
  {
   "cell_type": "code",
   "execution_count": 10,
   "metadata": {},
   "outputs": [
    {
     "data": {
      "text/html": [
       "\n",
       "\n",
       "\n",
       "\n",
       "\n",
       "\n",
       "  <div class=\"bk-root\" id=\"96c1ceb3-e1ae-443a-8129-2920cd5c801e\" data-root-id=\"1004\"></div>\n"
      ]
     },
     "metadata": {},
     "output_type": "display_data"
    },
    {
     "data": {
      "application/javascript": [
       "(function(root) {\n",
       "  function embed_document(root) {\n",
       "    \n",
       "  var docs_json = {\"fb5521ed-ef46-4241-8752-01c0b8175f7c\":{\"roots\":{\"references\":[{\"attributes\":{\"below\":[{\"id\":\"1012\"}],\"center\":[{\"id\":\"1015\"},{\"id\":\"1019\"},{\"id\":\"1042\"}],\"left\":[{\"id\":\"1016\"}],\"plot_height\":500,\"plot_width\":800,\"renderers\":[{\"id\":\"1035\"},{\"id\":\"1040\"}],\"title\":{\"id\":\"1044\"},\"toolbar\":{\"id\":\"1026\"},\"x_range\":{\"id\":\"1005\"},\"x_scale\":{\"id\":\"1008\"},\"y_range\":{\"id\":\"1003\"},\"y_scale\":{\"id\":\"1010\"}},\"id\":\"1004\",\"subtype\":\"Figure\",\"type\":\"Plot\"},{\"attributes\":{},\"id\":\"1017\",\"type\":\"BasicTicker\"},{\"attributes\":{\"end\":60.142,\"start\":-40.842},\"id\":\"1003\",\"type\":\"Range1d\"},{\"attributes\":{},\"id\":\"1052\",\"type\":\"UnionRenderers\"},{\"attributes\":{},\"id\":\"1008\",\"type\":\"LinearScale\"},{\"attributes\":{\"line_alpha\":0.1,\"line_color\":\"grey\",\"x\":{\"field\":\"year\"},\"y\":{\"field\":\"min\"}},\"id\":\"1034\",\"type\":\"Line\"},{\"attributes\":{\"axis\":{\"id\":\"1016\"},\"dimension\":1,\"grid_line_alpha\":0.5,\"ticker\":null},\"id\":\"1019\",\"type\":\"Grid\"},{\"attributes\":{},\"id\":\"1051\",\"type\":\"Selection\"},{\"attributes\":{\"active_drag\":\"auto\",\"active_inspect\":\"auto\",\"active_multi\":null,\"active_scroll\":\"auto\",\"active_tap\":\"auto\",\"tools\":[{\"id\":\"1020\"},{\"id\":\"1021\"},{\"id\":\"1022\"},{\"id\":\"1023\"},{\"id\":\"1024\"}]},\"id\":\"1026\",\"type\":\"Toolbar\"},{\"attributes\":{\"axis_label\":\"%\",\"formatter\":{\"id\":\"1049\"},\"ticker\":{\"id\":\"1017\"}},\"id\":\"1016\",\"type\":\"LinearAxis\"},{\"attributes\":{\"source\":{\"id\":\"1002\"}},\"id\":\"1041\",\"type\":\"CDSView\"},{\"attributes\":{\"line_color\":\"grey\",\"x\":{\"field\":\"year\"},\"y\":{\"field\":\"max\"}},\"id\":\"1038\",\"type\":\"Line\"},{\"attributes\":{},\"id\":\"1049\",\"type\":\"BasicTickFormatter\"},{\"attributes\":{\"bottom_units\":\"screen\",\"fill_alpha\":0.5,\"fill_color\":\"lightgrey\",\"left_units\":\"screen\",\"level\":\"overlay\",\"line_alpha\":1.0,\"line_color\":\"black\",\"line_dash\":[4,4],\"line_width\":2,\"right_units\":\"screen\",\"top_units\":\"screen\"},\"id\":\"1025\",\"type\":\"BoxAnnotation\"},{\"attributes\":{\"line_color\":\"grey\",\"x\":{\"field\":\"year\"},\"y\":{\"field\":\"min\"}},\"id\":\"1033\",\"type\":\"Line\"},{\"attributes\":{},\"id\":\"1020\",\"type\":\"PanTool\"},{\"attributes\":{\"text\":\"Best to Worst\"},\"id\":\"1044\",\"type\":\"Title\"},{\"attributes\":{},\"id\":\"1021\",\"type\":\"WheelZoomTool\"},{\"attributes\":{\"data_source\":{\"id\":\"1002\"},\"glyph\":{\"id\":\"1038\"},\"hover_glyph\":null,\"muted_glyph\":null,\"nonselection_glyph\":{\"id\":\"1039\"},\"selection_glyph\":null,\"view\":{\"id\":\"1041\"}},\"id\":\"1040\",\"type\":\"GlyphRenderer\"},{\"attributes\":{},\"id\":\"1013\",\"type\":\"BasicTicker\"},{\"attributes\":{\"overlay\":{\"id\":\"1025\"}},\"id\":\"1022\",\"type\":\"BoxZoomTool\"},{\"attributes\":{\"data\":{\"index\":[0,1,2,3,4,5,6,7,8,9,10,11,12,13,14,15,16,17,18,19,20,21,22,23,24,25,26,27,28,29,30,31,32,33,34,35,36,37,38,39,40,41,42,43,44,45,46,47,48,49,50,51,52,53,54,55,56,57,58,59,60,61,62,63,64,65,66,67,68,69,70,71,72,73,74,75,76,77,78,79,80,81,82,83,84,85,86,87,88,89,90,91],\"level_0\":[0,1,2,3,4,5,6,7,8,9,10,11,12,13,14,15,16,17,18,19,20,21,22,23,24,25,26,27,28,29,30,31,32,33,34,35,36,37,38,39,40,41,42,43,44,45,46,47,48,49,50,51,52,53,54,55,56,57,58,59,60,61,62,63,64,65,66,67,68,69,70,71,72,73,74,75,76,77,78,79,80,81,82,83,84,85,86,87,88,89,90,91],\"max\":{\"__ndarray__\":\"H4XrUbi+RkDNzMzMzMwQQK5H4XoUrh1ArkfhehSuKECkcD0K1+NCQJqZmZmZGU1ApHA9CtejLUDsUbgehYtFQJqZmZmZmT5AFK5H4XoUAsD2KFyPwvU/QFK4HoXr0SJAexSuR+F6H0CamZmZmZm5v8P1KFyPwh1AhetRuB4FMkBcj8L1KBwxQGZmZmZmZkBAuB6F61G4E8CPwvUoXA8gwHE9CtejcP2/9ihcj8J1M0BmZmZmZmY9QNejcD0KVy1ACtejcD0KL0BmZmZmZmYKQOxRuB6FC0pAXI/C9Sh8QEBSuB6F61EXQLgehetRuApAMzMzMzPzQ0DhehSuR+ElQBSuR+F6FCRAzczMzMxMOUDsUbgehesUQFyPwvUoHDVAZmZmZmbmLUDNzMzMzEwlQKRwPQrXo/w/9ihcj8J1NEAfhetRuB4ZQD0K16NwPfI/H4XrUbieJEAK16NwPQojQHsUrkfh+i1AmpmZmZmZ6T8zMzMzMzMHwIXrUbgehTlAmpmZmZkZMUDsUbgehesJQD0K16NwPdq/H4XrUbgeGkCF61G4HgUwQLgehetRuApApHA9CtcjOUBI4XoUrocyQDMzMzMzsyVAPQrXo3C9OkC4HoXrUfg1QI/C9ShcjwBAcT0K16PwJ0DsUbgehWs5QNejcD0K1/8/cT0K16PwOEA9CtejcL0hQK5H4XoULipAmpmZmZmZ+T+amZmZmblAQHE9CtejMDNAj8L1KFwPPkDhehSuR2E6QM3MzMzMTDJArkfhehSuKUBxPQrXo3ATQKRwPQrXoypAw/UoXI+COUBxPQrXo3AfQIXrUbgehfc/AAAAAAAAKECamZmZmZkcQFK4HoXrUS9A4XoUrkdhOkBxPQrXo/ApQPYoXI/C9ShAFK5H4XoUK0A9CtejcD0+QOxRuB6FaydAKVyPwvUo9D/D9Shcj8IkQFK4HoXrETNAXI/C9Shc378K16NwPUo8QA==\",\"dtype\":\"float64\",\"order\":\"little\",\"shape\":[92]},\"min\":{\"__ndarray__\":\"FK5H4XoUAECamZmZmZkgwFK4HoXrETfACtejcD0qQ8CamZmZmZn9P/YoXI/C9RlACtejcD0KEsCkcD0K16MCwDMzMzMzM+u/FK5H4XrUQsAfhetRuB4BQOF6FK5H4co/H4XrUbieJsCF61G4HgUxwBSuR+F6FCPAFK5H4XoUFcDXo3A9Ctfzv5qZmZmZmf2/KVyPwvUoL8AzMzMzM7MowK5H4XoUrhjA4XoUrkfhAEDNzMzMzMzkvz0K16NwPR7ASOF6FK5H4b8UrkfhehQAwClcj8L1KOQ/9ihcj8L18L+PwvUoXI8OwDMzMzMzsyrAzczMzMzMEsD2KFyPwvUMwMP1KFyPwvG/XI/C9Shc7z9I4XoUrscjwClcj8L1KNw/7FG4HoXrAUAzMzMzMzPrv7gehetROCnA9ihcj8L1EMC4HoXrUbjuv3sUrkfh+inAMzMzMzMzAcB7FK5H4XqkPylcj8L1KNy/CtejcD1KM8CkcD0K16NAwEjhehSuRxTAXI/C9Shc579SuB6F61EpwD0K16NwPR/A16NwPQrXJ8AzMzMzM7MtwMP1KFyPQivA4XoUrkfhEEB7FK5H4XqEv1K4HoXrUfw/ZmZmZmZmDkAAAAAAAAAQQKRwPQrXoyDA7FG4HoXrA0AK16NwPQoJQI/C9ShcDyDAcT0K16Nw8T/2KFyPwvXYP3sUrkfheqQ/PQrXo3C9JMDhehSuR+EEQFyPwvUoXPe/SOF6FK5HBUBxPQrXo3AJQHE9CtejcCTAAAAAAAAAKMAK16NwPYoswK5H4XoULjfAmpmZmZmZ/b9SuB6F61H0v1K4HoXrUeC/rkfhehSu87+PwvUoXI/SPzMzMzMzc0PAmpmZmZmZJcCuR+F6FK73vxSuR+F6FAjACtejcD0K/7/Xo3A9CtckwPYoXI/C9fi/PQrXo3A96r/D9Shcj8Ltv7gehetRuPK/CtejcD0KGsAK16NwPQrnvw==\",\"dtype\":\"float64\",\"order\":\"little\",\"shape\":[92]},\"year\":[1928,1929,1930,1931,1932,1933,1934,1935,1936,1937,1938,1939,1940,1941,1942,1943,1944,1945,1946,1947,1948,1949,1950,1951,1952,1953,1954,1955,1956,1957,1958,1959,1960,1961,1962,1963,1964,1965,1966,1967,1968,1969,1970,1971,1972,1973,1974,1975,1976,1977,1978,1979,1980,1981,1982,1983,1984,1985,1986,1987,1988,1989,1990,1991,1992,1993,1994,1995,1996,1997,1998,1999,2000,2001,2002,2003,2004,2005,2006,2007,2008,2009,2010,2011,2012,2013,2014,2015,2016,2017,2018,2019]},\"selected\":{\"id\":\"1051\"},\"selection_policy\":{\"id\":\"1052\"}},\"id\":\"1002\",\"type\":\"ColumnDataSource\"},{\"attributes\":{\"base\":{\"field\":\"year\",\"units\":\"data\"},\"fill_alpha\":0.3,\"level\":\"underlay\",\"line_color\":\"blue\",\"lower\":{\"field\":\"min\",\"units\":\"data\"},\"source\":{\"id\":\"1002\"},\"upper\":{\"field\":\"max\",\"units\":\"data\"}},\"id\":\"1042\",\"type\":\"Band\"},{\"attributes\":{},\"id\":\"1023\",\"type\":\"ResetTool\"},{\"attributes\":{},\"id\":\"1024\",\"type\":\"SaveTool\"},{\"attributes\":{\"source\":{\"id\":\"1002\"}},\"id\":\"1036\",\"type\":\"CDSView\"},{\"attributes\":{\"axis_label\":\"year\",\"formatter\":{\"id\":\"1047\"},\"ticker\":{\"id\":\"1013\"}},\"id\":\"1012\",\"type\":\"LinearAxis\"},{\"attributes\":{\"axis\":{\"id\":\"1012\"},\"grid_line_alpha\":0.5,\"ticker\":null},\"id\":\"1015\",\"type\":\"Grid\"},{\"attributes\":{},\"id\":\"1010\",\"type\":\"LinearScale\"},{\"attributes\":{\"line_alpha\":0.1,\"line_color\":\"grey\",\"x\":{\"field\":\"year\"},\"y\":{\"field\":\"max\"}},\"id\":\"1039\",\"type\":\"Line\"},{\"attributes\":{},\"id\":\"1047\",\"type\":\"BasicTickFormatter\"},{\"attributes\":{\"data_source\":{\"id\":\"1002\"},\"glyph\":{\"id\":\"1033\"},\"hover_glyph\":null,\"muted_glyph\":null,\"nonselection_glyph\":{\"id\":\"1034\"},\"selection_glyph\":null,\"view\":{\"id\":\"1036\"}},\"id\":\"1035\",\"type\":\"GlyphRenderer\"},{\"attributes\":{},\"id\":\"1005\",\"type\":\"DataRange1d\"}],\"root_ids\":[\"1004\"]},\"title\":\"Bokeh Application\",\"version\":\"2.1.1\"}};\n",
       "  var render_items = [{\"docid\":\"fb5521ed-ef46-4241-8752-01c0b8175f7c\",\"root_ids\":[\"1004\"],\"roots\":{\"1004\":\"96c1ceb3-e1ae-443a-8129-2920cd5c801e\"}}];\n",
       "  root.Bokeh.embed.embed_items_notebook(docs_json, render_items);\n",
       "\n",
       "  }\n",
       "  if (root.Bokeh !== undefined) {\n",
       "    embed_document(root);\n",
       "  } else {\n",
       "    var attempts = 0;\n",
       "    var timer = setInterval(function(root) {\n",
       "      if (root.Bokeh !== undefined) {\n",
       "        clearInterval(timer);\n",
       "        embed_document(root);\n",
       "      } else {\n",
       "        attempts++;\n",
       "        if (attempts > 100) {\n",
       "          clearInterval(timer);\n",
       "          console.log(\"Bokeh: ERROR: Unable to run BokehJS code because BokehJS library is missing\");\n",
       "        }\n",
       "      }\n",
       "    }, 10, root)\n",
       "  }\n",
       "})(window);"
      ],
      "application/vnd.bokehjs_exec.v0+json": ""
     },
     "metadata": {
      "application/vnd.bokehjs_exec.v0+json": {
       "id": "1004"
      }
     },
     "output_type": "display_data"
    }
   ],
   "source": [
    "plot_between_lines(min_max, x_col='year', lower_col='min', upper_col='max', \n",
    "                   title='Best to Worst', x_axis_label='year', y_axis_label='%')"
   ]
  },
  {
   "cell_type": "markdown",
   "metadata": {},
   "source": [
    "From the graph, there are some years where the performance varies widely, while other years everything returns about the same performance."
   ]
  },
  {
   "cell_type": "markdown",
   "metadata": {},
   "source": [
    "## Defining an Environment\n",
    "\n",
    "Now let's define a Gym environment so that we can train a contextual bandit to optimize annual investments over that period."
   ]
  },
  {
   "cell_type": "code",
   "execution_count": 11,
   "metadata": {},
   "outputs": [],
   "source": [
    "import gym\n",
    "from gym.spaces import Discrete, Box\n",
    "from gym.utils import seeding\n",
    "import numpy as np\n",
    "import random"
   ]
  },
  {
   "cell_type": "markdown",
   "metadata": {},
   "source": [
    "This is the bandit we'll use to represent the market \"environment\"."
   ]
  },
  {
   "cell_type": "code",
   "execution_count": 12,
   "metadata": {},
   "outputs": [],
   "source": [
    "class MarketBandit (gym.Env):\n",
    "    \n",
    "    def __init__ (self, config={}):\n",
    "        self.max_inflation = config.get('max-inflation', DEFAULT_MAX_INFLATION)\n",
    "        self.tickers = config.get('tickers', DEFAULT_TICKERS)\n",
    "        self.data_file = config.get('data-file', DEFAULT_DATA_FILE)\n",
    "        print(f\"MarketBandit: max_inflation: {self.max_inflation}, tickers: {self.tickers}, data file: {self.data_file} (config: {config})\")\n",
    "\n",
    "        self.action_space = Discrete(4)\n",
    "        self.observation_space = Box(\n",
    "            low  = -self.max_inflation,\n",
    "            high =  self.max_inflation,\n",
    "            shape=(1, )\n",
    "        )\n",
    "        self.df = load_market_data(self.data_file)\n",
    "        self.cur_context = None\n",
    "\n",
    "\n",
    "    def reset (self):\n",
    "        self.year = self.df[\"year\"].min()\n",
    "        self.cur_context = self.df.loc[self.df[\"year\"] == self.year][\"inflation\"][0]\n",
    "        self.done = False\n",
    "        self.info = {}\n",
    "\n",
    "        return [self.cur_context]\n",
    "\n",
    "\n",
    "    def step (self, action):\n",
    "        if self.done:\n",
    "            reward = 0.\n",
    "            regret = 0.\n",
    "        else:\n",
    "            row = self.df.loc[self.df[\"year\"] == self.year]\n",
    "\n",
    "            # calculate reward\n",
    "            ticker = self.tickers[action]\n",
    "            reward = float(row[ticker])\n",
    "\n",
    "            # calculate regret\n",
    "            max_reward = max(map(lambda t: float(row[t]), self.tickers))\n",
    "            regret = round(max_reward - reward)\n",
    "\n",
    "            # update the context\n",
    "            self.cur_context = float(row[\"inflation\"])\n",
    "\n",
    "            # increment the year\n",
    "            self.year += 1\n",
    "\n",
    "            if self.year >= self.df[\"year\"].max():\n",
    "                self.done = True\n",
    "\n",
    "        context = [self.cur_context]\n",
    "        #context = self.observation_space.sample()\n",
    "\n",
    "        self.info = {\n",
    "            \"regret\": regret,\n",
    "            \"year\": self.year\n",
    "        }\n",
    "         \n",
    "        return [context, reward, self.done, self.info]\n",
    "\n",
    "\n",
    "    def seed (self, seed=None):\n",
    "        \"\"\"Sets the seed for this env's random number generator(s).\n",
    "        Note:\n",
    "            Some environments use multiple pseudorandom number generators.\n",
    "            We want to capture all such seeds used in order to ensure that\n",
    "            there aren't accidental correlations between multiple generators.\n",
    "        Returns:\n",
    "            list<bigint>: Returns the list of seeds used in this env's random\n",
    "              number generators. The first value in the list should be the\n",
    "              \"main\" seed, or the value which a reproducer should pass to\n",
    "              'seed'. Often, the main seed equals the provided 'seed', but\n",
    "              this won't be true if seed=None, for example.\n",
    "        \"\"\"\n",
    "        self.np_random, seed = seeding.np_random(seed)\n",
    "        return [seed]"
   ]
  },
  {
   "cell_type": "markdown",
   "metadata": {},
   "source": [
    "Let's see it in action:"
   ]
  },
  {
   "cell_type": "code",
   "execution_count": 13,
   "metadata": {},
   "outputs": [
    {
     "name": "stdout",
     "output_type": "stream",
     "text": [
      "MarketBandit: max_inflation: 100.0, tickers: ['sp500', 't.bill', 't.bond', 'corp'], data file: /home/paul/academy/ray-rllib/multi-armed-bandits/market.tsv (config: {})\n",
      "2 [[-1.15], 2.01, False, {'regret': 43, 'year': 1929}]\n",
      "1 [[0.0], 3.16, False, {'regret': 1, 'year': 1930}]\n",
      "1 [[-2.67], 7.42, False, {'regret': 0, 'year': 1931}]\n",
      "3 [[-8.93], -7.41, False, {'regret': 20, 'year': 1932}]\n",
      "0 [[-10.3], 1.85, False, {'regret': 36, 'year': 1933}]\n",
      "2 [[-5.19], 7.43, False, {'regret': 51, 'year': 1934}]\n",
      "3 [[3.48], 14.82, False, {'regret': 0, 'year': 1935}]\n",
      "2 [[2.55], 1.87, False, {'regret': 41, 'year': 1936}]\n",
      "1 [[1.03], -0.85, False, {'regret': 31, 'year': 1937}]\n",
      "2 [[3.73], -2.26, False, {'regret': 0, 'year': 1938}]\n"
     ]
    }
   ],
   "source": [
    "bandit = MarketBandit()\n",
    "bandit.reset()\n",
    "\n",
    "for i in range(10):\n",
    "    action = bandit.action_space.sample()\n",
    "    obs = bandit.step(action)\n",
    "    print(action, obs)"
   ]
  },
  {
   "cell_type": "markdown",
   "metadata": {},
   "source": [
    "We can use this environment in a kind of *monte carlo simulation* to measure a baseline for what the rewards would be over a long period if you always used a random action."
   ]
  },
  {
   "cell_type": "code",
   "execution_count": 14,
   "metadata": {},
   "outputs": [],
   "source": [
    "done = 1\n",
    "reward_list = []\n",
    "iterations = 10000 #50000\n",
    "\n",
    "for i in range(iterations):\n",
    "    if done == 1:\n",
    "        bandit.reset()\n",
    "\n",
    "    action = bandit.action_space.sample()\n",
    "    obs = bandit.step(action)\n",
    "    context, reward, done, info = obs\n",
    "    reward_list.append(reward)\n",
    "    #print(action, context, reward, done, info)"
   ]
  },
  {
   "cell_type": "code",
   "execution_count": 15,
   "metadata": {},
   "outputs": [
    {
     "data": {
      "text/plain": [
       "reward    3.543726\n",
       "dtype: float64"
      ]
     },
     "execution_count": 15,
     "metadata": {},
     "output_type": "execute_result"
    }
   ],
   "source": [
    "df_mc = pd.DataFrame(reward_list, columns=[\"reward\"])\n",
    "df_mc.mean()"
   ]
  },
  {
   "cell_type": "markdown",
   "metadata": {},
   "source": [
    "Depending on the number of iterations, you'll probably get a value approaching 3.75% as a baseline for random actions. That's more than the -5.64% worst case and must less than 15.18% best case for the reward!"
   ]
  },
  {
   "cell_type": "code",
   "execution_count": 16,
   "metadata": {},
   "outputs": [
    {
     "data": {
      "text/html": [
       "\n",
       "\n",
       "\n",
       "\n",
       "\n",
       "\n",
       "  <div class=\"bk-root\" id=\"08dae50a-7901-45ef-8313-20c35249a212\" data-root-id=\"1110\"></div>\n"
      ]
     },
     "metadata": {},
     "output_type": "display_data"
    },
    {
     "data": {
      "application/javascript": [
       "(function(root) {\n",
       "  function embed_document(root) {\n",
       "    \n",
       "  var docs_json = {\"1afb6d66-702a-4a04-89c3-23f7b59449be\":{\"roots\":{\"references\":[{\"attributes\":{\"below\":[{\"id\":\"1118\"}],\"center\":[{\"id\":\"1121\"},{\"id\":\"1125\"}],\"left\":[{\"id\":\"1122\"}],\"plot_height\":500,\"plot_width\":800,\"renderers\":[{\"id\":\"1141\"},{\"id\":\"1146\"}],\"title\":{\"id\":\"1150\"},\"toolbar\":{\"id\":\"1132\"},\"x_range\":{\"id\":\"1111\"},\"x_scale\":{\"id\":\"1114\"},\"y_range\":{\"id\":\"1109\"},\"y_scale\":{\"id\":\"1116\"}},\"id\":\"1110\",\"subtype\":\"Figure\",\"type\":\"Plot\"},{\"attributes\":{\"overlay\":{\"id\":\"1131\"}},\"id\":\"1128\",\"type\":\"BoxZoomTool\"},{\"attributes\":{\"end\":60.142,\"start\":-40.842},\"id\":\"1109\",\"type\":\"Range1d\"},{\"attributes\":{},\"id\":\"1126\",\"type\":\"PanTool\"},{\"attributes\":{\"x\":{\"field\":\"index\"},\"y\":{\"field\":\"reward\"}},\"id\":\"1144\",\"type\":\"Line\"},{\"attributes\":{\"callback\":null,\"tooltips\":[[\"index\",\"$x\"],[\"reward\",\"$y\"]]},\"id\":\"1148\",\"type\":\"HoverTool\"},{\"attributes\":{\"data_source\":{\"id\":\"1108\"},\"glyph\":{\"id\":\"1139\"},\"hover_glyph\":null,\"muted_glyph\":null,\"nonselection_glyph\":{\"id\":\"1140\"},\"selection_glyph\":null,\"view\":{\"id\":\"1142\"}},\"id\":\"1141\",\"type\":\"GlyphRenderer\"},{\"attributes\":{\"text\":\"Reward Over Iterations\"},\"id\":\"1150\",\"type\":\"Title\"},{\"attributes\":{},\"id\":\"1119\",\"type\":\"BasicTicker\"},{\"attributes\":{},\"id\":\"1123\",\"type\":\"BasicTicker\"},{\"attributes\":{\"axis\":{\"id\":\"1118\"},\"grid_line_alpha\":0.5,\"ticker\":null},\"id\":\"1121\",\"type\":\"Grid\"},{\"attributes\":{},\"id\":\"1162\",\"type\":\"BasicTickFormatter\"},{\"attributes\":{\"axis\":{\"id\":\"1122\"},\"dimension\":1,\"grid_line_alpha\":0.5,\"ticker\":null},\"id\":\"1125\",\"type\":\"Grid\"},{\"attributes\":{\"fill_alpha\":{\"value\":0.3},\"fill_color\":{\"value\":\"#1f77b4\"},\"line_color\":{\"value\":\"blue\"},\"size\":{\"units\":\"screen\",\"value\":3},\"x\":{\"field\":\"index\"},\"y\":{\"field\":\"reward\"}},\"id\":\"1139\",\"type\":\"Scatter\"},{\"attributes\":{\"formatter\":{\"id\":\"1164\"},\"ticker\":{\"id\":\"1123\"}},\"id\":\"1122\",\"type\":\"LinearAxis\"},{\"attributes\":{},\"id\":\"1164\",\"type\":\"BasicTickFormatter\"},{\"attributes\":{},\"id\":\"1166\",\"type\":\"Selection\"},{\"attributes\":{},\"id\":\"1114\",\"type\":\"LinearScale\"},{\"attributes\":{},\"id\":\"1127\",\"type\":\"WheelZoomTool\"},{\"attributes\":{\"active_drag\":\"auto\",\"active_inspect\":\"auto\",\"active_multi\":null,\"active_scroll\":\"auto\",\"active_tap\":\"auto\",\"tools\":[{\"id\":\"1126\"},{\"id\":\"1127\"},{\"id\":\"1128\"},{\"id\":\"1129\"},{\"id\":\"1130\"},{\"id\":\"1148\"}]},\"id\":\"1132\",\"type\":\"Toolbar\"},{\"attributes\":{},\"id\":\"1167\",\"type\":\"UnionRenderers\"},{\"attributes\":{\"bottom_units\":\"screen\",\"fill_alpha\":0.5,\"fill_color\":\"lightgrey\",\"left_units\":\"screen\",\"level\":\"overlay\",\"line_alpha\":1.0,\"line_color\":\"black\",\"line_dash\":[4,4],\"line_width\":2,\"right_units\":\"screen\",\"top_units\":\"screen\"},\"id\":\"1131\",\"type\":\"BoxAnnotation\"},{\"attributes\":{\"formatter\":{\"id\":\"1162\"},\"ticker\":{\"id\":\"1119\"}},\"id\":\"1118\",\"type\":\"LinearAxis\"},{\"attributes\":{},\"id\":\"1116\",\"type\":\"LinearScale\"},{\"attributes\":{\"data\":{\"index\":[0,1,2,3,4,5,6,7,8,9,10,11,12,13,14,15,16,17,18,19,20,21,22,23,24,25,26,27,28,29,30,31,32,33,34,35,36,37,38,39,40,41,42,43,44,45,46,47,48,49,50,51,52,53,54,55,56,57,58,59,60,61,62,63,64,65,66,67,68,69,70,71,72,73,74,75,76,77,78,79,80,81,82,83,84,85,86,87,88,89,90,91,92,93,94,95,96,97,98,99,100,101,102,103,104,105,106,107,108,109,110,111,112,113,114,115,116,117,118,119,120,121,122,123,124,125,126,127,128,129,130,131,132,133,134,135,136,137,138,139,140,141,142,143,144,145,146,147,148,149,150,151,152,153,154,155,156,157,158,159,160,161,162,163,164,165,166,167,168,169,170,171,172,173,174,175,176,177,178,179,180,181,182,183,184,185,186,187,188,189,190,191,192,193,194,195,196,197,198,199,200,201,202,203,204,205,206,207,208,209,210,211,212,213,214,215,216,217,218,219,220,221,222,223,224,225,226,227,228,229,230,231,232,233,234,235,236,237,238,239,240,241,242,243,244,245,246,247,248,249,250,251,252,253,254,255,256,257,258,259,260,261,262,263,264,265,266,267,268,269,270,271,272,273,274,275,276,277,278,279,280,281,282,283,284,285,286,287,288,289,290,291,292,293,294,295,296,297,298,299,300,301,302,303,304,305,306,307,308,309,310,311,312,313,314,315,316,317,318,319,320,321,322,323,324,325,326,327,328,329,330,331,332,333,334,335,336,337,338,339,340,341,342,343,344,345,346,347,348,349,350,351,352,353,354,355,356,357,358,359,360,361,362,363,364,365,366,367,368,369,370,371,372,373,374,375,376,377,378,379,380,381,382,383,384,385,386,387,388,389,390,391,392,393,394,395,396,397,398,399,400,401,402,403,404,405,406,407,408,409,410,411,412,413,414,415,416,417,418,419,420,421,422,423,424,425,426,427,428,429,430,431,432,433,434,435,436,437,438,439,440,441,442,443,444,445,446,447,448,449,450,451,452,453,454,455,456,457,458,459,460,461,462,463,464,465,466,467,468,469,470,471,472,473,474,475,476,477,478,479,480,481,482,483,484,485,486,487,488,489,490,491,492,493,494,495,496,497,498,499,500,501,502,503,504,505,506,507,508,509,510,511,512,513,514,515,516,517,518,519,520,521,522,523,524,525,526,527,528,529,530,531,532,533,534,535,536,537,538,539,540,541,542,543,544,545,546,547,548,549,550,551,552,553,554,555,556,557,558,559,560,561,562,563,564,565,566,567,568,569,570,571,572,573,574,575,576,577,578,579,580,581,582,583,584,585,586,587,588,589,590,591,592,593,594,595,596,597,598,599,600,601,602,603,604,605,606,607,608,609,610,611,612,613,614,615,616,617,618,619,620,621,622,623,624,625,626,627,628,629,630,631,632,633,634,635,636,637,638,639,640,641,642,643,644,645,646,647,648,649,650,651,652,653,654,655,656,657,658,659,660,661,662,663,664,665,666,667,668,669,670,671,672,673,674,675,676,677,678,679,680,681,682,683,684,685,686,687,688,689,690,691,692,693,694,695,696,697,698,699,700,701,702,703,704,705,706,707,708,709,710,711,712,713,714,715,716,717,718,719,720,721,722,723,724,725,726,727,728,729,730,731,732,733,734,735,736,737,738,739,740,741,742,743,744,745,746,747,748,749,750,751,752,753,754,755,756,757,758,759,760,761,762,763,764,765,766,767,768,769,770,771,772,773,774,775,776,777,778,779,780,781,782,783,784,785,786,787,788,789,790,791,792,793,794,795,796,797,798,799,800,801,802,803,804,805,806,807,808,809,810,811,812,813,814,815,816,817,818,819,820,821,822,823,824,825,826,827,828,829,830,831,832,833,834,835,836,837,838,839,840,841,842,843,844,845,846,847,848,849,850,851,852,853,854,855,856,857,858,859,860,861,862,863,864,865,866,867,868,869,870,871,872,873,874,875,876,877,878,879,880,881,882,883,884,885,886,887,888,889,890,891,892,893,894,895,896,897,898,899,900,901,902,903,904,905,906,907,908,909,910,911,912,913,914,915,916,917,918,919,920,921,922,923,924,925,926,927,928,929,930,931,932,933,934,935,936,937,938,939,940,941,942,943,944,945,946,947,948,949,950,951,952,953,954,955,956,957,958,959,960,961,962,963,964,965,966,967,968,969,970,971,972,973,974,975,976,977,978,979,980,981,982,983,984,985,986,987,988,989,990,991,992,993,994,995,996,997,998,999,1000,1001,1002,1003,1004,1005,1006,1007,1008,1009,1010,1011,1012,1013,1014,1015,1016,1017,1018,1019,1020,1021,1022,1023,1024,1025,1026,1027,1028,1029,1030,1031,1032,1033,1034,1035,1036,1037,1038,1039,1040,1041,1042,1043,1044,1045,1046,1047,1048,1049,1050,1051,1052,1053,1054,1055,1056,1057,1058,1059,1060,1061,1062,1063,1064,1065,1066,1067,1068,1069,1070,1071,1072,1073,1074,1075,1076,1077,1078,1079,1080,1081,1082,1083,1084,1085,1086,1087,1088,1089,1090,1091,1092,1093,1094,1095,1096,1097,1098,1099,1100,1101,1102,1103,1104,1105,1106,1107,1108,1109,1110,1111,1112,1113,1114,1115,1116,1117,1118,1119,1120,1121,1122,1123,1124,1125,1126,1127,1128,1129,1130,1131,1132,1133,1134,1135,1136,1137,1138,1139,1140,1141,1142,1143,1144,1145,1146,1147,1148,1149,1150,1151,1152,1153,1154,1155,1156,1157,1158,1159,1160,1161,1162,1163,1164,1165,1166,1167,1168,1169,1170,1171,1172,1173,1174,1175,1176,1177,1178,1179,1180,1181,1182,1183,1184,1185,1186,1187,1188,1189,1190,1191,1192,1193,1194,1195,1196,1197,1198,1199,1200,1201,1202,1203,1204,1205,1206,1207,1208,1209,1210,1211,1212,1213,1214,1215,1216,1217,1218,1219,1220,1221,1222,1223,1224,1225,1226,1227,1228,1229,1230,1231,1232,1233,1234,1235,1236,1237,1238,1239,1240,1241,1242,1243,1244,1245,1246,1247,1248,1249,1250,1251,1252,1253,1254,1255,1256,1257,1258,1259,1260,1261,1262,1263,1264,1265,1266,1267,1268,1269,1270,1271,1272,1273,1274,1275,1276,1277,1278,1279,1280,1281,1282,1283,1284,1285,1286,1287,1288,1289,1290,1291,1292,1293,1294,1295,1296,1297,1298,1299,1300,1301,1302,1303,1304,1305,1306,1307,1308,1309,1310,1311,1312,1313,1314,1315,1316,1317,1318,1319,1320,1321,1322,1323,1324,1325,1326,1327,1328,1329,1330,1331,1332,1333,1334,1335,1336,1337,1338,1339,1340,1341,1342,1343,1344,1345,1346,1347,1348,1349,1350,1351,1352,1353,1354,1355,1356,1357,1358,1359,1360,1361,1362,1363,1364,1365,1366,1367,1368,1369,1370,1371,1372,1373,1374,1375,1376,1377,1378,1379,1380,1381,1382,1383,1384,1385,1386,1387,1388,1389,1390,1391,1392,1393,1394,1395,1396,1397,1398,1399,1400,1401,1402,1403,1404,1405,1406,1407,1408,1409,1410,1411,1412,1413,1414,1415,1416,1417,1418,1419,1420,1421,1422,1423,1424,1425,1426,1427,1428,1429,1430,1431,1432,1433,1434,1435,1436,1437,1438,1439,1440,1441,1442,1443,1444,1445,1446,1447,1448,1449,1450,1451,1452,1453,1454,1455,1456,1457,1458,1459,1460,1461,1462,1463,1464,1465,1466,1467,1468,1469,1470,1471,1472,1473,1474,1475,1476,1477,1478,1479,1480,1481,1482,1483,1484,1485,1486,1487,1488,1489,1490,1491,1492,1493,1494,1495,1496,1497,1498,1499,1500,1501,1502,1503,1504,1505,1506,1507,1508,1509,1510,1511,1512,1513,1514,1515,1516,1517,1518,1519,1520,1521,1522,1523,1524,1525,1526,1527,1528,1529,1530,1531,1532,1533,1534,1535,1536,1537,1538,1539,1540,1541,1542,1543,1544,1545,1546,1547,1548,1549,1550,1551,1552,1553,1554,1555,1556,1557,1558,1559,1560,1561,1562,1563,1564,1565,1566,1567,1568,1569,1570,1571,1572,1573,1574,1575,1576,1577,1578,1579,1580,1581,1582,1583,1584,1585,1586,1587,1588,1589,1590,1591,1592,1593,1594,1595,1596,1597,1598,1599,1600,1601,1602,1603,1604,1605,1606,1607,1608,1609,1610,1611,1612,1613,1614,1615,1616,1617,1618,1619,1620,1621,1622,1623,1624,1625,1626,1627,1628,1629,1630,1631,1632,1633,1634,1635,1636,1637,1638,1639,1640,1641,1642,1643,1644,1645,1646,1647,1648,1649,1650,1651,1652,1653,1654,1655,1656,1657,1658,1659,1660,1661,1662,1663,1664,1665,1666,1667,1668,1669,1670,1671,1672,1673,1674,1675,1676,1677,1678,1679,1680,1681,1682,1683,1684,1685,1686,1687,1688,1689,1690,1691,1692,1693,1694,1695,1696,1697,1698,1699,1700,1701,1702,1703,1704,1705,1706,1707,1708,1709,1710,1711,1712,1713,1714,1715,1716,1717,1718,1719,1720,1721,1722,1723,1724,1725,1726,1727,1728,1729,1730,1731,1732,1733,1734,1735,1736,1737,1738,1739,1740,1741,1742,1743,1744,1745,1746,1747,1748,1749,1750,1751,1752,1753,1754,1755,1756,1757,1758,1759,1760,1761,1762,1763,1764,1765,1766,1767,1768,1769,1770,1771,1772,1773,1774,1775,1776,1777,1778,1779,1780,1781,1782,1783,1784,1785,1786,1787,1788,1789,1790,1791,1792,1793,1794,1795,1796,1797,1798,1799,1800,1801,1802,1803,1804,1805,1806,1807,1808,1809,1810,1811,1812,1813,1814,1815,1816,1817,1818,1819,1820,1821,1822,1823,1824,1825,1826,1827,1828,1829,1830,1831,1832,1833,1834,1835,1836,1837,1838,1839,1840,1841,1842,1843,1844,1845,1846,1847,1848,1849,1850,1851,1852,1853,1854,1855,1856,1857,1858,1859,1860,1861,1862,1863,1864,1865,1866,1867,1868,1869,1870,1871,1872,1873,1874,1875,1876,1877,1878,1879,1880,1881,1882,1883,1884,1885,1886,1887,1888,1889,1890,1891,1892,1893,1894,1895,1896,1897,1898,1899,1900,1901,1902,1903,1904,1905,1906,1907,1908,1909,1910,1911,1912,1913,1914,1915,1916,1917,1918,1919,1920,1921,1922,1923,1924,1925,1926,1927,1928,1929,1930,1931,1932,1933,1934,1935,1936,1937,1938,1939,1940,1941,1942,1943,1944,1945,1946,1947,1948,1949,1950,1951,1952,1953,1954,1955,1956,1957,1958,1959,1960,1961,1962,1963,1964,1965,1966,1967,1968,1969,1970,1971,1972,1973,1974,1975,1976,1977,1978,1979,1980,1981,1982,1983,1984,1985,1986,1987,1988,1989,1990,1991,1992,1993,1994,1995,1996,1997,1998,1999,2000,2001,2002,2003,2004,2005,2006,2007,2008,2009,2010,2011,2012,2013,2014,2015,2016,2017,2018,2019,2020,2021,2022,2023,2024,2025,2026,2027,2028,2029,2030,2031,2032,2033,2034,2035,2036,2037,2038,2039,2040,2041,2042,2043,2044,2045,2046,2047,2048,2049,2050,2051,2052,2053,2054,2055,2056,2057,2058,2059,2060,2061,2062,2063,2064,2065,2066,2067,2068,2069,2070,2071,2072,2073,2074,2075,2076,2077,2078,2079,2080,2081,2082,2083,2084,2085,2086,2087,2088,2089,2090,2091,2092,2093,2094,2095,2096,2097,2098,2099,2100,2101,2102,2103,2104,2105,2106,2107,2108,2109,2110,2111,2112,2113,2114,2115,2116,2117,2118,2119,2120,2121,2122,2123,2124,2125,2126,2127,2128,2129,2130,2131,2132,2133,2134,2135,2136,2137,2138,2139,2140,2141,2142,2143,2144,2145,2146,2147,2148,2149,2150,2151,2152,2153,2154,2155,2156,2157,2158,2159,2160,2161,2162,2163,2164,2165,2166,2167,2168,2169,2170,2171,2172,2173,2174,2175,2176,2177,2178,2179,2180,2181,2182,2183,2184,2185,2186,2187,2188,2189,2190,2191,2192,2193,2194,2195,2196,2197,2198,2199,2200,2201,2202,2203,2204,2205,2206,2207,2208,2209,2210,2211,2212,2213,2214,2215,2216,2217,2218,2219,2220,2221,2222,2223,2224,2225,2226,2227,2228,2229,2230,2231,2232,2233,2234,2235,2236,2237,2238,2239,2240,2241,2242,2243,2244,2245,2246,2247,2248,2249,2250,2251,2252,2253,2254,2255,2256,2257,2258,2259,2260,2261,2262,2263,2264,2265,2266,2267,2268,2269,2270,2271,2272,2273,2274,2275,2276,2277,2278,2279,2280,2281,2282,2283,2284,2285,2286,2287,2288,2289,2290,2291,2292,2293,2294,2295,2296,2297,2298,2299,2300,2301,2302,2303,2304,2305,2306,2307,2308,2309,2310,2311,2312,2313,2314,2315,2316,2317,2318,2319,2320,2321,2322,2323,2324,2325,2326,2327,2328,2329,2330,2331,2332,2333,2334,2335,2336,2337,2338,2339,2340,2341,2342,2343,2344,2345,2346,2347,2348,2349,2350,2351,2352,2353,2354,2355,2356,2357,2358,2359,2360,2361,2362,2363,2364,2365,2366,2367,2368,2369,2370,2371,2372,2373,2374,2375,2376,2377,2378,2379,2380,2381,2382,2383,2384,2385,2386,2387,2388,2389,2390,2391,2392,2393,2394,2395,2396,2397,2398,2399,2400,2401,2402,2403,2404,2405,2406,2407,2408,2409,2410,2411,2412,2413,2414,2415,2416,2417,2418,2419,2420,2421,2422,2423,2424,2425,2426,2427,2428,2429,2430,2431,2432,2433,2434,2435,2436,2437,2438,2439,2440,2441,2442,2443,2444,2445,2446,2447,2448,2449,2450,2451,2452,2453,2454,2455,2456,2457,2458,2459,2460,2461,2462,2463,2464,2465,2466,2467,2468,2469,2470,2471,2472,2473,2474,2475,2476,2477,2478,2479,2480,2481,2482,2483,2484,2485,2486,2487,2488,2489,2490,2491,2492,2493,2494,2495,2496,2497,2498,2499,2500,2501,2502,2503,2504,2505,2506,2507,2508,2509,2510,2511,2512,2513,2514,2515,2516,2517,2518,2519,2520,2521,2522,2523,2524,2525,2526,2527,2528,2529,2530,2531,2532,2533,2534,2535,2536,2537,2538,2539,2540,2541,2542,2543,2544,2545,2546,2547,2548,2549,2550,2551,2552,2553,2554,2555,2556,2557,2558,2559,2560,2561,2562,2563,2564,2565,2566,2567,2568,2569,2570,2571,2572,2573,2574,2575,2576,2577,2578,2579,2580,2581,2582,2583,2584,2585,2586,2587,2588,2589,2590,2591,2592,2593,2594,2595,2596,2597,2598,2599,2600,2601,2602,2603,2604,2605,2606,2607,2608,2609,2610,2611,2612,2613,2614,2615,2616,2617,2618,2619,2620,2621,2622,2623,2624,2625,2626,2627,2628,2629,2630,2631,2632,2633,2634,2635,2636,2637,2638,2639,2640,2641,2642,2643,2644,2645,2646,2647,2648,2649,2650,2651,2652,2653,2654,2655,2656,2657,2658,2659,2660,2661,2662,2663,2664,2665,2666,2667,2668,2669,2670,2671,2672,2673,2674,2675,2676,2677,2678,2679,2680,2681,2682,2683,2684,2685,2686,2687,2688,2689,2690,2691,2692,2693,2694,2695,2696,2697,2698,2699,2700,2701,2702,2703,2704,2705,2706,2707,2708,2709,2710,2711,2712,2713,2714,2715,2716,2717,2718,2719,2720,2721,2722,2723,2724,2725,2726,2727,2728,2729,2730,2731,2732,2733,2734,2735,2736,2737,2738,2739,2740,2741,2742,2743,2744,2745,2746,2747,2748,2749,2750,2751,2752,2753,2754,2755,2756,2757,2758,2759,2760,2761,2762,2763,2764,2765,2766,2767,2768,2769,2770,2771,2772,2773,2774,2775,2776,2777,2778,2779,2780,2781,2782,2783,2784,2785,2786,2787,2788,2789,2790,2791,2792,2793,2794,2795,2796,2797,2798,2799,2800,2801,2802,2803,2804,2805,2806,2807,2808,2809,2810,2811,2812,2813,2814,2815,2816,2817,2818,2819,2820,2821,2822,2823,2824,2825,2826,2827,2828,2829,2830,2831,2832,2833,2834,2835,2836,2837,2838,2839,2840,2841,2842,2843,2844,2845,2846,2847,2848,2849,2850,2851,2852,2853,2854,2855,2856,2857,2858,2859,2860,2861,2862,2863,2864,2865,2866,2867,2868,2869,2870,2871,2872,2873,2874,2875,2876,2877,2878,2879,2880,2881,2882,2883,2884,2885,2886,2887,2888,2889,2890,2891,2892,2893,2894,2895,2896,2897,2898,2899,2900,2901,2902,2903,2904,2905,2906,2907,2908,2909,2910,2911,2912,2913,2914,2915,2916,2917,2918,2919,2920,2921,2922,2923,2924,2925,2926,2927,2928,2929,2930,2931,2932,2933,2934,2935,2936,2937,2938,2939,2940,2941,2942,2943,2944,2945,2946,2947,2948,2949,2950,2951,2952,2953,2954,2955,2956,2957,2958,2959,2960,2961,2962,2963,2964,2965,2966,2967,2968,2969,2970,2971,2972,2973,2974,2975,2976,2977,2978,2979,2980,2981,2982,2983,2984,2985,2986,2987,2988,2989,2990,2991,2992,2993,2994,2995,2996,2997,2998,2999,3000,3001,3002,3003,3004,3005,3006,3007,3008,3009,3010,3011,3012,3013,3014,3015,3016,3017,3018,3019,3020,3021,3022,3023,3024,3025,3026,3027,3028,3029,3030,3031,3032,3033,3034,3035,3036,3037,3038,3039,3040,3041,3042,3043,3044,3045,3046,3047,3048,3049,3050,3051,3052,3053,3054,3055,3056,3057,3058,3059,3060,3061,3062,3063,3064,3065,3066,3067,3068,3069,3070,3071,3072,3073,3074,3075,3076,3077,3078,3079,3080,3081,3082,3083,3084,3085,3086,3087,3088,3089,3090,3091,3092,3093,3094,3095,3096,3097,3098,3099,3100,3101,3102,3103,3104,3105,3106,3107,3108,3109,3110,3111,3112,3113,3114,3115,3116,3117,3118,3119,3120,3121,3122,3123,3124,3125,3126,3127,3128,3129,3130,3131,3132,3133,3134,3135,3136,3137,3138,3139,3140,3141,3142,3143,3144,3145,3146,3147,3148,3149,3150,3151,3152,3153,3154,3155,3156,3157,3158,3159,3160,3161,3162,3163,3164,3165,3166,3167,3168,3169,3170,3171,3172,3173,3174,3175,3176,3177,3178,3179,3180,3181,3182,3183,3184,3185,3186,3187,3188,3189,3190,3191,3192,3193,3194,3195,3196,3197,3198,3199,3200,3201,3202,3203,3204,3205,3206,3207,3208,3209,3210,3211,3212,3213,3214,3215,3216,3217,3218,3219,3220,3221,3222,3223,3224,3225,3226,3227,3228,3229,3230,3231,3232,3233,3234,3235,3236,3237,3238,3239,3240,3241,3242,3243,3244,3245,3246,3247,3248,3249,3250,3251,3252,3253,3254,3255,3256,3257,3258,3259,3260,3261,3262,3263,3264,3265,3266,3267,3268,3269,3270,3271,3272,3273,3274,3275,3276,3277,3278,3279,3280,3281,3282,3283,3284,3285,3286,3287,3288,3289,3290,3291,3292,3293,3294,3295,3296,3297,3298,3299,3300,3301,3302,3303,3304,3305,3306,3307,3308,3309,3310,3311,3312,3313,3314,3315,3316,3317,3318,3319,3320,3321,3322,3323,3324,3325,3326,3327,3328,3329,3330,3331,3332,3333,3334,3335,3336,3337,3338,3339,3340,3341,3342,3343,3344,3345,3346,3347,3348,3349,3350,3351,3352,3353,3354,3355,3356,3357,3358,3359,3360,3361,3362,3363,3364,3365,3366,3367,3368,3369,3370,3371,3372,3373,3374,3375,3376,3377,3378,3379,3380,3381,3382,3383,3384,3385,3386,3387,3388,3389,3390,3391,3392,3393,3394,3395,3396,3397,3398,3399,3400,3401,3402,3403,3404,3405,3406,3407,3408,3409,3410,3411,3412,3413,3414,3415,3416,3417,3418,3419,3420,3421,3422,3423,3424,3425,3426,3427,3428,3429,3430,3431,3432,3433,3434,3435,3436,3437,3438,3439,3440,3441,3442,3443,3444,3445,3446,3447,3448,3449,3450,3451,3452,3453,3454,3455,3456,3457,3458,3459,3460,3461,3462,3463,3464,3465,3466,3467,3468,3469,3470,3471,3472,3473,3474,3475,3476,3477,3478,3479,3480,3481,3482,3483,3484,3485,3486,3487,3488,3489,3490,3491,3492,3493,3494,3495,3496,3497,3498,3499,3500,3501,3502,3503,3504,3505,3506,3507,3508,3509,3510,3511,3512,3513,3514,3515,3516,3517,3518,3519,3520,3521,3522,3523,3524,3525,3526,3527,3528,3529,3530,3531,3532,3533,3534,3535,3536,3537,3538,3539,3540,3541,3542,3543,3544,3545,3546,3547,3548,3549,3550,3551,3552,3553,3554,3555,3556,3557,3558,3559,3560,3561,3562,3563,3564,3565,3566,3567,3568,3569,3570,3571,3572,3573,3574,3575,3576,3577,3578,3579,3580,3581,3582,3583,3584,3585,3586,3587,3588,3589,3590,3591,3592,3593,3594,3595,3596,3597,3598,3599,3600,3601,3602,3603,3604,3605,3606,3607,3608,3609,3610,3611,3612,3613,3614,3615,3616,3617,3618,3619,3620,3621,3622,3623,3624,3625,3626,3627,3628,3629,3630,3631,3632,3633,3634,3635,3636,3637,3638,3639,3640,3641,3642,3643,3644,3645,3646,3647,3648,3649,3650,3651,3652,3653,3654,3655,3656,3657,3658,3659,3660,3661,3662,3663,3664,3665,3666,3667,3668,3669,3670,3671,3672,3673,3674,3675,3676,3677,3678,3679,3680,3681,3682,3683,3684,3685,3686,3687,3688,3689,3690,3691,3692,3693,3694,3695,3696,3697,3698,3699,3700,3701,3702,3703,3704,3705,3706,3707,3708,3709,3710,3711,3712,3713,3714,3715,3716,3717,3718,3719,3720,3721,3722,3723,3724,3725,3726,3727,3728,3729,3730,3731,3732,3733,3734,3735,3736,3737,3738,3739,3740,3741,3742,3743,3744,3745,3746,3747,3748,3749,3750,3751,3752,3753,3754,3755,3756,3757,3758,3759,3760,3761,3762,3763,3764,3765,3766,3767,3768,3769,3770,3771,3772,3773,3774,3775,3776,3777,3778,3779,3780,3781,3782,3783,3784,3785,3786,3787,3788,3789,3790,3791,3792,3793,3794,3795,3796,3797,3798,3799,3800,3801,3802,3803,3804,3805,3806,3807,3808,3809,3810,3811,3812,3813,3814,3815,3816,3817,3818,3819,3820,3821,3822,3823,3824,3825,3826,3827,3828,3829,3830,3831,3832,3833,3834,3835,3836,3837,3838,3839,3840,3841,3842,3843,3844,3845,3846,3847,3848,3849,3850,3851,3852,3853,3854,3855,3856,3857,3858,3859,3860,3861,3862,3863,3864,3865,3866,3867,3868,3869,3870,3871,3872,3873,3874,3875,3876,3877,3878,3879,3880,3881,3882,3883,3884,3885,3886,3887,3888,3889,3890,3891,3892,3893,3894,3895,3896,3897,3898,3899,3900,3901,3902,3903,3904,3905,3906,3907,3908,3909,3910,3911,3912,3913,3914,3915,3916,3917,3918,3919,3920,3921,3922,3923,3924,3925,3926,3927,3928,3929,3930,3931,3932,3933,3934,3935,3936,3937,3938,3939,3940,3941,3942,3943,3944,3945,3946,3947,3948,3949,3950,3951,3952,3953,3954,3955,3956,3957,3958,3959,3960,3961,3962,3963,3964,3965,3966,3967,3968,3969,3970,3971,3972,3973,3974,3975,3976,3977,3978,3979,3980,3981,3982,3983,3984,3985,3986,3987,3988,3989,3990,3991,3992,3993,3994,3995,3996,3997,3998,3999,4000,4001,4002,4003,4004,4005,4006,4007,4008,4009,4010,4011,4012,4013,4014,4015,4016,4017,4018,4019,4020,4021,4022,4023,4024,4025,4026,4027,4028,4029,4030,4031,4032,4033,4034,4035,4036,4037,4038,4039,4040,4041,4042,4043,4044,4045,4046,4047,4048,4049,4050,4051,4052,4053,4054,4055,4056,4057,4058,4059,4060,4061,4062,4063,4064,4065,4066,4067,4068,4069,4070,4071,4072,4073,4074,4075,4076,4077,4078,4079,4080,4081,4082,4083,4084,4085,4086,4087,4088,4089,4090,4091,4092,4093,4094,4095,4096,4097,4098,4099,4100,4101,4102,4103,4104,4105,4106,4107,4108,4109,4110,4111,4112,4113,4114,4115,4116,4117,4118,4119,4120,4121,4122,4123,4124,4125,4126,4127,4128,4129,4130,4131,4132,4133,4134,4135,4136,4137,4138,4139,4140,4141,4142,4143,4144,4145,4146,4147,4148,4149,4150,4151,4152,4153,4154,4155,4156,4157,4158,4159,4160,4161,4162,4163,4164,4165,4166,4167,4168,4169,4170,4171,4172,4173,4174,4175,4176,4177,4178,4179,4180,4181,4182,4183,4184,4185,4186,4187,4188,4189,4190,4191,4192,4193,4194,4195,4196,4197,4198,4199,4200,4201,4202,4203,4204,4205,4206,4207,4208,4209,4210,4211,4212,4213,4214,4215,4216,4217,4218,4219,4220,4221,4222,4223,4224,4225,4226,4227,4228,4229,4230,4231,4232,4233,4234,4235,4236,4237,4238,4239,4240,4241,4242,4243,4244,4245,4246,4247,4248,4249,4250,4251,4252,4253,4254,4255,4256,4257,4258,4259,4260,4261,4262,4263,4264,4265,4266,4267,4268,4269,4270,4271,4272,4273,4274,4275,4276,4277,4278,4279,4280,4281,4282,4283,4284,4285,4286,4287,4288,4289,4290,4291,4292,4293,4294,4295,4296,4297,4298,4299,4300,4301,4302,4303,4304,4305,4306,4307,4308,4309,4310,4311,4312,4313,4314,4315,4316,4317,4318,4319,4320,4321,4322,4323,4324,4325,4326,4327,4328,4329,4330,4331,4332,4333,4334,4335,4336,4337,4338,4339,4340,4341,4342,4343,4344,4345,4346,4347,4348,4349,4350,4351,4352,4353,4354,4355,4356,4357,4358,4359,4360,4361,4362,4363,4364,4365,4366,4367,4368,4369,4370,4371,4372,4373,4374,4375,4376,4377,4378,4379,4380,4381,4382,4383,4384,4385,4386,4387,4388,4389,4390,4391,4392,4393,4394,4395,4396,4397,4398,4399,4400,4401,4402,4403,4404,4405,4406,4407,4408,4409,4410,4411,4412,4413,4414,4415,4416,4417,4418,4419,4420,4421,4422,4423,4424,4425,4426,4427,4428,4429,4430,4431,4432,4433,4434,4435,4436,4437,4438,4439,4440,4441,4442,4443,4444,4445,4446,4447,4448,4449,4450,4451,4452,4453,4454,4455,4456,4457,4458,4459,4460,4461,4462,4463,4464,4465,4466,4467,4468,4469,4470,4471,4472,4473,4474,4475,4476,4477,4478,4479,4480,4481,4482,4483,4484,4485,4486,4487,4488,4489,4490,4491,4492,4493,4494,4495,4496,4497,4498,4499,4500,4501,4502,4503,4504,4505,4506,4507,4508,4509,4510,4511,4512,4513,4514,4515,4516,4517,4518,4519,4520,4521,4522,4523,4524,4525,4526,4527,4528,4529,4530,4531,4532,4533,4534,4535,4536,4537,4538,4539,4540,4541,4542,4543,4544,4545,4546,4547,4548,4549,4550,4551,4552,4553,4554,4555,4556,4557,4558,4559,4560,4561,4562,4563,4564,4565,4566,4567,4568,4569,4570,4571,4572,4573,4574,4575,4576,4577,4578,4579,4580,4581,4582,4583,4584,4585,4586,4587,4588,4589,4590,4591,4592,4593,4594,4595,4596,4597,4598,4599,4600,4601,4602,4603,4604,4605,4606,4607,4608,4609,4610,4611,4612,4613,4614,4615,4616,4617,4618,4619,4620,4621,4622,4623,4624,4625,4626,4627,4628,4629,4630,4631,4632,4633,4634,4635,4636,4637,4638,4639,4640,4641,4642,4643,4644,4645,4646,4647,4648,4649,4650,4651,4652,4653,4654,4655,4656,4657,4658,4659,4660,4661,4662,4663,4664,4665,4666,4667,4668,4669,4670,4671,4672,4673,4674,4675,4676,4677,4678,4679,4680,4681,4682,4683,4684,4685,4686,4687,4688,4689,4690,4691,4692,4693,4694,4695,4696,4697,4698,4699,4700,4701,4702,4703,4704,4705,4706,4707,4708,4709,4710,4711,4712,4713,4714,4715,4716,4717,4718,4719,4720,4721,4722,4723,4724,4725,4726,4727,4728,4729,4730,4731,4732,4733,4734,4735,4736,4737,4738,4739,4740,4741,4742,4743,4744,4745,4746,4747,4748,4749,4750,4751,4752,4753,4754,4755,4756,4757,4758,4759,4760,4761,4762,4763,4764,4765,4766,4767,4768,4769,4770,4771,4772,4773,4774,4775,4776,4777,4778,4779,4780,4781,4782,4783,4784,4785,4786,4787,4788,4789,4790,4791,4792,4793,4794,4795,4796,4797,4798,4799,4800,4801,4802,4803,4804,4805,4806,4807,4808,4809,4810,4811,4812,4813,4814,4815,4816,4817,4818,4819,4820,4821,4822,4823,4824,4825,4826,4827,4828,4829,4830,4831,4832,4833,4834,4835,4836,4837,4838,4839,4840,4841,4842,4843,4844,4845,4846,4847,4848,4849,4850,4851,4852,4853,4854,4855,4856,4857,4858,4859,4860,4861,4862,4863,4864,4865,4866,4867,4868,4869,4870,4871,4872,4873,4874,4875,4876,4877,4878,4879,4880,4881,4882,4883,4884,4885,4886,4887,4888,4889,4890,4891,4892,4893,4894,4895,4896,4897,4898,4899,4900,4901,4902,4903,4904,4905,4906,4907,4908,4909,4910,4911,4912,4913,4914,4915,4916,4917,4918,4919,4920,4921,4922,4923,4924,4925,4926,4927,4928,4929,4930,4931,4932,4933,4934,4935,4936,4937,4938,4939,4940,4941,4942,4943,4944,4945,4946,4947,4948,4949,4950,4951,4952,4953,4954,4955,4956,4957,4958,4959,4960,4961,4962,4963,4964,4965,4966,4967,4968,4969,4970,4971,4972,4973,4974,4975,4976,4977,4978,4979,4980,4981,4982,4983,4984,4985,4986,4987,4988,4989,4990,4991,4992,4993,4994,4995,4996,4997,4998,4999,5000,5001,5002,5003,5004,5005,5006,5007,5008,5009,5010,5011,5012,5013,5014,5015,5016,5017,5018,5019,5020,5021,5022,5023,5024,5025,5026,5027,5028,5029,5030,5031,5032,5033,5034,5035,5036,5037,5038,5039,5040,5041,5042,5043,5044,5045,5046,5047,5048,5049,5050,5051,5052,5053,5054,5055,5056,5057,5058,5059,5060,5061,5062,5063,5064,5065,5066,5067,5068,5069,5070,5071,5072,5073,5074,5075,5076,5077,5078,5079,5080,5081,5082,5083,5084,5085,5086,5087,5088,5089,5090,5091,5092,5093,5094,5095,5096,5097,5098,5099,5100,5101,5102,5103,5104,5105,5106,5107,5108,5109,5110,5111,5112,5113,5114,5115,5116,5117,5118,5119,5120,5121,5122,5123,5124,5125,5126,5127,5128,5129,5130,5131,5132,5133,5134,5135,5136,5137,5138,5139,5140,5141,5142,5143,5144,5145,5146,5147,5148,5149,5150,5151,5152,5153,5154,5155,5156,5157,5158,5159,5160,5161,5162,5163,5164,5165,5166,5167,5168,5169,5170,5171,5172,5173,5174,5175,5176,5177,5178,5179,5180,5181,5182,5183,5184,5185,5186,5187,5188,5189,5190,5191,5192,5193,5194,5195,5196,5197,5198,5199,5200,5201,5202,5203,5204,5205,5206,5207,5208,5209,5210,5211,5212,5213,5214,5215,5216,5217,5218,5219,5220,5221,5222,5223,5224,5225,5226,5227,5228,5229,5230,5231,5232,5233,5234,5235,5236,5237,5238,5239,5240,5241,5242,5243,5244,5245,5246,5247,5248,5249,5250,5251,5252,5253,5254,5255,5256,5257,5258,5259,5260,5261,5262,5263,5264,5265,5266,5267,5268,5269,5270,5271,5272,5273,5274,5275,5276,5277,5278,5279,5280,5281,5282,5283,5284,5285,5286,5287,5288,5289,5290,5291,5292,5293,5294,5295,5296,5297,5298,5299,5300,5301,5302,5303,5304,5305,5306,5307,5308,5309,5310,5311,5312,5313,5314,5315,5316,5317,5318,5319,5320,5321,5322,5323,5324,5325,5326,5327,5328,5329,5330,5331,5332,5333,5334,5335,5336,5337,5338,5339,5340,5341,5342,5343,5344,5345,5346,5347,5348,5349,5350,5351,5352,5353,5354,5355,5356,5357,5358,5359,5360,5361,5362,5363,5364,5365,5366,5367,5368,5369,5370,5371,5372,5373,5374,5375,5376,5377,5378,5379,5380,5381,5382,5383,5384,5385,5386,5387,5388,5389,5390,5391,5392,5393,5394,5395,5396,5397,5398,5399,5400,5401,5402,5403,5404,5405,5406,5407,5408,5409,5410,5411,5412,5413,5414,5415,5416,5417,5418,5419,5420,5421,5422,5423,5424,5425,5426,5427,5428,5429,5430,5431,5432,5433,5434,5435,5436,5437,5438,5439,5440,5441,5442,5443,5444,5445,5446,5447,5448,5449,5450,5451,5452,5453,5454,5455,5456,5457,5458,5459,5460,5461,5462,5463,5464,5465,5466,5467,5468,5469,5470,5471,5472,5473,5474,5475,5476,5477,5478,5479,5480,5481,5482,5483,5484,5485,5486,5487,5488,5489,5490,5491,5492,5493,5494,5495,5496,5497,5498,5499,5500,5501,5502,5503,5504,5505,5506,5507,5508,5509,5510,5511,5512,5513,5514,5515,5516,5517,5518,5519,5520,5521,5522,5523,5524,5525,5526,5527,5528,5529,5530,5531,5532,5533,5534,5535,5536,5537,5538,5539,5540,5541,5542,5543,5544,5545,5546,5547,5548,5549,5550,5551,5552,5553,5554,5555,5556,5557,5558,5559,5560,5561,5562,5563,5564,5565,5566,5567,5568,5569,5570,5571,5572,5573,5574,5575,5576,5577,5578,5579,5580,5581,5582,5583,5584,5585,5586,5587,5588,5589,5590,5591,5592,5593,5594,5595,5596,5597,5598,5599,5600,5601,5602,5603,5604,5605,5606,5607,5608,5609,5610,5611,5612,5613,5614,5615,5616,5617,5618,5619,5620,5621,5622,5623,5624,5625,5626,5627,5628,5629,5630,5631,5632,5633,5634,5635,5636,5637,5638,5639,5640,5641,5642,5643,5644,5645,5646,5647,5648,5649,5650,5651,5652,5653,5654,5655,5656,5657,5658,5659,5660,5661,5662,5663,5664,5665,5666,5667,5668,5669,5670,5671,5672,5673,5674,5675,5676,5677,5678,5679,5680,5681,5682,5683,5684,5685,5686,5687,5688,5689,5690,5691,5692,5693,5694,5695,5696,5697,5698,5699,5700,5701,5702,5703,5704,5705,5706,5707,5708,5709,5710,5711,5712,5713,5714,5715,5716,5717,5718,5719,5720,5721,5722,5723,5724,5725,5726,5727,5728,5729,5730,5731,5732,5733,5734,5735,5736,5737,5738,5739,5740,5741,5742,5743,5744,5745,5746,5747,5748,5749,5750,5751,5752,5753,5754,5755,5756,5757,5758,5759,5760,5761,5762,5763,5764,5765,5766,5767,5768,5769,5770,5771,5772,5773,5774,5775,5776,5777,5778,5779,5780,5781,5782,5783,5784,5785,5786,5787,5788,5789,5790,5791,5792,5793,5794,5795,5796,5797,5798,5799,5800,5801,5802,5803,5804,5805,5806,5807,5808,5809,5810,5811,5812,5813,5814,5815,5816,5817,5818,5819,5820,5821,5822,5823,5824,5825,5826,5827,5828,5829,5830,5831,5832,5833,5834,5835,5836,5837,5838,5839,5840,5841,5842,5843,5844,5845,5846,5847,5848,5849,5850,5851,5852,5853,5854,5855,5856,5857,5858,5859,5860,5861,5862,5863,5864,5865,5866,5867,5868,5869,5870,5871,5872,5873,5874,5875,5876,5877,5878,5879,5880,5881,5882,5883,5884,5885,5886,5887,5888,5889,5890,5891,5892,5893,5894,5895,5896,5897,5898,5899,5900,5901,5902,5903,5904,5905,5906,5907,5908,5909,5910,5911,5912,5913,5914,5915,5916,5917,5918,5919,5920,5921,5922,5923,5924,5925,5926,5927,5928,5929,5930,5931,5932,5933,5934,5935,5936,5937,5938,5939,5940,5941,5942,5943,5944,5945,5946,5947,5948,5949,5950,5951,5952,5953,5954,5955,5956,5957,5958,5959,5960,5961,5962,5963,5964,5965,5966,5967,5968,5969,5970,5971,5972,5973,5974,5975,5976,5977,5978,5979,5980,5981,5982,5983,5984,5985,5986,5987,5988,5989,5990,5991,5992,5993,5994,5995,5996,5997,5998,5999,6000,6001,6002,6003,6004,6005,6006,6007,6008,6009,6010,6011,6012,6013,6014,6015,6016,6017,6018,6019,6020,6021,6022,6023,6024,6025,6026,6027,6028,6029,6030,6031,6032,6033,6034,6035,6036,6037,6038,6039,6040,6041,6042,6043,6044,6045,6046,6047,6048,6049,6050,6051,6052,6053,6054,6055,6056,6057,6058,6059,6060,6061,6062,6063,6064,6065,6066,6067,6068,6069,6070,6071,6072,6073,6074,6075,6076,6077,6078,6079,6080,6081,6082,6083,6084,6085,6086,6087,6088,6089,6090,6091,6092,6093,6094,6095,6096,6097,6098,6099,6100,6101,6102,6103,6104,6105,6106,6107,6108,6109,6110,6111,6112,6113,6114,6115,6116,6117,6118,6119,6120,6121,6122,6123,6124,6125,6126,6127,6128,6129,6130,6131,6132,6133,6134,6135,6136,6137,6138,6139,6140,6141,6142,6143,6144,6145,6146,6147,6148,6149,6150,6151,6152,6153,6154,6155,6156,6157,6158,6159,6160,6161,6162,6163,6164,6165,6166,6167,6168,6169,6170,6171,6172,6173,6174,6175,6176,6177,6178,6179,6180,6181,6182,6183,6184,6185,6186,6187,6188,6189,6190,6191,6192,6193,6194,6195,6196,6197,6198,6199,6200,6201,6202,6203,6204,6205,6206,6207,6208,6209,6210,6211,6212,6213,6214,6215,6216,6217,6218,6219,6220,6221,6222,6223,6224,6225,6226,6227,6228,6229,6230,6231,6232,6233,6234,6235,6236,6237,6238,6239,6240,6241,6242,6243,6244,6245,6246,6247,6248,6249,6250,6251,6252,6253,6254,6255,6256,6257,6258,6259,6260,6261,6262,6263,6264,6265,6266,6267,6268,6269,6270,6271,6272,6273,6274,6275,6276,6277,6278,6279,6280,6281,6282,6283,6284,6285,6286,6287,6288,6289,6290,6291,6292,6293,6294,6295,6296,6297,6298,6299,6300,6301,6302,6303,6304,6305,6306,6307,6308,6309,6310,6311,6312,6313,6314,6315,6316,6317,6318,6319,6320,6321,6322,6323,6324,6325,6326,6327,6328,6329,6330,6331,6332,6333,6334,6335,6336,6337,6338,6339,6340,6341,6342,6343,6344,6345,6346,6347,6348,6349,6350,6351,6352,6353,6354,6355,6356,6357,6358,6359,6360,6361,6362,6363,6364,6365,6366,6367,6368,6369,6370,6371,6372,6373,6374,6375,6376,6377,6378,6379,6380,6381,6382,6383,6384,6385,6386,6387,6388,6389,6390,6391,6392,6393,6394,6395,6396,6397,6398,6399,6400,6401,6402,6403,6404,6405,6406,6407,6408,6409,6410,6411,6412,6413,6414,6415,6416,6417,6418,6419,6420,6421,6422,6423,6424,6425,6426,6427,6428,6429,6430,6431,6432,6433,6434,6435,6436,6437,6438,6439,6440,6441,6442,6443,6444,6445,6446,6447,6448,6449,6450,6451,6452,6453,6454,6455,6456,6457,6458,6459,6460,6461,6462,6463,6464,6465,6466,6467,6468,6469,6470,6471,6472,6473,6474,6475,6476,6477,6478,6479,6480,6481,6482,6483,6484,6485,6486,6487,6488,6489,6490,6491,6492,6493,6494,6495,6496,6497,6498,6499,6500,6501,6502,6503,6504,6505,6506,6507,6508,6509,6510,6511,6512,6513,6514,6515,6516,6517,6518,6519,6520,6521,6522,6523,6524,6525,6526,6527,6528,6529,6530,6531,6532,6533,6534,6535,6536,6537,6538,6539,6540,6541,6542,6543,6544,6545,6546,6547,6548,6549,6550,6551,6552,6553,6554,6555,6556,6557,6558,6559,6560,6561,6562,6563,6564,6565,6566,6567,6568,6569,6570,6571,6572,6573,6574,6575,6576,6577,6578,6579,6580,6581,6582,6583,6584,6585,6586,6587,6588,6589,6590,6591,6592,6593,6594,6595,6596,6597,6598,6599,6600,6601,6602,6603,6604,6605,6606,6607,6608,6609,6610,6611,6612,6613,6614,6615,6616,6617,6618,6619,6620,6621,6622,6623,6624,6625,6626,6627,6628,6629,6630,6631,6632,6633,6634,6635,6636,6637,6638,6639,6640,6641,6642,6643,6644,6645,6646,6647,6648,6649,6650,6651,6652,6653,6654,6655,6656,6657,6658,6659,6660,6661,6662,6663,6664,6665,6666,6667,6668,6669,6670,6671,6672,6673,6674,6675,6676,6677,6678,6679,6680,6681,6682,6683,6684,6685,6686,6687,6688,6689,6690,6691,6692,6693,6694,6695,6696,6697,6698,6699,6700,6701,6702,6703,6704,6705,6706,6707,6708,6709,6710,6711,6712,6713,6714,6715,6716,6717,6718,6719,6720,6721,6722,6723,6724,6725,6726,6727,6728,6729,6730,6731,6732,6733,6734,6735,6736,6737,6738,6739,6740,6741,6742,6743,6744,6745,6746,6747,6748,6749,6750,6751,6752,6753,6754,6755,6756,6757,6758,6759,6760,6761,6762,6763,6764,6765,6766,6767,6768,6769,6770,6771,6772,6773,6774,6775,6776,6777,6778,6779,6780,6781,6782,6783,6784,6785,6786,6787,6788,6789,6790,6791,6792,6793,6794,6795,6796,6797,6798,6799,6800,6801,6802,6803,6804,6805,6806,6807,6808,6809,6810,6811,6812,6813,6814,6815,6816,6817,6818,6819,6820,6821,6822,6823,6824,6825,6826,6827,6828,6829,6830,6831,6832,6833,6834,6835,6836,6837,6838,6839,6840,6841,6842,6843,6844,6845,6846,6847,6848,6849,6850,6851,6852,6853,6854,6855,6856,6857,6858,6859,6860,6861,6862,6863,6864,6865,6866,6867,6868,6869,6870,6871,6872,6873,6874,6875,6876,6877,6878,6879,6880,6881,6882,6883,6884,6885,6886,6887,6888,6889,6890,6891,6892,6893,6894,6895,6896,6897,6898,6899,6900,6901,6902,6903,6904,6905,6906,6907,6908,6909,6910,6911,6912,6913,6914,6915,6916,6917,6918,6919,6920,6921,6922,6923,6924,6925,6926,6927,6928,6929,6930,6931,6932,6933,6934,6935,6936,6937,6938,6939,6940,6941,6942,6943,6944,6945,6946,6947,6948,6949,6950,6951,6952,6953,6954,6955,6956,6957,6958,6959,6960,6961,6962,6963,6964,6965,6966,6967,6968,6969,6970,6971,6972,6973,6974,6975,6976,6977,6978,6979,6980,6981,6982,6983,6984,6985,6986,6987,6988,6989,6990,6991,6992,6993,6994,6995,6996,6997,6998,6999,7000,7001,7002,7003,7004,7005,7006,7007,7008,7009,7010,7011,7012,7013,7014,7015,7016,7017,7018,7019,7020,7021,7022,7023,7024,7025,7026,7027,7028,7029,7030,7031,7032,7033,7034,7035,7036,7037,7038,7039,7040,7041,7042,7043,7044,7045,7046,7047,7048,7049,7050,7051,7052,7053,7054,7055,7056,7057,7058,7059,7060,7061,7062,7063,7064,7065,7066,7067,7068,7069,7070,7071,7072,7073,7074,7075,7076,7077,7078,7079,7080,7081,7082,7083,7084,7085,7086,7087,7088,7089,7090,7091,7092,7093,7094,7095,7096,7097,7098,7099,7100,7101,7102,7103,7104,7105,7106,7107,7108,7109,7110,7111,7112,7113,7114,7115,7116,7117,7118,7119,7120,7121,7122,7123,7124,7125,7126,7127,7128,7129,7130,7131,7132,7133,7134,7135,7136,7137,7138,7139,7140,7141,7142,7143,7144,7145,7146,7147,7148,7149,7150,7151,7152,7153,7154,7155,7156,7157,7158,7159,7160,7161,7162,7163,7164,7165,7166,7167,7168,7169,7170,7171,7172,7173,7174,7175,7176,7177,7178,7179,7180,7181,7182,7183,7184,7185,7186,7187,7188,7189,7190,7191,7192,7193,7194,7195,7196,7197,7198,7199,7200,7201,7202,7203,7204,7205,7206,7207,7208,7209,7210,7211,7212,7213,7214,7215,7216,7217,7218,7219,7220,7221,7222,7223,7224,7225,7226,7227,7228,7229,7230,7231,7232,7233,7234,7235,7236,7237,7238,7239,7240,7241,7242,7243,7244,7245,7246,7247,7248,7249,7250,7251,7252,7253,7254,7255,7256,7257,7258,7259,7260,7261,7262,7263,7264,7265,7266,7267,7268,7269,7270,7271,7272,7273,7274,7275,7276,7277,7278,7279,7280,7281,7282,7283,7284,7285,7286,7287,7288,7289,7290,7291,7292,7293,7294,7295,7296,7297,7298,7299,7300,7301,7302,7303,7304,7305,7306,7307,7308,7309,7310,7311,7312,7313,7314,7315,7316,7317,7318,7319,7320,7321,7322,7323,7324,7325,7326,7327,7328,7329,7330,7331,7332,7333,7334,7335,7336,7337,7338,7339,7340,7341,7342,7343,7344,7345,7346,7347,7348,7349,7350,7351,7352,7353,7354,7355,7356,7357,7358,7359,7360,7361,7362,7363,7364,7365,7366,7367,7368,7369,7370,7371,7372,7373,7374,7375,7376,7377,7378,7379,7380,7381,7382,7383,7384,7385,7386,7387,7388,7389,7390,7391,7392,7393,7394,7395,7396,7397,7398,7399,7400,7401,7402,7403,7404,7405,7406,7407,7408,7409,7410,7411,7412,7413,7414,7415,7416,7417,7418,7419,7420,7421,7422,7423,7424,7425,7426,7427,7428,7429,7430,7431,7432,7433,7434,7435,7436,7437,7438,7439,7440,7441,7442,7443,7444,7445,7446,7447,7448,7449,7450,7451,7452,7453,7454,7455,7456,7457,7458,7459,7460,7461,7462,7463,7464,7465,7466,7467,7468,7469,7470,7471,7472,7473,7474,7475,7476,7477,7478,7479,7480,7481,7482,7483,7484,7485,7486,7487,7488,7489,7490,7491,7492,7493,7494,7495,7496,7497,7498,7499,7500,7501,7502,7503,7504,7505,7506,7507,7508,7509,7510,7511,7512,7513,7514,7515,7516,7517,7518,7519,7520,7521,7522,7523,7524,7525,7526,7527,7528,7529,7530,7531,7532,7533,7534,7535,7536,7537,7538,7539,7540,7541,7542,7543,7544,7545,7546,7547,7548,7549,7550,7551,7552,7553,7554,7555,7556,7557,7558,7559,7560,7561,7562,7563,7564,7565,7566,7567,7568,7569,7570,7571,7572,7573,7574,7575,7576,7577,7578,7579,7580,7581,7582,7583,7584,7585,7586,7587,7588,7589,7590,7591,7592,7593,7594,7595,7596,7597,7598,7599,7600,7601,7602,7603,7604,7605,7606,7607,7608,7609,7610,7611,7612,7613,7614,7615,7616,7617,7618,7619,7620,7621,7622,7623,7624,7625,7626,7627,7628,7629,7630,7631,7632,7633,7634,7635,7636,7637,7638,7639,7640,7641,7642,7643,7644,7645,7646,7647,7648,7649,7650,7651,7652,7653,7654,7655,7656,7657,7658,7659,7660,7661,7662,7663,7664,7665,7666,7667,7668,7669,7670,7671,7672,7673,7674,7675,7676,7677,7678,7679,7680,7681,7682,7683,7684,7685,7686,7687,7688,7689,7690,7691,7692,7693,7694,7695,7696,7697,7698,7699,7700,7701,7702,7703,7704,7705,7706,7707,7708,7709,7710,7711,7712,7713,7714,7715,7716,7717,7718,7719,7720,7721,7722,7723,7724,7725,7726,7727,7728,7729,7730,7731,7732,7733,7734,7735,7736,7737,7738,7739,7740,7741,7742,7743,7744,7745,7746,7747,7748,7749,7750,7751,7752,7753,7754,7755,7756,7757,7758,7759,7760,7761,7762,7763,7764,7765,7766,7767,7768,7769,7770,7771,7772,7773,7774,7775,7776,7777,7778,7779,7780,7781,7782,7783,7784,7785,7786,7787,7788,7789,7790,7791,7792,7793,7794,7795,7796,7797,7798,7799,7800,7801,7802,7803,7804,7805,7806,7807,7808,7809,7810,7811,7812,7813,7814,7815,7816,7817,7818,7819,7820,7821,7822,7823,7824,7825,7826,7827,7828,7829,7830,7831,7832,7833,7834,7835,7836,7837,7838,7839,7840,7841,7842,7843,7844,7845,7846,7847,7848,7849,7850,7851,7852,7853,7854,7855,7856,7857,7858,7859,7860,7861,7862,7863,7864,7865,7866,7867,7868,7869,7870,7871,7872,7873,7874,7875,7876,7877,7878,7879,7880,7881,7882,7883,7884,7885,7886,7887,7888,7889,7890,7891,7892,7893,7894,7895,7896,7897,7898,7899,7900,7901,7902,7903,7904,7905,7906,7907,7908,7909,7910,7911,7912,7913,7914,7915,7916,7917,7918,7919,7920,7921,7922,7923,7924,7925,7926,7927,7928,7929,7930,7931,7932,7933,7934,7935,7936,7937,7938,7939,7940,7941,7942,7943,7944,7945,7946,7947,7948,7949,7950,7951,7952,7953,7954,7955,7956,7957,7958,7959,7960,7961,7962,7963,7964,7965,7966,7967,7968,7969,7970,7971,7972,7973,7974,7975,7976,7977,7978,7979,7980,7981,7982,7983,7984,7985,7986,7987,7988,7989,7990,7991,7992,7993,7994,7995,7996,7997,7998,7999,8000,8001,8002,8003,8004,8005,8006,8007,8008,8009,8010,8011,8012,8013,8014,8015,8016,8017,8018,8019,8020,8021,8022,8023,8024,8025,8026,8027,8028,8029,8030,8031,8032,8033,8034,8035,8036,8037,8038,8039,8040,8041,8042,8043,8044,8045,8046,8047,8048,8049,8050,8051,8052,8053,8054,8055,8056,8057,8058,8059,8060,8061,8062,8063,8064,8065,8066,8067,8068,8069,8070,8071,8072,8073,8074,8075,8076,8077,8078,8079,8080,8081,8082,8083,8084,8085,8086,8087,8088,8089,8090,8091,8092,8093,8094,8095,8096,8097,8098,8099,8100,8101,8102,8103,8104,8105,8106,8107,8108,8109,8110,8111,8112,8113,8114,8115,8116,8117,8118,8119,8120,8121,8122,8123,8124,8125,8126,8127,8128,8129,8130,8131,8132,8133,8134,8135,8136,8137,8138,8139,8140,8141,8142,8143,8144,8145,8146,8147,8148,8149,8150,8151,8152,8153,8154,8155,8156,8157,8158,8159,8160,8161,8162,8163,8164,8165,8166,8167,8168,8169,8170,8171,8172,8173,8174,8175,8176,8177,8178,8179,8180,8181,8182,8183,8184,8185,8186,8187,8188,8189,8190,8191,8192,8193,8194,8195,8196,8197,8198,8199,8200,8201,8202,8203,8204,8205,8206,8207,8208,8209,8210,8211,8212,8213,8214,8215,8216,8217,8218,8219,8220,8221,8222,8223,8224,8225,8226,8227,8228,8229,8230,8231,8232,8233,8234,8235,8236,8237,8238,8239,8240,8241,8242,8243,8244,8245,8246,8247,8248,8249,8250,8251,8252,8253,8254,8255,8256,8257,8258,8259,8260,8261,8262,8263,8264,8265,8266,8267,8268,8269,8270,8271,8272,8273,8274,8275,8276,8277,8278,8279,8280,8281,8282,8283,8284,8285,8286,8287,8288,8289,8290,8291,8292,8293,8294,8295,8296,8297,8298,8299,8300,8301,8302,8303,8304,8305,8306,8307,8308,8309,8310,8311,8312,8313,8314,8315,8316,8317,8318,8319,8320,8321,8322,8323,8324,8325,8326,8327,8328,8329,8330,8331,8332,8333,8334,8335,8336,8337,8338,8339,8340,8341,8342,8343,8344,8345,8346,8347,8348,8349,8350,8351,8352,8353,8354,8355,8356,8357,8358,8359,8360,8361,8362,8363,8364,8365,8366,8367,8368,8369,8370,8371,8372,8373,8374,8375,8376,8377,8378,8379,8380,8381,8382,8383,8384,8385,8386,8387,8388,8389,8390,8391,8392,8393,8394,8395,8396,8397,8398,8399,8400,8401,8402,8403,8404,8405,8406,8407,8408,8409,8410,8411,8412,8413,8414,8415,8416,8417,8418,8419,8420,8421,8422,8423,8424,8425,8426,8427,8428,8429,8430,8431,8432,8433,8434,8435,8436,8437,8438,8439,8440,8441,8442,8443,8444,8445,8446,8447,8448,8449,8450,8451,8452,8453,8454,8455,8456,8457,8458,8459,8460,8461,8462,8463,8464,8465,8466,8467,8468,8469,8470,8471,8472,8473,8474,8475,8476,8477,8478,8479,8480,8481,8482,8483,8484,8485,8486,8487,8488,8489,8490,8491,8492,8493,8494,8495,8496,8497,8498,8499,8500,8501,8502,8503,8504,8505,8506,8507,8508,8509,8510,8511,8512,8513,8514,8515,8516,8517,8518,8519,8520,8521,8522,8523,8524,8525,8526,8527,8528,8529,8530,8531,8532,8533,8534,8535,8536,8537,8538,8539,8540,8541,8542,8543,8544,8545,8546,8547,8548,8549,8550,8551,8552,8553,8554,8555,8556,8557,8558,8559,8560,8561,8562,8563,8564,8565,8566,8567,8568,8569,8570,8571,8572,8573,8574,8575,8576,8577,8578,8579,8580,8581,8582,8583,8584,8585,8586,8587,8588,8589,8590,8591,8592,8593,8594,8595,8596,8597,8598,8599,8600,8601,8602,8603,8604,8605,8606,8607,8608,8609,8610,8611,8612,8613,8614,8615,8616,8617,8618,8619,8620,8621,8622,8623,8624,8625,8626,8627,8628,8629,8630,8631,8632,8633,8634,8635,8636,8637,8638,8639,8640,8641,8642,8643,8644,8645,8646,8647,8648,8649,8650,8651,8652,8653,8654,8655,8656,8657,8658,8659,8660,8661,8662,8663,8664,8665,8666,8667,8668,8669,8670,8671,8672,8673,8674,8675,8676,8677,8678,8679,8680,8681,8682,8683,8684,8685,8686,8687,8688,8689,8690,8691,8692,8693,8694,8695,8696,8697,8698,8699,8700,8701,8702,8703,8704,8705,8706,8707,8708,8709,8710,8711,8712,8713,8714,8715,8716,8717,8718,8719,8720,8721,8722,8723,8724,8725,8726,8727,8728,8729,8730,8731,8732,8733,8734,8735,8736,8737,8738,8739,8740,8741,8742,8743,8744,8745,8746,8747,8748,8749,8750,8751,8752,8753,8754,8755,8756,8757,8758,8759,8760,8761,8762,8763,8764,8765,8766,8767,8768,8769,8770,8771,8772,8773,8774,8775,8776,8777,8778,8779,8780,8781,8782,8783,8784,8785,8786,8787,8788,8789,8790,8791,8792,8793,8794,8795,8796,8797,8798,8799,8800,8801,8802,8803,8804,8805,8806,8807,8808,8809,8810,8811,8812,8813,8814,8815,8816,8817,8818,8819,8820,8821,8822,8823,8824,8825,8826,8827,8828,8829,8830,8831,8832,8833,8834,8835,8836,8837,8838,8839,8840,8841,8842,8843,8844,8845,8846,8847,8848,8849,8850,8851,8852,8853,8854,8855,8856,8857,8858,8859,8860,8861,8862,8863,8864,8865,8866,8867,8868,8869,8870,8871,8872,8873,8874,8875,8876,8877,8878,8879,8880,8881,8882,8883,8884,8885,8886,8887,8888,8889,8890,8891,8892,8893,8894,8895,8896,8897,8898,8899,8900,8901,8902,8903,8904,8905,8906,8907,8908,8909,8910,8911,8912,8913,8914,8915,8916,8917,8918,8919,8920,8921,8922,8923,8924,8925,8926,8927,8928,8929,8930,8931,8932,8933,8934,8935,8936,8937,8938,8939,8940,8941,8942,8943,8944,8945,8946,8947,8948,8949,8950,8951,8952,8953,8954,8955,8956,8957,8958,8959,8960,8961,8962,8963,8964,8965,8966,8967,8968,8969,8970,8971,8972,8973,8974,8975,8976,8977,8978,8979,8980,8981,8982,8983,8984,8985,8986,8987,8988,8989,8990,8991,8992,8993,8994,8995,8996,8997,8998,8999,9000,9001,9002,9003,9004,9005,9006,9007,9008,9009,9010,9011,9012,9013,9014,9015,9016,9017,9018,9019,9020,9021,9022,9023,9024,9025,9026,9027,9028,9029,9030,9031,9032,9033,9034,9035,9036,9037,9038,9039,9040,9041,9042,9043,9044,9045,9046,9047,9048,9049,9050,9051,9052,9053,9054,9055,9056,9057,9058,9059,9060,9061,9062,9063,9064,9065,9066,9067,9068,9069,9070,9071,9072,9073,9074,9075,9076,9077,9078,9079,9080,9081,9082,9083,9084,9085,9086,9087,9088,9089,9090,9091,9092,9093,9094,9095,9096,9097,9098,9099,9100,9101,9102,9103,9104,9105,9106,9107,9108,9109,9110,9111,9112,9113,9114,9115,9116,9117,9118,9119,9120,9121,9122,9123,9124,9125,9126,9127,9128,9129,9130,9131,9132,9133,9134,9135,9136,9137,9138,9139,9140,9141,9142,9143,9144,9145,9146,9147,9148,9149,9150,9151,9152,9153,9154,9155,9156,9157,9158,9159,9160,9161,9162,9163,9164,9165,9166,9167,9168,9169,9170,9171,9172,9173,9174,9175,9176,9177,9178,9179,9180,9181,9182,9183,9184,9185,9186,9187,9188,9189,9190,9191,9192,9193,9194,9195,9196,9197,9198,9199,9200,9201,9202,9203,9204,9205,9206,9207,9208,9209,9210,9211,9212,9213,9214,9215,9216,9217,9218,9219,9220,9221,9222,9223,9224,9225,9226,9227,9228,9229,9230,9231,9232,9233,9234,9235,9236,9237,9238,9239,9240,9241,9242,9243,9244,9245,9246,9247,9248,9249,9250,9251,9252,9253,9254,9255,9256,9257,9258,9259,9260,9261,9262,9263,9264,9265,9266,9267,9268,9269,9270,9271,9272,9273,9274,9275,9276,9277,9278,9279,9280,9281,9282,9283,9284,9285,9286,9287,9288,9289,9290,9291,9292,9293,9294,9295,9296,9297,9298,9299,9300,9301,9302,9303,9304,9305,9306,9307,9308,9309,9310,9311,9312,9313,9314,9315,9316,9317,9318,9319,9320,9321,9322,9323,9324,9325,9326,9327,9328,9329,9330,9331,9332,9333,9334,9335,9336,9337,9338,9339,9340,9341,9342,9343,9344,9345,9346,9347,9348,9349,9350,9351,9352,9353,9354,9355,9356,9357,9358,9359,9360,9361,9362,9363,9364,9365,9366,9367,9368,9369,9370,9371,9372,9373,9374,9375,9376,9377,9378,9379,9380,9381,9382,9383,9384,9385,9386,9387,9388,9389,9390,9391,9392,9393,9394,9395,9396,9397,9398,9399,9400,9401,9402,9403,9404,9405,9406,9407,9408,9409,9410,9411,9412,9413,9414,9415,9416,9417,9418,9419,9420,9421,9422,9423,9424,9425,9426,9427,9428,9429,9430,9431,9432,9433,9434,9435,9436,9437,9438,9439,9440,9441,9442,9443,9444,9445,9446,9447,9448,9449,9450,9451,9452,9453,9454,9455,9456,9457,9458,9459,9460,9461,9462,9463,9464,9465,9466,9467,9468,9469,9470,9471,9472,9473,9474,9475,9476,9477,9478,9479,9480,9481,9482,9483,9484,9485,9486,9487,9488,9489,9490,9491,9492,9493,9494,9495,9496,9497,9498,9499,9500,9501,9502,9503,9504,9505,9506,9507,9508,9509,9510,9511,9512,9513,9514,9515,9516,9517,9518,9519,9520,9521,9522,9523,9524,9525,9526,9527,9528,9529,9530,9531,9532,9533,9534,9535,9536,9537,9538,9539,9540,9541,9542,9543,9544,9545,9546,9547,9548,9549,9550,9551,9552,9553,9554,9555,9556,9557,9558,9559,9560,9561,9562,9563,9564,9565,9566,9567,9568,9569,9570,9571,9572,9573,9574,9575,9576,9577,9578,9579,9580,9581,9582,9583,9584,9585,9586,9587,9588,9589,9590,9591,9592,9593,9594,9595,9596,9597,9598,9599,9600,9601,9602,9603,9604,9605,9606,9607,9608,9609,9610,9611,9612,9613,9614,9615,9616,9617,9618,9619,9620,9621,9622,9623,9624,9625,9626,9627,9628,9629,9630,9631,9632,9633,9634,9635,9636,9637,9638,9639,9640,9641,9642,9643,9644,9645,9646,9647,9648,9649,9650,9651,9652,9653,9654,9655,9656,9657,9658,9659,9660,9661,9662,9663,9664,9665,9666,9667,9668,9669,9670,9671,9672,9673,9674,9675,9676,9677,9678,9679,9680,9681,9682,9683,9684,9685,9686,9687,9688,9689,9690,9691,9692,9693,9694,9695,9696,9697,9698,9699,9700,9701,9702,9703,9704,9705,9706,9707,9708,9709,9710,9711,9712,9713,9714,9715,9716,9717,9718,9719,9720,9721,9722,9723,9724,9725,9726,9727,9728,9729,9730,9731,9732,9733,9734,9735,9736,9737,9738,9739,9740,9741,9742,9743,9744,9745,9746,9747,9748,9749,9750,9751,9752,9753,9754,9755,9756,9757,9758,9759,9760,9761,9762,9763,9764,9765,9766,9767,9768,9769,9770,9771,9772,9773,9774,9775,9776,9777,9778,9779,9780,9781,9782,9783,9784,9785,9786,9787,9788,9789,9790,9791,9792,9793,9794,9795,9796,9797,9798,9799,9800,9801,9802,9803,9804,9805,9806,9807,9808,9809,9810,9811,9812,9813,9814,9815,9816,9817,9818,9819,9820,9821,9822,9823,9824,9825,9826,9827,9828,9829,9830,9831,9832,9833,9834,9835,9836,9837,9838,9839,9840,9841,9842,9843,9844,9845,9846,9847,9848,9849,9850,9851,9852,9853,9854,9855,9856,9857,9858,9859,9860,9861,9862,9863,9864,9865,9866,9867,9868,9869,9870,9871,9872,9873,9874,9875,9876,9877,9878,9879,9880,9881,9882,9883,9884,9885,9886,9887,9888,9889,9890,9891,9892,9893,9894,9895,9896,9897,9898,9899,9900,9901,9902,9903,9904,9905,9906,9907,9908,9909,9910,9911,9912,9913,9914,9915,9916,9917,9918,9919,9920,9921,9922,9923,9924,9925,9926,9927,9928,9929,9930,9931,9932,9933,9934,9935,9936,9937,9938,9939,9940,9941,9942,9943,9944,9945,9946,9947,9948,9949,9950,9951,9952,9953,9954,9955,9956,9957,9958,9959,9960,9961,9962,9963,9964,9965,9966,9967,9968,9969,9970,9971,9972,9973,9974,9975,9976,9977,9978,9979,9980,9981,9982,9983,9984,9985,9986,9987,9988,9989,9990,9991,9992,9993,9994,9995,9996,9997,9998,9999],\"level_0\":[0,1,2,3,4,5,6,7,8,9,10,11,12,13,14,15,16,17,18,19,20,21,22,23,24,25,26,27,28,29,30,31,32,33,34,35,36,37,38,39,40,41,42,43,44,45,46,47,48,49,50,51,52,53,54,55,56,57,58,59,60,61,62,63,64,65,66,67,68,69,70,71,72,73,74,75,76,77,78,79,80,81,82,83,84,85,86,87,88,89,90,91,92,93,94,95,96,97,98,99,100,101,102,103,104,105,106,107,108,109,110,111,112,113,114,115,116,117,118,119,120,121,122,123,124,125,126,127,128,129,130,131,132,133,134,135,136,137,138,139,140,141,142,143,144,145,146,147,148,149,150,151,152,153,154,155,156,157,158,159,160,161,162,163,164,165,166,167,168,169,170,171,172,173,174,175,176,177,178,179,180,181,182,183,184,185,186,187,188,189,190,191,192,193,194,195,196,197,198,199,200,201,202,203,204,205,206,207,208,209,210,211,212,213,214,215,216,217,218,219,220,221,222,223,224,225,226,227,228,229,230,231,232,233,234,235,236,237,238,239,240,241,242,243,244,245,246,247,248,249,250,251,252,253,254,255,256,257,258,259,260,261,262,263,264,265,266,267,268,269,270,271,272,273,274,275,276,277,278,279,280,281,282,283,284,285,286,287,288,289,290,291,292,293,294,295,296,297,298,299,300,301,302,303,304,305,306,307,308,309,310,311,312,313,314,315,316,317,318,319,320,321,322,323,324,325,326,327,328,329,330,331,332,333,334,335,336,337,338,339,340,341,342,343,344,345,346,347,348,349,350,351,352,353,354,355,356,357,358,359,360,361,362,363,364,365,366,367,368,369,370,371,372,373,374,375,376,377,378,379,380,381,382,383,384,385,386,387,388,389,390,391,392,393,394,395,396,397,398,399,400,401,402,403,404,405,406,407,408,409,410,411,412,413,414,415,416,417,418,419,420,421,422,423,424,425,426,427,428,429,430,431,432,433,434,435,436,437,438,439,440,441,442,443,444,445,446,447,448,449,450,451,452,453,454,455,456,457,458,459,460,461,462,463,464,465,466,467,468,469,470,471,472,473,474,475,476,477,478,479,480,481,482,483,484,485,486,487,488,489,490,491,492,493,494,495,496,497,498,499,500,501,502,503,504,505,506,507,508,509,510,511,512,513,514,515,516,517,518,519,520,521,522,523,524,525,526,527,528,529,530,531,532,533,534,535,536,537,538,539,540,541,542,543,544,545,546,547,548,549,550,551,552,553,554,555,556,557,558,559,560,561,562,563,564,565,566,567,568,569,570,571,572,573,574,575,576,577,578,579,580,581,582,583,584,585,586,587,588,589,590,591,592,593,594,595,596,597,598,599,600,601,602,603,604,605,606,607,608,609,610,611,612,613,614,615,616,617,618,619,620,621,622,623,624,625,626,627,628,629,630,631,632,633,634,635,636,637,638,639,640,641,642,643,644,645,646,647,648,649,650,651,652,653,654,655,656,657,658,659,660,661,662,663,664,665,666,667,668,669,670,671,672,673,674,675,676,677,678,679,680,681,682,683,684,685,686,687,688,689,690,691,692,693,694,695,696,697,698,699,700,701,702,703,704,705,706,707,708,709,710,711,712,713,714,715,716,717,718,719,720,721,722,723,724,725,726,727,728,729,730,731,732,733,734,735,736,737,738,739,740,741,742,743,744,745,746,747,748,749,750,751,752,753,754,755,756,757,758,759,760,761,762,763,764,765,766,767,768,769,770,771,772,773,774,775,776,777,778,779,780,781,782,783,784,785,786,787,788,789,790,791,792,793,794,795,796,797,798,799,800,801,802,803,804,805,806,807,808,809,810,811,812,813,814,815,816,817,818,819,820,821,822,823,824,825,826,827,828,829,830,831,832,833,834,835,836,837,838,839,840,841,842,843,844,845,846,847,848,849,850,851,852,853,854,855,856,857,858,859,860,861,862,863,864,865,866,867,868,869,870,871,872,873,874,875,876,877,878,879,880,881,882,883,884,885,886,887,888,889,890,891,892,893,894,895,896,897,898,899,900,901,902,903,904,905,906,907,908,909,910,911,912,913,914,915,916,917,918,919,920,921,922,923,924,925,926,927,928,929,930,931,932,933,934,935,936,937,938,939,940,941,942,943,944,945,946,947,948,949,950,951,952,953,954,955,956,957,958,959,960,961,962,963,964,965,966,967,968,969,970,971,972,973,974,975,976,977,978,979,980,981,982,983,984,985,986,987,988,989,990,991,992,993,994,995,996,997,998,999,1000,1001,1002,1003,1004,1005,1006,1007,1008,1009,1010,1011,1012,1013,1014,1015,1016,1017,1018,1019,1020,1021,1022,1023,1024,1025,1026,1027,1028,1029,1030,1031,1032,1033,1034,1035,1036,1037,1038,1039,1040,1041,1042,1043,1044,1045,1046,1047,1048,1049,1050,1051,1052,1053,1054,1055,1056,1057,1058,1059,1060,1061,1062,1063,1064,1065,1066,1067,1068,1069,1070,1071,1072,1073,1074,1075,1076,1077,1078,1079,1080,1081,1082,1083,1084,1085,1086,1087,1088,1089,1090,1091,1092,1093,1094,1095,1096,1097,1098,1099,1100,1101,1102,1103,1104,1105,1106,1107,1108,1109,1110,1111,1112,1113,1114,1115,1116,1117,1118,1119,1120,1121,1122,1123,1124,1125,1126,1127,1128,1129,1130,1131,1132,1133,1134,1135,1136,1137,1138,1139,1140,1141,1142,1143,1144,1145,1146,1147,1148,1149,1150,1151,1152,1153,1154,1155,1156,1157,1158,1159,1160,1161,1162,1163,1164,1165,1166,1167,1168,1169,1170,1171,1172,1173,1174,1175,1176,1177,1178,1179,1180,1181,1182,1183,1184,1185,1186,1187,1188,1189,1190,1191,1192,1193,1194,1195,1196,1197,1198,1199,1200,1201,1202,1203,1204,1205,1206,1207,1208,1209,1210,1211,1212,1213,1214,1215,1216,1217,1218,1219,1220,1221,1222,1223,1224,1225,1226,1227,1228,1229,1230,1231,1232,1233,1234,1235,1236,1237,1238,1239,1240,1241,1242,1243,1244,1245,1246,1247,1248,1249,1250,1251,1252,1253,1254,1255,1256,1257,1258,1259,1260,1261,1262,1263,1264,1265,1266,1267,1268,1269,1270,1271,1272,1273,1274,1275,1276,1277,1278,1279,1280,1281,1282,1283,1284,1285,1286,1287,1288,1289,1290,1291,1292,1293,1294,1295,1296,1297,1298,1299,1300,1301,1302,1303,1304,1305,1306,1307,1308,1309,1310,1311,1312,1313,1314,1315,1316,1317,1318,1319,1320,1321,1322,1323,1324,1325,1326,1327,1328,1329,1330,1331,1332,1333,1334,1335,1336,1337,1338,1339,1340,1341,1342,1343,1344,1345,1346,1347,1348,1349,1350,1351,1352,1353,1354,1355,1356,1357,1358,1359,1360,1361,1362,1363,1364,1365,1366,1367,1368,1369,1370,1371,1372,1373,1374,1375,1376,1377,1378,1379,1380,1381,1382,1383,1384,1385,1386,1387,1388,1389,1390,1391,1392,1393,1394,1395,1396,1397,1398,1399,1400,1401,1402,1403,1404,1405,1406,1407,1408,1409,1410,1411,1412,1413,1414,1415,1416,1417,1418,1419,1420,1421,1422,1423,1424,1425,1426,1427,1428,1429,1430,1431,1432,1433,1434,1435,1436,1437,1438,1439,1440,1441,1442,1443,1444,1445,1446,1447,1448,1449,1450,1451,1452,1453,1454,1455,1456,1457,1458,1459,1460,1461,1462,1463,1464,1465,1466,1467,1468,1469,1470,1471,1472,1473,1474,1475,1476,1477,1478,1479,1480,1481,1482,1483,1484,1485,1486,1487,1488,1489,1490,1491,1492,1493,1494,1495,1496,1497,1498,1499,1500,1501,1502,1503,1504,1505,1506,1507,1508,1509,1510,1511,1512,1513,1514,1515,1516,1517,1518,1519,1520,1521,1522,1523,1524,1525,1526,1527,1528,1529,1530,1531,1532,1533,1534,1535,1536,1537,1538,1539,1540,1541,1542,1543,1544,1545,1546,1547,1548,1549,1550,1551,1552,1553,1554,1555,1556,1557,1558,1559,1560,1561,1562,1563,1564,1565,1566,1567,1568,1569,1570,1571,1572,1573,1574,1575,1576,1577,1578,1579,1580,1581,1582,1583,1584,1585,1586,1587,1588,1589,1590,1591,1592,1593,1594,1595,1596,1597,1598,1599,1600,1601,1602,1603,1604,1605,1606,1607,1608,1609,1610,1611,1612,1613,1614,1615,1616,1617,1618,1619,1620,1621,1622,1623,1624,1625,1626,1627,1628,1629,1630,1631,1632,1633,1634,1635,1636,1637,1638,1639,1640,1641,1642,1643,1644,1645,1646,1647,1648,1649,1650,1651,1652,1653,1654,1655,1656,1657,1658,1659,1660,1661,1662,1663,1664,1665,1666,1667,1668,1669,1670,1671,1672,1673,1674,1675,1676,1677,1678,1679,1680,1681,1682,1683,1684,1685,1686,1687,1688,1689,1690,1691,1692,1693,1694,1695,1696,1697,1698,1699,1700,1701,1702,1703,1704,1705,1706,1707,1708,1709,1710,1711,1712,1713,1714,1715,1716,1717,1718,1719,1720,1721,1722,1723,1724,1725,1726,1727,1728,1729,1730,1731,1732,1733,1734,1735,1736,1737,1738,1739,1740,1741,1742,1743,1744,1745,1746,1747,1748,1749,1750,1751,1752,1753,1754,1755,1756,1757,1758,1759,1760,1761,1762,1763,1764,1765,1766,1767,1768,1769,1770,1771,1772,1773,1774,1775,1776,1777,1778,1779,1780,1781,1782,1783,1784,1785,1786,1787,1788,1789,1790,1791,1792,1793,1794,1795,1796,1797,1798,1799,1800,1801,1802,1803,1804,1805,1806,1807,1808,1809,1810,1811,1812,1813,1814,1815,1816,1817,1818,1819,1820,1821,1822,1823,1824,1825,1826,1827,1828,1829,1830,1831,1832,1833,1834,1835,1836,1837,1838,1839,1840,1841,1842,1843,1844,1845,1846,1847,1848,1849,1850,1851,1852,1853,1854,1855,1856,1857,1858,1859,1860,1861,1862,1863,1864,1865,1866,1867,1868,1869,1870,1871,1872,1873,1874,1875,1876,1877,1878,1879,1880,1881,1882,1883,1884,1885,1886,1887,1888,1889,1890,1891,1892,1893,1894,1895,1896,1897,1898,1899,1900,1901,1902,1903,1904,1905,1906,1907,1908,1909,1910,1911,1912,1913,1914,1915,1916,1917,1918,1919,1920,1921,1922,1923,1924,1925,1926,1927,1928,1929,1930,1931,1932,1933,1934,1935,1936,1937,1938,1939,1940,1941,1942,1943,1944,1945,1946,1947,1948,1949,1950,1951,1952,1953,1954,1955,1956,1957,1958,1959,1960,1961,1962,1963,1964,1965,1966,1967,1968,1969,1970,1971,1972,1973,1974,1975,1976,1977,1978,1979,1980,1981,1982,1983,1984,1985,1986,1987,1988,1989,1990,1991,1992,1993,1994,1995,1996,1997,1998,1999,2000,2001,2002,2003,2004,2005,2006,2007,2008,2009,2010,2011,2012,2013,2014,2015,2016,2017,2018,2019,2020,2021,2022,2023,2024,2025,2026,2027,2028,2029,2030,2031,2032,2033,2034,2035,2036,2037,2038,2039,2040,2041,2042,2043,2044,2045,2046,2047,2048,2049,2050,2051,2052,2053,2054,2055,2056,2057,2058,2059,2060,2061,2062,2063,2064,2065,2066,2067,2068,2069,2070,2071,2072,2073,2074,2075,2076,2077,2078,2079,2080,2081,2082,2083,2084,2085,2086,2087,2088,2089,2090,2091,2092,2093,2094,2095,2096,2097,2098,2099,2100,2101,2102,2103,2104,2105,2106,2107,2108,2109,2110,2111,2112,2113,2114,2115,2116,2117,2118,2119,2120,2121,2122,2123,2124,2125,2126,2127,2128,2129,2130,2131,2132,2133,2134,2135,2136,2137,2138,2139,2140,2141,2142,2143,2144,2145,2146,2147,2148,2149,2150,2151,2152,2153,2154,2155,2156,2157,2158,2159,2160,2161,2162,2163,2164,2165,2166,2167,2168,2169,2170,2171,2172,2173,2174,2175,2176,2177,2178,2179,2180,2181,2182,2183,2184,2185,2186,2187,2188,2189,2190,2191,2192,2193,2194,2195,2196,2197,2198,2199,2200,2201,2202,2203,2204,2205,2206,2207,2208,2209,2210,2211,2212,2213,2214,2215,2216,2217,2218,2219,2220,2221,2222,2223,2224,2225,2226,2227,2228,2229,2230,2231,2232,2233,2234,2235,2236,2237,2238,2239,2240,2241,2242,2243,2244,2245,2246,2247,2248,2249,2250,2251,2252,2253,2254,2255,2256,2257,2258,2259,2260,2261,2262,2263,2264,2265,2266,2267,2268,2269,2270,2271,2272,2273,2274,2275,2276,2277,2278,2279,2280,2281,2282,2283,2284,2285,2286,2287,2288,2289,2290,2291,2292,2293,2294,2295,2296,2297,2298,2299,2300,2301,2302,2303,2304,2305,2306,2307,2308,2309,2310,2311,2312,2313,2314,2315,2316,2317,2318,2319,2320,2321,2322,2323,2324,2325,2326,2327,2328,2329,2330,2331,2332,2333,2334,2335,2336,2337,2338,2339,2340,2341,2342,2343,2344,2345,2346,2347,2348,2349,2350,2351,2352,2353,2354,2355,2356,2357,2358,2359,2360,2361,2362,2363,2364,2365,2366,2367,2368,2369,2370,2371,2372,2373,2374,2375,2376,2377,2378,2379,2380,2381,2382,2383,2384,2385,2386,2387,2388,2389,2390,2391,2392,2393,2394,2395,2396,2397,2398,2399,2400,2401,2402,2403,2404,2405,2406,2407,2408,2409,2410,2411,2412,2413,2414,2415,2416,2417,2418,2419,2420,2421,2422,2423,2424,2425,2426,2427,2428,2429,2430,2431,2432,2433,2434,2435,2436,2437,2438,2439,2440,2441,2442,2443,2444,2445,2446,2447,2448,2449,2450,2451,2452,2453,2454,2455,2456,2457,2458,2459,2460,2461,2462,2463,2464,2465,2466,2467,2468,2469,2470,2471,2472,2473,2474,2475,2476,2477,2478,2479,2480,2481,2482,2483,2484,2485,2486,2487,2488,2489,2490,2491,2492,2493,2494,2495,2496,2497,2498,2499,2500,2501,2502,2503,2504,2505,2506,2507,2508,2509,2510,2511,2512,2513,2514,2515,2516,2517,2518,2519,2520,2521,2522,2523,2524,2525,2526,2527,2528,2529,2530,2531,2532,2533,2534,2535,2536,2537,2538,2539,2540,2541,2542,2543,2544,2545,2546,2547,2548,2549,2550,2551,2552,2553,2554,2555,2556,2557,2558,2559,2560,2561,2562,2563,2564,2565,2566,2567,2568,2569,2570,2571,2572,2573,2574,2575,2576,2577,2578,2579,2580,2581,2582,2583,2584,2585,2586,2587,2588,2589,2590,2591,2592,2593,2594,2595,2596,2597,2598,2599,2600,2601,2602,2603,2604,2605,2606,2607,2608,2609,2610,2611,2612,2613,2614,2615,2616,2617,2618,2619,2620,2621,2622,2623,2624,2625,2626,2627,2628,2629,2630,2631,2632,2633,2634,2635,2636,2637,2638,2639,2640,2641,2642,2643,2644,2645,2646,2647,2648,2649,2650,2651,2652,2653,2654,2655,2656,2657,2658,2659,2660,2661,2662,2663,2664,2665,2666,2667,2668,2669,2670,2671,2672,2673,2674,2675,2676,2677,2678,2679,2680,2681,2682,2683,2684,2685,2686,2687,2688,2689,2690,2691,2692,2693,2694,2695,2696,2697,2698,2699,2700,2701,2702,2703,2704,2705,2706,2707,2708,2709,2710,2711,2712,2713,2714,2715,2716,2717,2718,2719,2720,2721,2722,2723,2724,2725,2726,2727,2728,2729,2730,2731,2732,2733,2734,2735,2736,2737,2738,2739,2740,2741,2742,2743,2744,2745,2746,2747,2748,2749,2750,2751,2752,2753,2754,2755,2756,2757,2758,2759,2760,2761,2762,2763,2764,2765,2766,2767,2768,2769,2770,2771,2772,2773,2774,2775,2776,2777,2778,2779,2780,2781,2782,2783,2784,2785,2786,2787,2788,2789,2790,2791,2792,2793,2794,2795,2796,2797,2798,2799,2800,2801,2802,2803,2804,2805,2806,2807,2808,2809,2810,2811,2812,2813,2814,2815,2816,2817,2818,2819,2820,2821,2822,2823,2824,2825,2826,2827,2828,2829,2830,2831,2832,2833,2834,2835,2836,2837,2838,2839,2840,2841,2842,2843,2844,2845,2846,2847,2848,2849,2850,2851,2852,2853,2854,2855,2856,2857,2858,2859,2860,2861,2862,2863,2864,2865,2866,2867,2868,2869,2870,2871,2872,2873,2874,2875,2876,2877,2878,2879,2880,2881,2882,2883,2884,2885,2886,2887,2888,2889,2890,2891,2892,2893,2894,2895,2896,2897,2898,2899,2900,2901,2902,2903,2904,2905,2906,2907,2908,2909,2910,2911,2912,2913,2914,2915,2916,2917,2918,2919,2920,2921,2922,2923,2924,2925,2926,2927,2928,2929,2930,2931,2932,2933,2934,2935,2936,2937,2938,2939,2940,2941,2942,2943,2944,2945,2946,2947,2948,2949,2950,2951,2952,2953,2954,2955,2956,2957,2958,2959,2960,2961,2962,2963,2964,2965,2966,2967,2968,2969,2970,2971,2972,2973,2974,2975,2976,2977,2978,2979,2980,2981,2982,2983,2984,2985,2986,2987,2988,2989,2990,2991,2992,2993,2994,2995,2996,2997,2998,2999,3000,3001,3002,3003,3004,3005,3006,3007,3008,3009,3010,3011,3012,3013,3014,3015,3016,3017,3018,3019,3020,3021,3022,3023,3024,3025,3026,3027,3028,3029,3030,3031,3032,3033,3034,3035,3036,3037,3038,3039,3040,3041,3042,3043,3044,3045,3046,3047,3048,3049,3050,3051,3052,3053,3054,3055,3056,3057,3058,3059,3060,3061,3062,3063,3064,3065,3066,3067,3068,3069,3070,3071,3072,3073,3074,3075,3076,3077,3078,3079,3080,3081,3082,3083,3084,3085,3086,3087,3088,3089,3090,3091,3092,3093,3094,3095,3096,3097,3098,3099,3100,3101,3102,3103,3104,3105,3106,3107,3108,3109,3110,3111,3112,3113,3114,3115,3116,3117,3118,3119,3120,3121,3122,3123,3124,3125,3126,3127,3128,3129,3130,3131,3132,3133,3134,3135,3136,3137,3138,3139,3140,3141,3142,3143,3144,3145,3146,3147,3148,3149,3150,3151,3152,3153,3154,3155,3156,3157,3158,3159,3160,3161,3162,3163,3164,3165,3166,3167,3168,3169,3170,3171,3172,3173,3174,3175,3176,3177,3178,3179,3180,3181,3182,3183,3184,3185,3186,3187,3188,3189,3190,3191,3192,3193,3194,3195,3196,3197,3198,3199,3200,3201,3202,3203,3204,3205,3206,3207,3208,3209,3210,3211,3212,3213,3214,3215,3216,3217,3218,3219,3220,3221,3222,3223,3224,3225,3226,3227,3228,3229,3230,3231,3232,3233,3234,3235,3236,3237,3238,3239,3240,3241,3242,3243,3244,3245,3246,3247,3248,3249,3250,3251,3252,3253,3254,3255,3256,3257,3258,3259,3260,3261,3262,3263,3264,3265,3266,3267,3268,3269,3270,3271,3272,3273,3274,3275,3276,3277,3278,3279,3280,3281,3282,3283,3284,3285,3286,3287,3288,3289,3290,3291,3292,3293,3294,3295,3296,3297,3298,3299,3300,3301,3302,3303,3304,3305,3306,3307,3308,3309,3310,3311,3312,3313,3314,3315,3316,3317,3318,3319,3320,3321,3322,3323,3324,3325,3326,3327,3328,3329,3330,3331,3332,3333,3334,3335,3336,3337,3338,3339,3340,3341,3342,3343,3344,3345,3346,3347,3348,3349,3350,3351,3352,3353,3354,3355,3356,3357,3358,3359,3360,3361,3362,3363,3364,3365,3366,3367,3368,3369,3370,3371,3372,3373,3374,3375,3376,3377,3378,3379,3380,3381,3382,3383,3384,3385,3386,3387,3388,3389,3390,3391,3392,3393,3394,3395,3396,3397,3398,3399,3400,3401,3402,3403,3404,3405,3406,3407,3408,3409,3410,3411,3412,3413,3414,3415,3416,3417,3418,3419,3420,3421,3422,3423,3424,3425,3426,3427,3428,3429,3430,3431,3432,3433,3434,3435,3436,3437,3438,3439,3440,3441,3442,3443,3444,3445,3446,3447,3448,3449,3450,3451,3452,3453,3454,3455,3456,3457,3458,3459,3460,3461,3462,3463,3464,3465,3466,3467,3468,3469,3470,3471,3472,3473,3474,3475,3476,3477,3478,3479,3480,3481,3482,3483,3484,3485,3486,3487,3488,3489,3490,3491,3492,3493,3494,3495,3496,3497,3498,3499,3500,3501,3502,3503,3504,3505,3506,3507,3508,3509,3510,3511,3512,3513,3514,3515,3516,3517,3518,3519,3520,3521,3522,3523,3524,3525,3526,3527,3528,3529,3530,3531,3532,3533,3534,3535,3536,3537,3538,3539,3540,3541,3542,3543,3544,3545,3546,3547,3548,3549,3550,3551,3552,3553,3554,3555,3556,3557,3558,3559,3560,3561,3562,3563,3564,3565,3566,3567,3568,3569,3570,3571,3572,3573,3574,3575,3576,3577,3578,3579,3580,3581,3582,3583,3584,3585,3586,3587,3588,3589,3590,3591,3592,3593,3594,3595,3596,3597,3598,3599,3600,3601,3602,3603,3604,3605,3606,3607,3608,3609,3610,3611,3612,3613,3614,3615,3616,3617,3618,3619,3620,3621,3622,3623,3624,3625,3626,3627,3628,3629,3630,3631,3632,3633,3634,3635,3636,3637,3638,3639,3640,3641,3642,3643,3644,3645,3646,3647,3648,3649,3650,3651,3652,3653,3654,3655,3656,3657,3658,3659,3660,3661,3662,3663,3664,3665,3666,3667,3668,3669,3670,3671,3672,3673,3674,3675,3676,3677,3678,3679,3680,3681,3682,3683,3684,3685,3686,3687,3688,3689,3690,3691,3692,3693,3694,3695,3696,3697,3698,3699,3700,3701,3702,3703,3704,3705,3706,3707,3708,3709,3710,3711,3712,3713,3714,3715,3716,3717,3718,3719,3720,3721,3722,3723,3724,3725,3726,3727,3728,3729,3730,3731,3732,3733,3734,3735,3736,3737,3738,3739,3740,3741,3742,3743,3744,3745,3746,3747,3748,3749,3750,3751,3752,3753,3754,3755,3756,3757,3758,3759,3760,3761,3762,3763,3764,3765,3766,3767,3768,3769,3770,3771,3772,3773,3774,3775,3776,3777,3778,3779,3780,3781,3782,3783,3784,3785,3786,3787,3788,3789,3790,3791,3792,3793,3794,3795,3796,3797,3798,3799,3800,3801,3802,3803,3804,3805,3806,3807,3808,3809,3810,3811,3812,3813,3814,3815,3816,3817,3818,3819,3820,3821,3822,3823,3824,3825,3826,3827,3828,3829,3830,3831,3832,3833,3834,3835,3836,3837,3838,3839,3840,3841,3842,3843,3844,3845,3846,3847,3848,3849,3850,3851,3852,3853,3854,3855,3856,3857,3858,3859,3860,3861,3862,3863,3864,3865,3866,3867,3868,3869,3870,3871,3872,3873,3874,3875,3876,3877,3878,3879,3880,3881,3882,3883,3884,3885,3886,3887,3888,3889,3890,3891,3892,3893,3894,3895,3896,3897,3898,3899,3900,3901,3902,3903,3904,3905,3906,3907,3908,3909,3910,3911,3912,3913,3914,3915,3916,3917,3918,3919,3920,3921,3922,3923,3924,3925,3926,3927,3928,3929,3930,3931,3932,3933,3934,3935,3936,3937,3938,3939,3940,3941,3942,3943,3944,3945,3946,3947,3948,3949,3950,3951,3952,3953,3954,3955,3956,3957,3958,3959,3960,3961,3962,3963,3964,3965,3966,3967,3968,3969,3970,3971,3972,3973,3974,3975,3976,3977,3978,3979,3980,3981,3982,3983,3984,3985,3986,3987,3988,3989,3990,3991,3992,3993,3994,3995,3996,3997,3998,3999,4000,4001,4002,4003,4004,4005,4006,4007,4008,4009,4010,4011,4012,4013,4014,4015,4016,4017,4018,4019,4020,4021,4022,4023,4024,4025,4026,4027,4028,4029,4030,4031,4032,4033,4034,4035,4036,4037,4038,4039,4040,4041,4042,4043,4044,4045,4046,4047,4048,4049,4050,4051,4052,4053,4054,4055,4056,4057,4058,4059,4060,4061,4062,4063,4064,4065,4066,4067,4068,4069,4070,4071,4072,4073,4074,4075,4076,4077,4078,4079,4080,4081,4082,4083,4084,4085,4086,4087,4088,4089,4090,4091,4092,4093,4094,4095,4096,4097,4098,4099,4100,4101,4102,4103,4104,4105,4106,4107,4108,4109,4110,4111,4112,4113,4114,4115,4116,4117,4118,4119,4120,4121,4122,4123,4124,4125,4126,4127,4128,4129,4130,4131,4132,4133,4134,4135,4136,4137,4138,4139,4140,4141,4142,4143,4144,4145,4146,4147,4148,4149,4150,4151,4152,4153,4154,4155,4156,4157,4158,4159,4160,4161,4162,4163,4164,4165,4166,4167,4168,4169,4170,4171,4172,4173,4174,4175,4176,4177,4178,4179,4180,4181,4182,4183,4184,4185,4186,4187,4188,4189,4190,4191,4192,4193,4194,4195,4196,4197,4198,4199,4200,4201,4202,4203,4204,4205,4206,4207,4208,4209,4210,4211,4212,4213,4214,4215,4216,4217,4218,4219,4220,4221,4222,4223,4224,4225,4226,4227,4228,4229,4230,4231,4232,4233,4234,4235,4236,4237,4238,4239,4240,4241,4242,4243,4244,4245,4246,4247,4248,4249,4250,4251,4252,4253,4254,4255,4256,4257,4258,4259,4260,4261,4262,4263,4264,4265,4266,4267,4268,4269,4270,4271,4272,4273,4274,4275,4276,4277,4278,4279,4280,4281,4282,4283,4284,4285,4286,4287,4288,4289,4290,4291,4292,4293,4294,4295,4296,4297,4298,4299,4300,4301,4302,4303,4304,4305,4306,4307,4308,4309,4310,4311,4312,4313,4314,4315,4316,4317,4318,4319,4320,4321,4322,4323,4324,4325,4326,4327,4328,4329,4330,4331,4332,4333,4334,4335,4336,4337,4338,4339,4340,4341,4342,4343,4344,4345,4346,4347,4348,4349,4350,4351,4352,4353,4354,4355,4356,4357,4358,4359,4360,4361,4362,4363,4364,4365,4366,4367,4368,4369,4370,4371,4372,4373,4374,4375,4376,4377,4378,4379,4380,4381,4382,4383,4384,4385,4386,4387,4388,4389,4390,4391,4392,4393,4394,4395,4396,4397,4398,4399,4400,4401,4402,4403,4404,4405,4406,4407,4408,4409,4410,4411,4412,4413,4414,4415,4416,4417,4418,4419,4420,4421,4422,4423,4424,4425,4426,4427,4428,4429,4430,4431,4432,4433,4434,4435,4436,4437,4438,4439,4440,4441,4442,4443,4444,4445,4446,4447,4448,4449,4450,4451,4452,4453,4454,4455,4456,4457,4458,4459,4460,4461,4462,4463,4464,4465,4466,4467,4468,4469,4470,4471,4472,4473,4474,4475,4476,4477,4478,4479,4480,4481,4482,4483,4484,4485,4486,4487,4488,4489,4490,4491,4492,4493,4494,4495,4496,4497,4498,4499,4500,4501,4502,4503,4504,4505,4506,4507,4508,4509,4510,4511,4512,4513,4514,4515,4516,4517,4518,4519,4520,4521,4522,4523,4524,4525,4526,4527,4528,4529,4530,4531,4532,4533,4534,4535,4536,4537,4538,4539,4540,4541,4542,4543,4544,4545,4546,4547,4548,4549,4550,4551,4552,4553,4554,4555,4556,4557,4558,4559,4560,4561,4562,4563,4564,4565,4566,4567,4568,4569,4570,4571,4572,4573,4574,4575,4576,4577,4578,4579,4580,4581,4582,4583,4584,4585,4586,4587,4588,4589,4590,4591,4592,4593,4594,4595,4596,4597,4598,4599,4600,4601,4602,4603,4604,4605,4606,4607,4608,4609,4610,4611,4612,4613,4614,4615,4616,4617,4618,4619,4620,4621,4622,4623,4624,4625,4626,4627,4628,4629,4630,4631,4632,4633,4634,4635,4636,4637,4638,4639,4640,4641,4642,4643,4644,4645,4646,4647,4648,4649,4650,4651,4652,4653,4654,4655,4656,4657,4658,4659,4660,4661,4662,4663,4664,4665,4666,4667,4668,4669,4670,4671,4672,4673,4674,4675,4676,4677,4678,4679,4680,4681,4682,4683,4684,4685,4686,4687,4688,4689,4690,4691,4692,4693,4694,4695,4696,4697,4698,4699,4700,4701,4702,4703,4704,4705,4706,4707,4708,4709,4710,4711,4712,4713,4714,4715,4716,4717,4718,4719,4720,4721,4722,4723,4724,4725,4726,4727,4728,4729,4730,4731,4732,4733,4734,4735,4736,4737,4738,4739,4740,4741,4742,4743,4744,4745,4746,4747,4748,4749,4750,4751,4752,4753,4754,4755,4756,4757,4758,4759,4760,4761,4762,4763,4764,4765,4766,4767,4768,4769,4770,4771,4772,4773,4774,4775,4776,4777,4778,4779,4780,4781,4782,4783,4784,4785,4786,4787,4788,4789,4790,4791,4792,4793,4794,4795,4796,4797,4798,4799,4800,4801,4802,4803,4804,4805,4806,4807,4808,4809,4810,4811,4812,4813,4814,4815,4816,4817,4818,4819,4820,4821,4822,4823,4824,4825,4826,4827,4828,4829,4830,4831,4832,4833,4834,4835,4836,4837,4838,4839,4840,4841,4842,4843,4844,4845,4846,4847,4848,4849,4850,4851,4852,4853,4854,4855,4856,4857,4858,4859,4860,4861,4862,4863,4864,4865,4866,4867,4868,4869,4870,4871,4872,4873,4874,4875,4876,4877,4878,4879,4880,4881,4882,4883,4884,4885,4886,4887,4888,4889,4890,4891,4892,4893,4894,4895,4896,4897,4898,4899,4900,4901,4902,4903,4904,4905,4906,4907,4908,4909,4910,4911,4912,4913,4914,4915,4916,4917,4918,4919,4920,4921,4922,4923,4924,4925,4926,4927,4928,4929,4930,4931,4932,4933,4934,4935,4936,4937,4938,4939,4940,4941,4942,4943,4944,4945,4946,4947,4948,4949,4950,4951,4952,4953,4954,4955,4956,4957,4958,4959,4960,4961,4962,4963,4964,4965,4966,4967,4968,4969,4970,4971,4972,4973,4974,4975,4976,4977,4978,4979,4980,4981,4982,4983,4984,4985,4986,4987,4988,4989,4990,4991,4992,4993,4994,4995,4996,4997,4998,4999,5000,5001,5002,5003,5004,5005,5006,5007,5008,5009,5010,5011,5012,5013,5014,5015,5016,5017,5018,5019,5020,5021,5022,5023,5024,5025,5026,5027,5028,5029,5030,5031,5032,5033,5034,5035,5036,5037,5038,5039,5040,5041,5042,5043,5044,5045,5046,5047,5048,5049,5050,5051,5052,5053,5054,5055,5056,5057,5058,5059,5060,5061,5062,5063,5064,5065,5066,5067,5068,5069,5070,5071,5072,5073,5074,5075,5076,5077,5078,5079,5080,5081,5082,5083,5084,5085,5086,5087,5088,5089,5090,5091,5092,5093,5094,5095,5096,5097,5098,5099,5100,5101,5102,5103,5104,5105,5106,5107,5108,5109,5110,5111,5112,5113,5114,5115,5116,5117,5118,5119,5120,5121,5122,5123,5124,5125,5126,5127,5128,5129,5130,5131,5132,5133,5134,5135,5136,5137,5138,5139,5140,5141,5142,5143,5144,5145,5146,5147,5148,5149,5150,5151,5152,5153,5154,5155,5156,5157,5158,5159,5160,5161,5162,5163,5164,5165,5166,5167,5168,5169,5170,5171,5172,5173,5174,5175,5176,5177,5178,5179,5180,5181,5182,5183,5184,5185,5186,5187,5188,5189,5190,5191,5192,5193,5194,5195,5196,5197,5198,5199,5200,5201,5202,5203,5204,5205,5206,5207,5208,5209,5210,5211,5212,5213,5214,5215,5216,5217,5218,5219,5220,5221,5222,5223,5224,5225,5226,5227,5228,5229,5230,5231,5232,5233,5234,5235,5236,5237,5238,5239,5240,5241,5242,5243,5244,5245,5246,5247,5248,5249,5250,5251,5252,5253,5254,5255,5256,5257,5258,5259,5260,5261,5262,5263,5264,5265,5266,5267,5268,5269,5270,5271,5272,5273,5274,5275,5276,5277,5278,5279,5280,5281,5282,5283,5284,5285,5286,5287,5288,5289,5290,5291,5292,5293,5294,5295,5296,5297,5298,5299,5300,5301,5302,5303,5304,5305,5306,5307,5308,5309,5310,5311,5312,5313,5314,5315,5316,5317,5318,5319,5320,5321,5322,5323,5324,5325,5326,5327,5328,5329,5330,5331,5332,5333,5334,5335,5336,5337,5338,5339,5340,5341,5342,5343,5344,5345,5346,5347,5348,5349,5350,5351,5352,5353,5354,5355,5356,5357,5358,5359,5360,5361,5362,5363,5364,5365,5366,5367,5368,5369,5370,5371,5372,5373,5374,5375,5376,5377,5378,5379,5380,5381,5382,5383,5384,5385,5386,5387,5388,5389,5390,5391,5392,5393,5394,5395,5396,5397,5398,5399,5400,5401,5402,5403,5404,5405,5406,5407,5408,5409,5410,5411,5412,5413,5414,5415,5416,5417,5418,5419,5420,5421,5422,5423,5424,5425,5426,5427,5428,5429,5430,5431,5432,5433,5434,5435,5436,5437,5438,5439,5440,5441,5442,5443,5444,5445,5446,5447,5448,5449,5450,5451,5452,5453,5454,5455,5456,5457,5458,5459,5460,5461,5462,5463,5464,5465,5466,5467,5468,5469,5470,5471,5472,5473,5474,5475,5476,5477,5478,5479,5480,5481,5482,5483,5484,5485,5486,5487,5488,5489,5490,5491,5492,5493,5494,5495,5496,5497,5498,5499,5500,5501,5502,5503,5504,5505,5506,5507,5508,5509,5510,5511,5512,5513,5514,5515,5516,5517,5518,5519,5520,5521,5522,5523,5524,5525,5526,5527,5528,5529,5530,5531,5532,5533,5534,5535,5536,5537,5538,5539,5540,5541,5542,5543,5544,5545,5546,5547,5548,5549,5550,5551,5552,5553,5554,5555,5556,5557,5558,5559,5560,5561,5562,5563,5564,5565,5566,5567,5568,5569,5570,5571,5572,5573,5574,5575,5576,5577,5578,5579,5580,5581,5582,5583,5584,5585,5586,5587,5588,5589,5590,5591,5592,5593,5594,5595,5596,5597,5598,5599,5600,5601,5602,5603,5604,5605,5606,5607,5608,5609,5610,5611,5612,5613,5614,5615,5616,5617,5618,5619,5620,5621,5622,5623,5624,5625,5626,5627,5628,5629,5630,5631,5632,5633,5634,5635,5636,5637,5638,5639,5640,5641,5642,5643,5644,5645,5646,5647,5648,5649,5650,5651,5652,5653,5654,5655,5656,5657,5658,5659,5660,5661,5662,5663,5664,5665,5666,5667,5668,5669,5670,5671,5672,5673,5674,5675,5676,5677,5678,5679,5680,5681,5682,5683,5684,5685,5686,5687,5688,5689,5690,5691,5692,5693,5694,5695,5696,5697,5698,5699,5700,5701,5702,5703,5704,5705,5706,5707,5708,5709,5710,5711,5712,5713,5714,5715,5716,5717,5718,5719,5720,5721,5722,5723,5724,5725,5726,5727,5728,5729,5730,5731,5732,5733,5734,5735,5736,5737,5738,5739,5740,5741,5742,5743,5744,5745,5746,5747,5748,5749,5750,5751,5752,5753,5754,5755,5756,5757,5758,5759,5760,5761,5762,5763,5764,5765,5766,5767,5768,5769,5770,5771,5772,5773,5774,5775,5776,5777,5778,5779,5780,5781,5782,5783,5784,5785,5786,5787,5788,5789,5790,5791,5792,5793,5794,5795,5796,5797,5798,5799,5800,5801,5802,5803,5804,5805,5806,5807,5808,5809,5810,5811,5812,5813,5814,5815,5816,5817,5818,5819,5820,5821,5822,5823,5824,5825,5826,5827,5828,5829,5830,5831,5832,5833,5834,5835,5836,5837,5838,5839,5840,5841,5842,5843,5844,5845,5846,5847,5848,5849,5850,5851,5852,5853,5854,5855,5856,5857,5858,5859,5860,5861,5862,5863,5864,5865,5866,5867,5868,5869,5870,5871,5872,5873,5874,5875,5876,5877,5878,5879,5880,5881,5882,5883,5884,5885,5886,5887,5888,5889,5890,5891,5892,5893,5894,5895,5896,5897,5898,5899,5900,5901,5902,5903,5904,5905,5906,5907,5908,5909,5910,5911,5912,5913,5914,5915,5916,5917,5918,5919,5920,5921,5922,5923,5924,5925,5926,5927,5928,5929,5930,5931,5932,5933,5934,5935,5936,5937,5938,5939,5940,5941,5942,5943,5944,5945,5946,5947,5948,5949,5950,5951,5952,5953,5954,5955,5956,5957,5958,5959,5960,5961,5962,5963,5964,5965,5966,5967,5968,5969,5970,5971,5972,5973,5974,5975,5976,5977,5978,5979,5980,5981,5982,5983,5984,5985,5986,5987,5988,5989,5990,5991,5992,5993,5994,5995,5996,5997,5998,5999,6000,6001,6002,6003,6004,6005,6006,6007,6008,6009,6010,6011,6012,6013,6014,6015,6016,6017,6018,6019,6020,6021,6022,6023,6024,6025,6026,6027,6028,6029,6030,6031,6032,6033,6034,6035,6036,6037,6038,6039,6040,6041,6042,6043,6044,6045,6046,6047,6048,6049,6050,6051,6052,6053,6054,6055,6056,6057,6058,6059,6060,6061,6062,6063,6064,6065,6066,6067,6068,6069,6070,6071,6072,6073,6074,6075,6076,6077,6078,6079,6080,6081,6082,6083,6084,6085,6086,6087,6088,6089,6090,6091,6092,6093,6094,6095,6096,6097,6098,6099,6100,6101,6102,6103,6104,6105,6106,6107,6108,6109,6110,6111,6112,6113,6114,6115,6116,6117,6118,6119,6120,6121,6122,6123,6124,6125,6126,6127,6128,6129,6130,6131,6132,6133,6134,6135,6136,6137,6138,6139,6140,6141,6142,6143,6144,6145,6146,6147,6148,6149,6150,6151,6152,6153,6154,6155,6156,6157,6158,6159,6160,6161,6162,6163,6164,6165,6166,6167,6168,6169,6170,6171,6172,6173,6174,6175,6176,6177,6178,6179,6180,6181,6182,6183,6184,6185,6186,6187,6188,6189,6190,6191,6192,6193,6194,6195,6196,6197,6198,6199,6200,6201,6202,6203,6204,6205,6206,6207,6208,6209,6210,6211,6212,6213,6214,6215,6216,6217,6218,6219,6220,6221,6222,6223,6224,6225,6226,6227,6228,6229,6230,6231,6232,6233,6234,6235,6236,6237,6238,6239,6240,6241,6242,6243,6244,6245,6246,6247,6248,6249,6250,6251,6252,6253,6254,6255,6256,6257,6258,6259,6260,6261,6262,6263,6264,6265,6266,6267,6268,6269,6270,6271,6272,6273,6274,6275,6276,6277,6278,6279,6280,6281,6282,6283,6284,6285,6286,6287,6288,6289,6290,6291,6292,6293,6294,6295,6296,6297,6298,6299,6300,6301,6302,6303,6304,6305,6306,6307,6308,6309,6310,6311,6312,6313,6314,6315,6316,6317,6318,6319,6320,6321,6322,6323,6324,6325,6326,6327,6328,6329,6330,6331,6332,6333,6334,6335,6336,6337,6338,6339,6340,6341,6342,6343,6344,6345,6346,6347,6348,6349,6350,6351,6352,6353,6354,6355,6356,6357,6358,6359,6360,6361,6362,6363,6364,6365,6366,6367,6368,6369,6370,6371,6372,6373,6374,6375,6376,6377,6378,6379,6380,6381,6382,6383,6384,6385,6386,6387,6388,6389,6390,6391,6392,6393,6394,6395,6396,6397,6398,6399,6400,6401,6402,6403,6404,6405,6406,6407,6408,6409,6410,6411,6412,6413,6414,6415,6416,6417,6418,6419,6420,6421,6422,6423,6424,6425,6426,6427,6428,6429,6430,6431,6432,6433,6434,6435,6436,6437,6438,6439,6440,6441,6442,6443,6444,6445,6446,6447,6448,6449,6450,6451,6452,6453,6454,6455,6456,6457,6458,6459,6460,6461,6462,6463,6464,6465,6466,6467,6468,6469,6470,6471,6472,6473,6474,6475,6476,6477,6478,6479,6480,6481,6482,6483,6484,6485,6486,6487,6488,6489,6490,6491,6492,6493,6494,6495,6496,6497,6498,6499,6500,6501,6502,6503,6504,6505,6506,6507,6508,6509,6510,6511,6512,6513,6514,6515,6516,6517,6518,6519,6520,6521,6522,6523,6524,6525,6526,6527,6528,6529,6530,6531,6532,6533,6534,6535,6536,6537,6538,6539,6540,6541,6542,6543,6544,6545,6546,6547,6548,6549,6550,6551,6552,6553,6554,6555,6556,6557,6558,6559,6560,6561,6562,6563,6564,6565,6566,6567,6568,6569,6570,6571,6572,6573,6574,6575,6576,6577,6578,6579,6580,6581,6582,6583,6584,6585,6586,6587,6588,6589,6590,6591,6592,6593,6594,6595,6596,6597,6598,6599,6600,6601,6602,6603,6604,6605,6606,6607,6608,6609,6610,6611,6612,6613,6614,6615,6616,6617,6618,6619,6620,6621,6622,6623,6624,6625,6626,6627,6628,6629,6630,6631,6632,6633,6634,6635,6636,6637,6638,6639,6640,6641,6642,6643,6644,6645,6646,6647,6648,6649,6650,6651,6652,6653,6654,6655,6656,6657,6658,6659,6660,6661,6662,6663,6664,6665,6666,6667,6668,6669,6670,6671,6672,6673,6674,6675,6676,6677,6678,6679,6680,6681,6682,6683,6684,6685,6686,6687,6688,6689,6690,6691,6692,6693,6694,6695,6696,6697,6698,6699,6700,6701,6702,6703,6704,6705,6706,6707,6708,6709,6710,6711,6712,6713,6714,6715,6716,6717,6718,6719,6720,6721,6722,6723,6724,6725,6726,6727,6728,6729,6730,6731,6732,6733,6734,6735,6736,6737,6738,6739,6740,6741,6742,6743,6744,6745,6746,6747,6748,6749,6750,6751,6752,6753,6754,6755,6756,6757,6758,6759,6760,6761,6762,6763,6764,6765,6766,6767,6768,6769,6770,6771,6772,6773,6774,6775,6776,6777,6778,6779,6780,6781,6782,6783,6784,6785,6786,6787,6788,6789,6790,6791,6792,6793,6794,6795,6796,6797,6798,6799,6800,6801,6802,6803,6804,6805,6806,6807,6808,6809,6810,6811,6812,6813,6814,6815,6816,6817,6818,6819,6820,6821,6822,6823,6824,6825,6826,6827,6828,6829,6830,6831,6832,6833,6834,6835,6836,6837,6838,6839,6840,6841,6842,6843,6844,6845,6846,6847,6848,6849,6850,6851,6852,6853,6854,6855,6856,6857,6858,6859,6860,6861,6862,6863,6864,6865,6866,6867,6868,6869,6870,6871,6872,6873,6874,6875,6876,6877,6878,6879,6880,6881,6882,6883,6884,6885,6886,6887,6888,6889,6890,6891,6892,6893,6894,6895,6896,6897,6898,6899,6900,6901,6902,6903,6904,6905,6906,6907,6908,6909,6910,6911,6912,6913,6914,6915,6916,6917,6918,6919,6920,6921,6922,6923,6924,6925,6926,6927,6928,6929,6930,6931,6932,6933,6934,6935,6936,6937,6938,6939,6940,6941,6942,6943,6944,6945,6946,6947,6948,6949,6950,6951,6952,6953,6954,6955,6956,6957,6958,6959,6960,6961,6962,6963,6964,6965,6966,6967,6968,6969,6970,6971,6972,6973,6974,6975,6976,6977,6978,6979,6980,6981,6982,6983,6984,6985,6986,6987,6988,6989,6990,6991,6992,6993,6994,6995,6996,6997,6998,6999,7000,7001,7002,7003,7004,7005,7006,7007,7008,7009,7010,7011,7012,7013,7014,7015,7016,7017,7018,7019,7020,7021,7022,7023,7024,7025,7026,7027,7028,7029,7030,7031,7032,7033,7034,7035,7036,7037,7038,7039,7040,7041,7042,7043,7044,7045,7046,7047,7048,7049,7050,7051,7052,7053,7054,7055,7056,7057,7058,7059,7060,7061,7062,7063,7064,7065,7066,7067,7068,7069,7070,7071,7072,7073,7074,7075,7076,7077,7078,7079,7080,7081,7082,7083,7084,7085,7086,7087,7088,7089,7090,7091,7092,7093,7094,7095,7096,7097,7098,7099,7100,7101,7102,7103,7104,7105,7106,7107,7108,7109,7110,7111,7112,7113,7114,7115,7116,7117,7118,7119,7120,7121,7122,7123,7124,7125,7126,7127,7128,7129,7130,7131,7132,7133,7134,7135,7136,7137,7138,7139,7140,7141,7142,7143,7144,7145,7146,7147,7148,7149,7150,7151,7152,7153,7154,7155,7156,7157,7158,7159,7160,7161,7162,7163,7164,7165,7166,7167,7168,7169,7170,7171,7172,7173,7174,7175,7176,7177,7178,7179,7180,7181,7182,7183,7184,7185,7186,7187,7188,7189,7190,7191,7192,7193,7194,7195,7196,7197,7198,7199,7200,7201,7202,7203,7204,7205,7206,7207,7208,7209,7210,7211,7212,7213,7214,7215,7216,7217,7218,7219,7220,7221,7222,7223,7224,7225,7226,7227,7228,7229,7230,7231,7232,7233,7234,7235,7236,7237,7238,7239,7240,7241,7242,7243,7244,7245,7246,7247,7248,7249,7250,7251,7252,7253,7254,7255,7256,7257,7258,7259,7260,7261,7262,7263,7264,7265,7266,7267,7268,7269,7270,7271,7272,7273,7274,7275,7276,7277,7278,7279,7280,7281,7282,7283,7284,7285,7286,7287,7288,7289,7290,7291,7292,7293,7294,7295,7296,7297,7298,7299,7300,7301,7302,7303,7304,7305,7306,7307,7308,7309,7310,7311,7312,7313,7314,7315,7316,7317,7318,7319,7320,7321,7322,7323,7324,7325,7326,7327,7328,7329,7330,7331,7332,7333,7334,7335,7336,7337,7338,7339,7340,7341,7342,7343,7344,7345,7346,7347,7348,7349,7350,7351,7352,7353,7354,7355,7356,7357,7358,7359,7360,7361,7362,7363,7364,7365,7366,7367,7368,7369,7370,7371,7372,7373,7374,7375,7376,7377,7378,7379,7380,7381,7382,7383,7384,7385,7386,7387,7388,7389,7390,7391,7392,7393,7394,7395,7396,7397,7398,7399,7400,7401,7402,7403,7404,7405,7406,7407,7408,7409,7410,7411,7412,7413,7414,7415,7416,7417,7418,7419,7420,7421,7422,7423,7424,7425,7426,7427,7428,7429,7430,7431,7432,7433,7434,7435,7436,7437,7438,7439,7440,7441,7442,7443,7444,7445,7446,7447,7448,7449,7450,7451,7452,7453,7454,7455,7456,7457,7458,7459,7460,7461,7462,7463,7464,7465,7466,7467,7468,7469,7470,7471,7472,7473,7474,7475,7476,7477,7478,7479,7480,7481,7482,7483,7484,7485,7486,7487,7488,7489,7490,7491,7492,7493,7494,7495,7496,7497,7498,7499,7500,7501,7502,7503,7504,7505,7506,7507,7508,7509,7510,7511,7512,7513,7514,7515,7516,7517,7518,7519,7520,7521,7522,7523,7524,7525,7526,7527,7528,7529,7530,7531,7532,7533,7534,7535,7536,7537,7538,7539,7540,7541,7542,7543,7544,7545,7546,7547,7548,7549,7550,7551,7552,7553,7554,7555,7556,7557,7558,7559,7560,7561,7562,7563,7564,7565,7566,7567,7568,7569,7570,7571,7572,7573,7574,7575,7576,7577,7578,7579,7580,7581,7582,7583,7584,7585,7586,7587,7588,7589,7590,7591,7592,7593,7594,7595,7596,7597,7598,7599,7600,7601,7602,7603,7604,7605,7606,7607,7608,7609,7610,7611,7612,7613,7614,7615,7616,7617,7618,7619,7620,7621,7622,7623,7624,7625,7626,7627,7628,7629,7630,7631,7632,7633,7634,7635,7636,7637,7638,7639,7640,7641,7642,7643,7644,7645,7646,7647,7648,7649,7650,7651,7652,7653,7654,7655,7656,7657,7658,7659,7660,7661,7662,7663,7664,7665,7666,7667,7668,7669,7670,7671,7672,7673,7674,7675,7676,7677,7678,7679,7680,7681,7682,7683,7684,7685,7686,7687,7688,7689,7690,7691,7692,7693,7694,7695,7696,7697,7698,7699,7700,7701,7702,7703,7704,7705,7706,7707,7708,7709,7710,7711,7712,7713,7714,7715,7716,7717,7718,7719,7720,7721,7722,7723,7724,7725,7726,7727,7728,7729,7730,7731,7732,7733,7734,7735,7736,7737,7738,7739,7740,7741,7742,7743,7744,7745,7746,7747,7748,7749,7750,7751,7752,7753,7754,7755,7756,7757,7758,7759,7760,7761,7762,7763,7764,7765,7766,7767,7768,7769,7770,7771,7772,7773,7774,7775,7776,7777,7778,7779,7780,7781,7782,7783,7784,7785,7786,7787,7788,7789,7790,7791,7792,7793,7794,7795,7796,7797,7798,7799,7800,7801,7802,7803,7804,7805,7806,7807,7808,7809,7810,7811,7812,7813,7814,7815,7816,7817,7818,7819,7820,7821,7822,7823,7824,7825,7826,7827,7828,7829,7830,7831,7832,7833,7834,7835,7836,7837,7838,7839,7840,7841,7842,7843,7844,7845,7846,7847,7848,7849,7850,7851,7852,7853,7854,7855,7856,7857,7858,7859,7860,7861,7862,7863,7864,7865,7866,7867,7868,7869,7870,7871,7872,7873,7874,7875,7876,7877,7878,7879,7880,7881,7882,7883,7884,7885,7886,7887,7888,7889,7890,7891,7892,7893,7894,7895,7896,7897,7898,7899,7900,7901,7902,7903,7904,7905,7906,7907,7908,7909,7910,7911,7912,7913,7914,7915,7916,7917,7918,7919,7920,7921,7922,7923,7924,7925,7926,7927,7928,7929,7930,7931,7932,7933,7934,7935,7936,7937,7938,7939,7940,7941,7942,7943,7944,7945,7946,7947,7948,7949,7950,7951,7952,7953,7954,7955,7956,7957,7958,7959,7960,7961,7962,7963,7964,7965,7966,7967,7968,7969,7970,7971,7972,7973,7974,7975,7976,7977,7978,7979,7980,7981,7982,7983,7984,7985,7986,7987,7988,7989,7990,7991,7992,7993,7994,7995,7996,7997,7998,7999,8000,8001,8002,8003,8004,8005,8006,8007,8008,8009,8010,8011,8012,8013,8014,8015,8016,8017,8018,8019,8020,8021,8022,8023,8024,8025,8026,8027,8028,8029,8030,8031,8032,8033,8034,8035,8036,8037,8038,8039,8040,8041,8042,8043,8044,8045,8046,8047,8048,8049,8050,8051,8052,8053,8054,8055,8056,8057,8058,8059,8060,8061,8062,8063,8064,8065,8066,8067,8068,8069,8070,8071,8072,8073,8074,8075,8076,8077,8078,8079,8080,8081,8082,8083,8084,8085,8086,8087,8088,8089,8090,8091,8092,8093,8094,8095,8096,8097,8098,8099,8100,8101,8102,8103,8104,8105,8106,8107,8108,8109,8110,8111,8112,8113,8114,8115,8116,8117,8118,8119,8120,8121,8122,8123,8124,8125,8126,8127,8128,8129,8130,8131,8132,8133,8134,8135,8136,8137,8138,8139,8140,8141,8142,8143,8144,8145,8146,8147,8148,8149,8150,8151,8152,8153,8154,8155,8156,8157,8158,8159,8160,8161,8162,8163,8164,8165,8166,8167,8168,8169,8170,8171,8172,8173,8174,8175,8176,8177,8178,8179,8180,8181,8182,8183,8184,8185,8186,8187,8188,8189,8190,8191,8192,8193,8194,8195,8196,8197,8198,8199,8200,8201,8202,8203,8204,8205,8206,8207,8208,8209,8210,8211,8212,8213,8214,8215,8216,8217,8218,8219,8220,8221,8222,8223,8224,8225,8226,8227,8228,8229,8230,8231,8232,8233,8234,8235,8236,8237,8238,8239,8240,8241,8242,8243,8244,8245,8246,8247,8248,8249,8250,8251,8252,8253,8254,8255,8256,8257,8258,8259,8260,8261,8262,8263,8264,8265,8266,8267,8268,8269,8270,8271,8272,8273,8274,8275,8276,8277,8278,8279,8280,8281,8282,8283,8284,8285,8286,8287,8288,8289,8290,8291,8292,8293,8294,8295,8296,8297,8298,8299,8300,8301,8302,8303,8304,8305,8306,8307,8308,8309,8310,8311,8312,8313,8314,8315,8316,8317,8318,8319,8320,8321,8322,8323,8324,8325,8326,8327,8328,8329,8330,8331,8332,8333,8334,8335,8336,8337,8338,8339,8340,8341,8342,8343,8344,8345,8346,8347,8348,8349,8350,8351,8352,8353,8354,8355,8356,8357,8358,8359,8360,8361,8362,8363,8364,8365,8366,8367,8368,8369,8370,8371,8372,8373,8374,8375,8376,8377,8378,8379,8380,8381,8382,8383,8384,8385,8386,8387,8388,8389,8390,8391,8392,8393,8394,8395,8396,8397,8398,8399,8400,8401,8402,8403,8404,8405,8406,8407,8408,8409,8410,8411,8412,8413,8414,8415,8416,8417,8418,8419,8420,8421,8422,8423,8424,8425,8426,8427,8428,8429,8430,8431,8432,8433,8434,8435,8436,8437,8438,8439,8440,8441,8442,8443,8444,8445,8446,8447,8448,8449,8450,8451,8452,8453,8454,8455,8456,8457,8458,8459,8460,8461,8462,8463,8464,8465,8466,8467,8468,8469,8470,8471,8472,8473,8474,8475,8476,8477,8478,8479,8480,8481,8482,8483,8484,8485,8486,8487,8488,8489,8490,8491,8492,8493,8494,8495,8496,8497,8498,8499,8500,8501,8502,8503,8504,8505,8506,8507,8508,8509,8510,8511,8512,8513,8514,8515,8516,8517,8518,8519,8520,8521,8522,8523,8524,8525,8526,8527,8528,8529,8530,8531,8532,8533,8534,8535,8536,8537,8538,8539,8540,8541,8542,8543,8544,8545,8546,8547,8548,8549,8550,8551,8552,8553,8554,8555,8556,8557,8558,8559,8560,8561,8562,8563,8564,8565,8566,8567,8568,8569,8570,8571,8572,8573,8574,8575,8576,8577,8578,8579,8580,8581,8582,8583,8584,8585,8586,8587,8588,8589,8590,8591,8592,8593,8594,8595,8596,8597,8598,8599,8600,8601,8602,8603,8604,8605,8606,8607,8608,8609,8610,8611,8612,8613,8614,8615,8616,8617,8618,8619,8620,8621,8622,8623,8624,8625,8626,8627,8628,8629,8630,8631,8632,8633,8634,8635,8636,8637,8638,8639,8640,8641,8642,8643,8644,8645,8646,8647,8648,8649,8650,8651,8652,8653,8654,8655,8656,8657,8658,8659,8660,8661,8662,8663,8664,8665,8666,8667,8668,8669,8670,8671,8672,8673,8674,8675,8676,8677,8678,8679,8680,8681,8682,8683,8684,8685,8686,8687,8688,8689,8690,8691,8692,8693,8694,8695,8696,8697,8698,8699,8700,8701,8702,8703,8704,8705,8706,8707,8708,8709,8710,8711,8712,8713,8714,8715,8716,8717,8718,8719,8720,8721,8722,8723,8724,8725,8726,8727,8728,8729,8730,8731,8732,8733,8734,8735,8736,8737,8738,8739,8740,8741,8742,8743,8744,8745,8746,8747,8748,8749,8750,8751,8752,8753,8754,8755,8756,8757,8758,8759,8760,8761,8762,8763,8764,8765,8766,8767,8768,8769,8770,8771,8772,8773,8774,8775,8776,8777,8778,8779,8780,8781,8782,8783,8784,8785,8786,8787,8788,8789,8790,8791,8792,8793,8794,8795,8796,8797,8798,8799,8800,8801,8802,8803,8804,8805,8806,8807,8808,8809,8810,8811,8812,8813,8814,8815,8816,8817,8818,8819,8820,8821,8822,8823,8824,8825,8826,8827,8828,8829,8830,8831,8832,8833,8834,8835,8836,8837,8838,8839,8840,8841,8842,8843,8844,8845,8846,8847,8848,8849,8850,8851,8852,8853,8854,8855,8856,8857,8858,8859,8860,8861,8862,8863,8864,8865,8866,8867,8868,8869,8870,8871,8872,8873,8874,8875,8876,8877,8878,8879,8880,8881,8882,8883,8884,8885,8886,8887,8888,8889,8890,8891,8892,8893,8894,8895,8896,8897,8898,8899,8900,8901,8902,8903,8904,8905,8906,8907,8908,8909,8910,8911,8912,8913,8914,8915,8916,8917,8918,8919,8920,8921,8922,8923,8924,8925,8926,8927,8928,8929,8930,8931,8932,8933,8934,8935,8936,8937,8938,8939,8940,8941,8942,8943,8944,8945,8946,8947,8948,8949,8950,8951,8952,8953,8954,8955,8956,8957,8958,8959,8960,8961,8962,8963,8964,8965,8966,8967,8968,8969,8970,8971,8972,8973,8974,8975,8976,8977,8978,8979,8980,8981,8982,8983,8984,8985,8986,8987,8988,8989,8990,8991,8992,8993,8994,8995,8996,8997,8998,8999,9000,9001,9002,9003,9004,9005,9006,9007,9008,9009,9010,9011,9012,9013,9014,9015,9016,9017,9018,9019,9020,9021,9022,9023,9024,9025,9026,9027,9028,9029,9030,9031,9032,9033,9034,9035,9036,9037,9038,9039,9040,9041,9042,9043,9044,9045,9046,9047,9048,9049,9050,9051,9052,9053,9054,9055,9056,9057,9058,9059,9060,9061,9062,9063,9064,9065,9066,9067,9068,9069,9070,9071,9072,9073,9074,9075,9076,9077,9078,9079,9080,9081,9082,9083,9084,9085,9086,9087,9088,9089,9090,9091,9092,9093,9094,9095,9096,9097,9098,9099,9100,9101,9102,9103,9104,9105,9106,9107,9108,9109,9110,9111,9112,9113,9114,9115,9116,9117,9118,9119,9120,9121,9122,9123,9124,9125,9126,9127,9128,9129,9130,9131,9132,9133,9134,9135,9136,9137,9138,9139,9140,9141,9142,9143,9144,9145,9146,9147,9148,9149,9150,9151,9152,9153,9154,9155,9156,9157,9158,9159,9160,9161,9162,9163,9164,9165,9166,9167,9168,9169,9170,9171,9172,9173,9174,9175,9176,9177,9178,9179,9180,9181,9182,9183,9184,9185,9186,9187,9188,9189,9190,9191,9192,9193,9194,9195,9196,9197,9198,9199,9200,9201,9202,9203,9204,9205,9206,9207,9208,9209,9210,9211,9212,9213,9214,9215,9216,9217,9218,9219,9220,9221,9222,9223,9224,9225,9226,9227,9228,9229,9230,9231,9232,9233,9234,9235,9236,9237,9238,9239,9240,9241,9242,9243,9244,9245,9246,9247,9248,9249,9250,9251,9252,9253,9254,9255,9256,9257,9258,9259,9260,9261,9262,9263,9264,9265,9266,9267,9268,9269,9270,9271,9272,9273,9274,9275,9276,9277,9278,9279,9280,9281,9282,9283,9284,9285,9286,9287,9288,9289,9290,9291,9292,9293,9294,9295,9296,9297,9298,9299,9300,9301,9302,9303,9304,9305,9306,9307,9308,9309,9310,9311,9312,9313,9314,9315,9316,9317,9318,9319,9320,9321,9322,9323,9324,9325,9326,9327,9328,9329,9330,9331,9332,9333,9334,9335,9336,9337,9338,9339,9340,9341,9342,9343,9344,9345,9346,9347,9348,9349,9350,9351,9352,9353,9354,9355,9356,9357,9358,9359,9360,9361,9362,9363,9364,9365,9366,9367,9368,9369,9370,9371,9372,9373,9374,9375,9376,9377,9378,9379,9380,9381,9382,9383,9384,9385,9386,9387,9388,9389,9390,9391,9392,9393,9394,9395,9396,9397,9398,9399,9400,9401,9402,9403,9404,9405,9406,9407,9408,9409,9410,9411,9412,9413,9414,9415,9416,9417,9418,9419,9420,9421,9422,9423,9424,9425,9426,9427,9428,9429,9430,9431,9432,9433,9434,9435,9436,9437,9438,9439,9440,9441,9442,9443,9444,9445,9446,9447,9448,9449,9450,9451,9452,9453,9454,9455,9456,9457,9458,9459,9460,9461,9462,9463,9464,9465,9466,9467,9468,9469,9470,9471,9472,9473,9474,9475,9476,9477,9478,9479,9480,9481,9482,9483,9484,9485,9486,9487,9488,9489,9490,9491,9492,9493,9494,9495,9496,9497,9498,9499,9500,9501,9502,9503,9504,9505,9506,9507,9508,9509,9510,9511,9512,9513,9514,9515,9516,9517,9518,9519,9520,9521,9522,9523,9524,9525,9526,9527,9528,9529,9530,9531,9532,9533,9534,9535,9536,9537,9538,9539,9540,9541,9542,9543,9544,9545,9546,9547,9548,9549,9550,9551,9552,9553,9554,9555,9556,9557,9558,9559,9560,9561,9562,9563,9564,9565,9566,9567,9568,9569,9570,9571,9572,9573,9574,9575,9576,9577,9578,9579,9580,9581,9582,9583,9584,9585,9586,9587,9588,9589,9590,9591,9592,9593,9594,9595,9596,9597,9598,9599,9600,9601,9602,9603,9604,9605,9606,9607,9608,9609,9610,9611,9612,9613,9614,9615,9616,9617,9618,9619,9620,9621,9622,9623,9624,9625,9626,9627,9628,9629,9630,9631,9632,9633,9634,9635,9636,9637,9638,9639,9640,9641,9642,9643,9644,9645,9646,9647,9648,9649,9650,9651,9652,9653,9654,9655,9656,9657,9658,9659,9660,9661,9662,9663,9664,9665,9666,9667,9668,9669,9670,9671,9672,9673,9674,9675,9676,9677,9678,9679,9680,9681,9682,9683,9684,9685,9686,9687,9688,9689,9690,9691,9692,9693,9694,9695,9696,9697,9698,9699,9700,9701,9702,9703,9704,9705,9706,9707,9708,9709,9710,9711,9712,9713,9714,9715,9716,9717,9718,9719,9720,9721,9722,9723,9724,9725,9726,9727,9728,9729,9730,9731,9732,9733,9734,9735,9736,9737,9738,9739,9740,9741,9742,9743,9744,9745,9746,9747,9748,9749,9750,9751,9752,9753,9754,9755,9756,9757,9758,9759,9760,9761,9762,9763,9764,9765,9766,9767,9768,9769,9770,9771,9772,9773,9774,9775,9776,9777,9778,9779,9780,9781,9782,9783,9784,9785,9786,9787,9788,9789,9790,9791,9792,9793,9794,9795,9796,9797,9798,9799,9800,9801,9802,9803,9804,9805,9806,9807,9808,9809,9810,9811,9812,9813,9814,9815,9816,9817,9818,9819,9820,9821,9822,9823,9824,9825,9826,9827,9828,9829,9830,9831,9832,9833,9834,9835,9836,9837,9838,9839,9840,9841,9842,9843,9844,9845,9846,9847,9848,9849,9850,9851,9852,9853,9854,9855,9856,9857,9858,9859,9860,9861,9862,9863,9864,9865,9866,9867,9868,9869,9870,9871,9872,9873,9874,9875,9876,9877,9878,9879,9880,9881,9882,9883,9884,9885,9886,9887,9888,9889,9890,9891,9892,9893,9894,9895,9896,9897,9898,9899,9900,9901,9902,9903,9904,9905,9906,9907,9908,9909,9910,9911,9912,9913,9914,9915,9916,9917,9918,9919,9920,9921,9922,9923,9924,9925,9926,9927,9928,9929,9930,9931,9932,9933,9934,9935,9936,9937,9938,9939,9940,9941,9942,9943,9944,9945,9946,9947,9948,9949,9950,9951,9952,9953,9954,9955,9956,9957,9958,9959,9960,9961,9962,9963,9964,9965,9966,9967,9968,9969,9970,9971,9972,9973,9974,9975,9976,9977,9978,9979,9980,9981,9982,9983,9984,9985,9986,9987,9988,9989,9990,9991,9992,9993,9994,9995,9996,9997,9998,9999],\"reward\":{\"__ndarray__\":\"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\",\"dtype\":\"float64\",\"order\":\"little\",\"shape\":[10000]}},\"selected\":{\"id\":\"1166\"},\"selection_policy\":{\"id\":\"1167\"}},\"id\":\"1108\",\"type\":\"ColumnDataSource\"},{\"attributes\":{\"data_source\":{\"id\":\"1108\"},\"glyph\":{\"id\":\"1144\"},\"hover_glyph\":null,\"muted_glyph\":null,\"nonselection_glyph\":{\"id\":\"1145\"},\"selection_glyph\":null,\"view\":{\"id\":\"1147\"}},\"id\":\"1146\",\"type\":\"GlyphRenderer\"},{\"attributes\":{},\"id\":\"1129\",\"type\":\"ResetTool\"},{\"attributes\":{\"fill_alpha\":{\"value\":0.1},\"fill_color\":{\"value\":\"#1f77b4\"},\"line_alpha\":{\"value\":0.1},\"line_color\":{\"value\":\"blue\"},\"size\":{\"units\":\"screen\",\"value\":3},\"x\":{\"field\":\"index\"},\"y\":{\"field\":\"reward\"}},\"id\":\"1140\",\"type\":\"Scatter\"},{\"attributes\":{},\"id\":\"1130\",\"type\":\"SaveTool\"},{\"attributes\":{\"source\":{\"id\":\"1108\"}},\"id\":\"1142\",\"type\":\"CDSView\"},{\"attributes\":{\"source\":{\"id\":\"1108\"}},\"id\":\"1147\",\"type\":\"CDSView\"},{\"attributes\":{\"line_alpha\":0.1,\"x\":{\"field\":\"index\"},\"y\":{\"field\":\"reward\"}},\"id\":\"1145\",\"type\":\"Line\"},{\"attributes\":{},\"id\":\"1111\",\"type\":\"DataRange1d\"}],\"root_ids\":[\"1110\"]},\"title\":\"Bokeh Application\",\"version\":\"2.1.1\"}};\n",
       "  var render_items = [{\"docid\":\"1afb6d66-702a-4a04-89c3-23f7b59449be\",\"root_ids\":[\"1110\"],\"roots\":{\"1110\":\"08dae50a-7901-45ef-8313-20c35249a212\"}}];\n",
       "  root.Bokeh.embed.embed_items_notebook(docs_json, render_items);\n",
       "\n",
       "  }\n",
       "  if (root.Bokeh !== undefined) {\n",
       "    embed_document(root);\n",
       "  } else {\n",
       "    var attempts = 0;\n",
       "    var timer = setInterval(function(root) {\n",
       "      if (root.Bokeh !== undefined) {\n",
       "        clearInterval(timer);\n",
       "        embed_document(root);\n",
       "      } else {\n",
       "        attempts++;\n",
       "        if (attempts > 100) {\n",
       "          clearInterval(timer);\n",
       "          console.log(\"Bokeh: ERROR: Unable to run BokehJS code because BokehJS library is missing\");\n",
       "        }\n",
       "      }\n",
       "    }, 10, root)\n",
       "  }\n",
       "})(window);"
      ],
      "application/vnd.bokehjs_exec.v0+json": ""
     },
     "metadata": {
      "application/vnd.bokehjs_exec.v0+json": {
       "id": "1110"
      }
     },
     "output_type": "display_data"
    }
   ],
   "source": [
    "plot_line(df_mc, x_col='index', y_col='reward', title='Reward Over Iterations')"
   ]
  },
  {
   "cell_type": "markdown",
   "metadata": {},
   "source": [
    "([image](../../images/rllib/MarketReward-Random.png))\n",
    "\n",
    "Yes, it looks quite random... There's no improvement happening at all."
   ]
  },
  {
   "cell_type": "markdown",
   "metadata": {},
   "source": [
    "## Training a policy in RLlib\n",
    "\n",
    "Now let's train a policy using our contextual bandit, specifically using _Linear Thompson Sampling_ in RLlib. Hopefully it will do better than the random results we just computed!"
   ]
  },
  {
   "cell_type": "markdown",
   "metadata": {},
   "source": [
    "Recall in the `__init__()` method for `MarketBandit` that we set some parameters from the passed in `config` object (with defaults). We don't construct this explicitly ourselves. Rather, RLlib will do this. So, we need to construct the canonical `config` object we want to use. To do this, we use the idioms shown in the next several cells:"
   ]
  },
  {
   "cell_type": "code",
   "execution_count": 17,
   "metadata": {},
   "outputs": [
    {
     "name": "stderr",
     "output_type": "stream",
     "text": [
      "/home/paul/anaconda3/envs/anyscale-academy/lib/python3.7/site-packages/tensorflow/python/framework/dtypes.py:516: FutureWarning: Passing (type, 1) or '1type' as a synonym of type is deprecated; in a future version of numpy, it will be understood as (type, (1,)) / '(1,)type'.\n",
      "  _np_qint8 = np.dtype([(\"qint8\", np.int8, 1)])\n",
      "/home/paul/anaconda3/envs/anyscale-academy/lib/python3.7/site-packages/tensorflow/python/framework/dtypes.py:517: FutureWarning: Passing (type, 1) or '1type' as a synonym of type is deprecated; in a future version of numpy, it will be understood as (type, (1,)) / '(1,)type'.\n",
      "  _np_quint8 = np.dtype([(\"quint8\", np.uint8, 1)])\n",
      "/home/paul/anaconda3/envs/anyscale-academy/lib/python3.7/site-packages/tensorflow/python/framework/dtypes.py:518: FutureWarning: Passing (type, 1) or '1type' as a synonym of type is deprecated; in a future version of numpy, it will be understood as (type, (1,)) / '(1,)type'.\n",
      "  _np_qint16 = np.dtype([(\"qint16\", np.int16, 1)])\n",
      "/home/paul/anaconda3/envs/anyscale-academy/lib/python3.7/site-packages/tensorflow/python/framework/dtypes.py:519: FutureWarning: Passing (type, 1) or '1type' as a synonym of type is deprecated; in a future version of numpy, it will be understood as (type, (1,)) / '(1,)type'.\n",
      "  _np_quint16 = np.dtype([(\"quint16\", np.uint16, 1)])\n",
      "/home/paul/anaconda3/envs/anyscale-academy/lib/python3.7/site-packages/tensorflow/python/framework/dtypes.py:520: FutureWarning: Passing (type, 1) or '1type' as a synonym of type is deprecated; in a future version of numpy, it will be understood as (type, (1,)) / '(1,)type'.\n",
      "  _np_qint32 = np.dtype([(\"qint32\", np.int32, 1)])\n",
      "/home/paul/anaconda3/envs/anyscale-academy/lib/python3.7/site-packages/tensorflow/python/framework/dtypes.py:525: FutureWarning: Passing (type, 1) or '1type' as a synonym of type is deprecated; in a future version of numpy, it will be understood as (type, (1,)) / '(1,)type'.\n",
      "  np_resource = np.dtype([(\"resource\", np.ubyte, 1)])\n",
      "/home/paul/anaconda3/envs/anyscale-academy/lib/python3.7/site-packages/tensorboard/compat/tensorflow_stub/dtypes.py:541: FutureWarning: Passing (type, 1) or '1type' as a synonym of type is deprecated; in a future version of numpy, it will be understood as (type, (1,)) / '(1,)type'.\n",
      "  _np_qint8 = np.dtype([(\"qint8\", np.int8, 1)])\n",
      "/home/paul/anaconda3/envs/anyscale-academy/lib/python3.7/site-packages/tensorboard/compat/tensorflow_stub/dtypes.py:542: FutureWarning: Passing (type, 1) or '1type' as a synonym of type is deprecated; in a future version of numpy, it will be understood as (type, (1,)) / '(1,)type'.\n",
      "  _np_quint8 = np.dtype([(\"quint8\", np.uint8, 1)])\n",
      "/home/paul/anaconda3/envs/anyscale-academy/lib/python3.7/site-packages/tensorboard/compat/tensorflow_stub/dtypes.py:543: FutureWarning: Passing (type, 1) or '1type' as a synonym of type is deprecated; in a future version of numpy, it will be understood as (type, (1,)) / '(1,)type'.\n",
      "  _np_qint16 = np.dtype([(\"qint16\", np.int16, 1)])\n",
      "/home/paul/anaconda3/envs/anyscale-academy/lib/python3.7/site-packages/tensorboard/compat/tensorflow_stub/dtypes.py:544: FutureWarning: Passing (type, 1) or '1type' as a synonym of type is deprecated; in a future version of numpy, it will be understood as (type, (1,)) / '(1,)type'.\n",
      "  _np_quint16 = np.dtype([(\"quint16\", np.uint16, 1)])\n",
      "/home/paul/anaconda3/envs/anyscale-academy/lib/python3.7/site-packages/tensorboard/compat/tensorflow_stub/dtypes.py:545: FutureWarning: Passing (type, 1) or '1type' as a synonym of type is deprecated; in a future version of numpy, it will be understood as (type, (1,)) / '(1,)type'.\n",
      "  _np_qint32 = np.dtype([(\"qint32\", np.int32, 1)])\n",
      "/home/paul/anaconda3/envs/anyscale-academy/lib/python3.7/site-packages/tensorboard/compat/tensorflow_stub/dtypes.py:550: FutureWarning: Passing (type, 1) or '1type' as a synonym of type is deprecated; in a future version of numpy, it will be understood as (type, (1,)) / '(1,)type'.\n",
      "  np_resource = np.dtype([(\"resource\", np.ubyte, 1)])\n"
     ]
    }
   ],
   "source": [
    "from ray.rllib.agents.trainer import with_base_config, with_common_config\n",
    "from ray.rllib.contrib.bandits.agents.lin_ts import TS_CONFIG\n",
    "from ray.rllib.contrib.bandits.agents.lin_ts import LinTSTrainer\n",
    "import ray"
   ]
  },
  {
   "cell_type": "markdown",
   "metadata": {},
   "source": [
    "Initialize Ray as required:"
   ]
  },
  {
   "cell_type": "code",
   "execution_count": 18,
   "metadata": {},
   "outputs": [
    {
     "name": "stdout",
     "output_type": "stream",
     "text": [
      "INFO: Ray is already running.\n"
     ]
    }
   ],
   "source": [
    "!../../tools/start-ray.sh --check --verbose"
   ]
  },
  {
   "cell_type": "code",
   "execution_count": 19,
   "metadata": {},
   "outputs": [
    {
     "data": {
      "text/plain": [
       "{'node_ip_address': '192.168.1.114',\n",
       " 'raylet_ip_address': '192.168.1.114',\n",
       " 'redis_address': '192.168.1.114:6379',\n",
       " 'object_store_address': '/tmp/ray/session_2020-07-19_18-04-09_292511_3629/sockets/plasma_store',\n",
       " 'raylet_socket_name': '/tmp/ray/session_2020-07-19_18-04-09_292511_3629/sockets/raylet',\n",
       " 'webui_url': 'localhost:8265',\n",
       " 'session_dir': '/tmp/ray/session_2020-07-19_18-04-09_292511_3629'}"
      ]
     },
     "execution_count": 19,
     "metadata": {},
     "output_type": "execute_result"
    }
   ],
   "source": [
    "ray.init(address='auto', ignore_reinit_error=True)"
   ]
  },
  {
   "cell_type": "markdown",
   "metadata": {},
   "source": [
    "We need a custom config object with our parameters for `MarketBandit`. We do this building on the default `TS_CONFIG` object for _LinTS_:"
   ]
  },
  {
   "cell_type": "code",
   "execution_count": 20,
   "metadata": {},
   "outputs": [],
   "source": [
    "market_config = with_base_config(TS_CONFIG, {\n",
    "    \"env\":           MarketBandit,\n",
    "    'max-inflation': DEFAULT_MAX_INFLATION,\n",
    "    'tickers':       DEFAULT_TICKERS,\n",
    "    'data-file':     DEFAULT_DATA_FILE\n",
    "})\n",
    "\n",
    "stop = {\n",
    "    \"training_iteration\": 100\n",
    "}"
   ]
  },
  {
   "cell_type": "markdown",
   "metadata": {},
   "source": [
    "Also, we'll define a custom trainer, which builds on the `LinTSTrainer`, with \"updates\". Note that it's the first argument we'll pass to `tune.run()` in the following cell. When all we need is `LinTSTrainer`, as is, and no extra custom config settings, we can just pass the string `contrib/LinTS` to `tune.run()`.  "
   ]
  },
  {
   "cell_type": "code",
   "execution_count": 21,
   "metadata": {},
   "outputs": [],
   "source": [
    "MarketLinTSTrainer = LinTSTrainer.with_updates(\n",
    "    name=\"MarketLinTSTrainer\",\n",
    "    default_config=market_config,      # Will be merged with Trainer.COMMON_CONFIG (rllib/agent/trainer.py)\n",
    "    #default_policy=[somePolicyClass]  # If we had a policy...\n",
    ")"
   ]
  },
  {
   "cell_type": "code",
   "execution_count": 22,
   "metadata": {
    "scrolled": true
   },
   "outputs": [
    {
     "data": {
      "text/html": [
       "== Status ==<br>Memory usage on this node: 3.1/15.6 GiB<br>Using FIFO scheduling algorithm.<br>Resources requested: 1/4 CPUs, 0/2 GPUs, 0.0/8.11 GiB heap, 0.0/2.78 GiB objects<br>Result logdir: /home/paul/ray_results/MarketLinTSTrainer<br>Number of trials: 3 (2 PENDING, 1 RUNNING)<br><table>\n",
       "<thead>\n",
       "<tr><th>Trial name                                 </th><th>status  </th><th>loc  </th></tr>\n",
       "</thead>\n",
       "<tbody>\n",
       "<tr><td>MarketLinTSTrainer_MarketBandit_7eb5f_00000</td><td>RUNNING </td><td>     </td></tr>\n",
       "<tr><td>MarketLinTSTrainer_MarketBandit_7eb5f_00001</td><td>PENDING </td><td>     </td></tr>\n",
       "<tr><td>MarketLinTSTrainer_MarketBandit_7eb5f_00002</td><td>PENDING </td><td>     </td></tr>\n",
       "</tbody>\n",
       "</table><br><br>"
      ],
      "text/plain": [
       "<IPython.core.display.HTML object>"
      ]
     },
     "metadata": {},
     "output_type": "display_data"
    },
    {
     "name": "stdout",
     "output_type": "stream",
     "text": [
      "\u001b[2m\u001b[36m(pid=3664)\u001b[0m /home/paul/anaconda3/envs/anyscale-academy/lib/python3.7/site-packages/tensorflow/python/framework/dtypes.py:516: FutureWarning: Passing (type, 1) or '1type' as a synonym of type is deprecated; in a future version of numpy, it will be understood as (type, (1,)) / '(1,)type'.\n",
      "\u001b[2m\u001b[36m(pid=3664)\u001b[0m   _np_qint8 = np.dtype([(\"qint8\", np.int8, 1)])\n",
      "\u001b[2m\u001b[36m(pid=3664)\u001b[0m /home/paul/anaconda3/envs/anyscale-academy/lib/python3.7/site-packages/tensorflow/python/framework/dtypes.py:517: FutureWarning: Passing (type, 1) or '1type' as a synonym of type is deprecated; in a future version of numpy, it will be understood as (type, (1,)) / '(1,)type'.\n",
      "\u001b[2m\u001b[36m(pid=3664)\u001b[0m   _np_quint8 = np.dtype([(\"quint8\", np.uint8, 1)])\n",
      "\u001b[2m\u001b[36m(pid=3664)\u001b[0m /home/paul/anaconda3/envs/anyscale-academy/lib/python3.7/site-packages/tensorflow/python/framework/dtypes.py:518: FutureWarning: Passing (type, 1) or '1type' as a synonym of type is deprecated; in a future version of numpy, it will be understood as (type, (1,)) / '(1,)type'.\n",
      "\u001b[2m\u001b[36m(pid=3664)\u001b[0m   _np_qint16 = np.dtype([(\"qint16\", np.int16, 1)])\n",
      "\u001b[2m\u001b[36m(pid=3664)\u001b[0m /home/paul/anaconda3/envs/anyscale-academy/lib/python3.7/site-packages/tensorflow/python/framework/dtypes.py:519: FutureWarning: Passing (type, 1) or '1type' as a synonym of type is deprecated; in a future version of numpy, it will be understood as (type, (1,)) / '(1,)type'.\n",
      "\u001b[2m\u001b[36m(pid=3664)\u001b[0m   _np_quint16 = np.dtype([(\"quint16\", np.uint16, 1)])\n",
      "\u001b[2m\u001b[36m(pid=3664)\u001b[0m /home/paul/anaconda3/envs/anyscale-academy/lib/python3.7/site-packages/tensorflow/python/framework/dtypes.py:520: FutureWarning: Passing (type, 1) or '1type' as a synonym of type is deprecated; in a future version of numpy, it will be understood as (type, (1,)) / '(1,)type'.\n",
      "\u001b[2m\u001b[36m(pid=3664)\u001b[0m   _np_qint32 = np.dtype([(\"qint32\", np.int32, 1)])\n",
      "\u001b[2m\u001b[36m(pid=3664)\u001b[0m /home/paul/anaconda3/envs/anyscale-academy/lib/python3.7/site-packages/tensorflow/python/framework/dtypes.py:525: FutureWarning: Passing (type, 1) or '1type' as a synonym of type is deprecated; in a future version of numpy, it will be understood as (type, (1,)) / '(1,)type'.\n",
      "\u001b[2m\u001b[36m(pid=3664)\u001b[0m   np_resource = np.dtype([(\"resource\", np.ubyte, 1)])\n",
      "\u001b[2m\u001b[36m(pid=3661)\u001b[0m /home/paul/anaconda3/envs/anyscale-academy/lib/python3.7/site-packages/tensorflow/python/framework/dtypes.py:516: FutureWarning: Passing (type, 1) or '1type' as a synonym of type is deprecated; in a future version of numpy, it will be understood as (type, (1,)) / '(1,)type'.\n",
      "\u001b[2m\u001b[36m(pid=3661)\u001b[0m   _np_qint8 = np.dtype([(\"qint8\", np.int8, 1)])\n",
      "\u001b[2m\u001b[36m(pid=3661)\u001b[0m /home/paul/anaconda3/envs/anyscale-academy/lib/python3.7/site-packages/tensorflow/python/framework/dtypes.py:517: FutureWarning: Passing (type, 1) or '1type' as a synonym of type is deprecated; in a future version of numpy, it will be understood as (type, (1,)) / '(1,)type'.\n",
      "\u001b[2m\u001b[36m(pid=3661)\u001b[0m   _np_quint8 = np.dtype([(\"quint8\", np.uint8, 1)])\n",
      "\u001b[2m\u001b[36m(pid=3661)\u001b[0m /home/paul/anaconda3/envs/anyscale-academy/lib/python3.7/site-packages/tensorflow/python/framework/dtypes.py:518: FutureWarning: Passing (type, 1) or '1type' as a synonym of type is deprecated; in a future version of numpy, it will be understood as (type, (1,)) / '(1,)type'.\n",
      "\u001b[2m\u001b[36m(pid=3661)\u001b[0m   _np_qint16 = np.dtype([(\"qint16\", np.int16, 1)])\n",
      "\u001b[2m\u001b[36m(pid=3661)\u001b[0m /home/paul/anaconda3/envs/anyscale-academy/lib/python3.7/site-packages/tensorflow/python/framework/dtypes.py:519: FutureWarning: Passing (type, 1) or '1type' as a synonym of type is deprecated; in a future version of numpy, it will be understood as (type, (1,)) / '(1,)type'.\n",
      "\u001b[2m\u001b[36m(pid=3661)\u001b[0m   _np_quint16 = np.dtype([(\"quint16\", np.uint16, 1)])\n",
      "\u001b[2m\u001b[36m(pid=3661)\u001b[0m /home/paul/anaconda3/envs/anyscale-academy/lib/python3.7/site-packages/tensorflow/python/framework/dtypes.py:520: FutureWarning: Passing (type, 1) or '1type' as a synonym of type is deprecated; in a future version of numpy, it will be understood as (type, (1,)) / '(1,)type'.\n",
      "\u001b[2m\u001b[36m(pid=3661)\u001b[0m   _np_qint32 = np.dtype([(\"qint32\", np.int32, 1)])\n",
      "\u001b[2m\u001b[36m(pid=3661)\u001b[0m /home/paul/anaconda3/envs/anyscale-academy/lib/python3.7/site-packages/tensorflow/python/framework/dtypes.py:525: FutureWarning: Passing (type, 1) or '1type' as a synonym of type is deprecated; in a future version of numpy, it will be understood as (type, (1,)) / '(1,)type'.\n",
      "\u001b[2m\u001b[36m(pid=3661)\u001b[0m   np_resource = np.dtype([(\"resource\", np.ubyte, 1)])\n",
      "\u001b[2m\u001b[36m(pid=3662)\u001b[0m /home/paul/anaconda3/envs/anyscale-academy/lib/python3.7/site-packages/tensorflow/python/framework/dtypes.py:516: FutureWarning: Passing (type, 1) or '1type' as a synonym of type is deprecated; in a future version of numpy, it will be understood as (type, (1,)) / '(1,)type'.\n",
      "\u001b[2m\u001b[36m(pid=3662)\u001b[0m   _np_qint8 = np.dtype([(\"qint8\", np.int8, 1)])\n",
      "\u001b[2m\u001b[36m(pid=3662)\u001b[0m /home/paul/anaconda3/envs/anyscale-academy/lib/python3.7/site-packages/tensorflow/python/framework/dtypes.py:517: FutureWarning: Passing (type, 1) or '1type' as a synonym of type is deprecated; in a future version of numpy, it will be understood as (type, (1,)) / '(1,)type'.\n",
      "\u001b[2m\u001b[36m(pid=3662)\u001b[0m   _np_quint8 = np.dtype([(\"quint8\", np.uint8, 1)])\n",
      "\u001b[2m\u001b[36m(pid=3662)\u001b[0m /home/paul/anaconda3/envs/anyscale-academy/lib/python3.7/site-packages/tensorflow/python/framework/dtypes.py:518: FutureWarning: Passing (type, 1) or '1type' as a synonym of type is deprecated; in a future version of numpy, it will be understood as (type, (1,)) / '(1,)type'.\n",
      "\u001b[2m\u001b[36m(pid=3662)\u001b[0m   _np_qint16 = np.dtype([(\"qint16\", np.int16, 1)])\n",
      "\u001b[2m\u001b[36m(pid=3662)\u001b[0m /home/paul/anaconda3/envs/anyscale-academy/lib/python3.7/site-packages/tensorflow/python/framework/dtypes.py:519: FutureWarning: Passing (type, 1) or '1type' as a synonym of type is deprecated; in a future version of numpy, it will be understood as (type, (1,)) / '(1,)type'.\n",
      "\u001b[2m\u001b[36m(pid=3662)\u001b[0m   _np_quint16 = np.dtype([(\"quint16\", np.uint16, 1)])\n",
      "\u001b[2m\u001b[36m(pid=3662)\u001b[0m /home/paul/anaconda3/envs/anyscale-academy/lib/python3.7/site-packages/tensorflow/python/framework/dtypes.py:520: FutureWarning: Passing (type, 1) or '1type' as a synonym of type is deprecated; in a future version of numpy, it will be understood as (type, (1,)) / '(1,)type'.\n",
      "\u001b[2m\u001b[36m(pid=3662)\u001b[0m   _np_qint32 = np.dtype([(\"qint32\", np.int32, 1)])\n",
      "\u001b[2m\u001b[36m(pid=3662)\u001b[0m /home/paul/anaconda3/envs/anyscale-academy/lib/python3.7/site-packages/tensorflow/python/framework/dtypes.py:525: FutureWarning: Passing (type, 1) or '1type' as a synonym of type is deprecated; in a future version of numpy, it will be understood as (type, (1,)) / '(1,)type'.\n",
      "\u001b[2m\u001b[36m(pid=3662)\u001b[0m   np_resource = np.dtype([(\"resource\", np.ubyte, 1)])\n",
      "\u001b[2m\u001b[36m(pid=3661)\u001b[0m /home/paul/anaconda3/envs/anyscale-academy/lib/python3.7/site-packages/tensorboard/compat/tensorflow_stub/dtypes.py:541: FutureWarning: Passing (type, 1) or '1type' as a synonym of type is deprecated; in a future version of numpy, it will be understood as (type, (1,)) / '(1,)type'.\n",
      "\u001b[2m\u001b[36m(pid=3661)\u001b[0m   _np_qint8 = np.dtype([(\"qint8\", np.int8, 1)])\n",
      "\u001b[2m\u001b[36m(pid=3661)\u001b[0m /home/paul/anaconda3/envs/anyscale-academy/lib/python3.7/site-packages/tensorboard/compat/tensorflow_stub/dtypes.py:542: FutureWarning: Passing (type, 1) or '1type' as a synonym of type is deprecated; in a future version of numpy, it will be understood as (type, (1,)) / '(1,)type'.\n",
      "\u001b[2m\u001b[36m(pid=3661)\u001b[0m   _np_quint8 = np.dtype([(\"quint8\", np.uint8, 1)])\n",
      "\u001b[2m\u001b[36m(pid=3661)\u001b[0m /home/paul/anaconda3/envs/anyscale-academy/lib/python3.7/site-packages/tensorboard/compat/tensorflow_stub/dtypes.py:543: FutureWarning: Passing (type, 1) or '1type' as a synonym of type is deprecated; in a future version of numpy, it will be understood as (type, (1,)) / '(1,)type'.\n",
      "\u001b[2m\u001b[36m(pid=3661)\u001b[0m   _np_qint16 = np.dtype([(\"qint16\", np.int16, 1)])\n",
      "\u001b[2m\u001b[36m(pid=3661)\u001b[0m /home/paul/anaconda3/envs/anyscale-academy/lib/python3.7/site-packages/tensorboard/compat/tensorflow_stub/dtypes.py:544: FutureWarning: Passing (type, 1) or '1type' as a synonym of type is deprecated; in a future version of numpy, it will be understood as (type, (1,)) / '(1,)type'.\n",
      "\u001b[2m\u001b[36m(pid=3661)\u001b[0m   _np_quint16 = np.dtype([(\"quint16\", np.uint16, 1)])\n",
      "\u001b[2m\u001b[36m(pid=3661)\u001b[0m /home/paul/anaconda3/envs/anyscale-academy/lib/python3.7/site-packages/tensorboard/compat/tensorflow_stub/dtypes.py:545: FutureWarning: Passing (type, 1) or '1type' as a synonym of type is deprecated; in a future version of numpy, it will be understood as (type, (1,)) / '(1,)type'.\n",
      "\u001b[2m\u001b[36m(pid=3661)\u001b[0m   _np_qint32 = np.dtype([(\"qint32\", np.int32, 1)])\n",
      "\u001b[2m\u001b[36m(pid=3661)\u001b[0m /home/paul/anaconda3/envs/anyscale-academy/lib/python3.7/site-packages/tensorboard/compat/tensorflow_stub/dtypes.py:550: FutureWarning: Passing (type, 1) or '1type' as a synonym of type is deprecated; in a future version of numpy, it will be understood as (type, (1,)) / '(1,)type'.\n",
      "\u001b[2m\u001b[36m(pid=3661)\u001b[0m   np_resource = np.dtype([(\"resource\", np.ubyte, 1)])\n",
      "\u001b[2m\u001b[36m(pid=3664)\u001b[0m /home/paul/anaconda3/envs/anyscale-academy/lib/python3.7/site-packages/tensorboard/compat/tensorflow_stub/dtypes.py:541: FutureWarning: Passing (type, 1) or '1type' as a synonym of type is deprecated; in a future version of numpy, it will be understood as (type, (1,)) / '(1,)type'.\n",
      "\u001b[2m\u001b[36m(pid=3664)\u001b[0m   _np_qint8 = np.dtype([(\"qint8\", np.int8, 1)])\n",
      "\u001b[2m\u001b[36m(pid=3664)\u001b[0m /home/paul/anaconda3/envs/anyscale-academy/lib/python3.7/site-packages/tensorboard/compat/tensorflow_stub/dtypes.py:542: FutureWarning: Passing (type, 1) or '1type' as a synonym of type is deprecated; in a future version of numpy, it will be understood as (type, (1,)) / '(1,)type'.\n",
      "\u001b[2m\u001b[36m(pid=3664)\u001b[0m   _np_quint8 = np.dtype([(\"quint8\", np.uint8, 1)])\n",
      "\u001b[2m\u001b[36m(pid=3664)\u001b[0m /home/paul/anaconda3/envs/anyscale-academy/lib/python3.7/site-packages/tensorboard/compat/tensorflow_stub/dtypes.py:543: FutureWarning: Passing (type, 1) or '1type' as a synonym of type is deprecated; in a future version of numpy, it will be understood as (type, (1,)) / '(1,)type'.\n",
      "\u001b[2m\u001b[36m(pid=3664)\u001b[0m   _np_qint16 = np.dtype([(\"qint16\", np.int16, 1)])\n",
      "\u001b[2m\u001b[36m(pid=3664)\u001b[0m /home/paul/anaconda3/envs/anyscale-academy/lib/python3.7/site-packages/tensorboard/compat/tensorflow_stub/dtypes.py:544: FutureWarning: Passing (type, 1) or '1type' as a synonym of type is deprecated; in a future version of numpy, it will be understood as (type, (1,)) / '(1,)type'.\n",
      "\u001b[2m\u001b[36m(pid=3664)\u001b[0m   _np_quint16 = np.dtype([(\"quint16\", np.uint16, 1)])\n",
      "\u001b[2m\u001b[36m(pid=3664)\u001b[0m /home/paul/anaconda3/envs/anyscale-academy/lib/python3.7/site-packages/tensorboard/compat/tensorflow_stub/dtypes.py:545: FutureWarning: Passing (type, 1) or '1type' as a synonym of type is deprecated; in a future version of numpy, it will be understood as (type, (1,)) / '(1,)type'.\n",
      "\u001b[2m\u001b[36m(pid=3664)\u001b[0m   _np_qint32 = np.dtype([(\"qint32\", np.int32, 1)])\n",
      "\u001b[2m\u001b[36m(pid=3664)\u001b[0m /home/paul/anaconda3/envs/anyscale-academy/lib/python3.7/site-packages/tensorboard/compat/tensorflow_stub/dtypes.py:550: FutureWarning: Passing (type, 1) or '1type' as a synonym of type is deprecated; in a future version of numpy, it will be understood as (type, (1,)) / '(1,)type'.\n",
      "\u001b[2m\u001b[36m(pid=3664)\u001b[0m   np_resource = np.dtype([(\"resource\", np.ubyte, 1)])\n",
      "\u001b[2m\u001b[36m(pid=3662)\u001b[0m /home/paul/anaconda3/envs/anyscale-academy/lib/python3.7/site-packages/tensorboard/compat/tensorflow_stub/dtypes.py:541: FutureWarning: Passing (type, 1) or '1type' as a synonym of type is deprecated; in a future version of numpy, it will be understood as (type, (1,)) / '(1,)type'.\n",
      "\u001b[2m\u001b[36m(pid=3662)\u001b[0m   _np_qint8 = np.dtype([(\"qint8\", np.int8, 1)])\n",
      "\u001b[2m\u001b[36m(pid=3662)\u001b[0m /home/paul/anaconda3/envs/anyscale-academy/lib/python3.7/site-packages/tensorboard/compat/tensorflow_stub/dtypes.py:542: FutureWarning: Passing (type, 1) or '1type' as a synonym of type is deprecated; in a future version of numpy, it will be understood as (type, (1,)) / '(1,)type'.\n",
      "\u001b[2m\u001b[36m(pid=3662)\u001b[0m   _np_quint8 = np.dtype([(\"quint8\", np.uint8, 1)])\n",
      "\u001b[2m\u001b[36m(pid=3662)\u001b[0m /home/paul/anaconda3/envs/anyscale-academy/lib/python3.7/site-packages/tensorboard/compat/tensorflow_stub/dtypes.py:543: FutureWarning: Passing (type, 1) or '1type' as a synonym of type is deprecated; in a future version of numpy, it will be understood as (type, (1,)) / '(1,)type'.\n",
      "\u001b[2m\u001b[36m(pid=3662)\u001b[0m   _np_qint16 = np.dtype([(\"qint16\", np.int16, 1)])\n",
      "\u001b[2m\u001b[36m(pid=3662)\u001b[0m /home/paul/anaconda3/envs/anyscale-academy/lib/python3.7/site-packages/tensorboard/compat/tensorflow_stub/dtypes.py:544: FutureWarning: Passing (type, 1) or '1type' as a synonym of type is deprecated; in a future version of numpy, it will be understood as (type, (1,)) / '(1,)type'.\n",
      "\u001b[2m\u001b[36m(pid=3662)\u001b[0m   _np_quint16 = np.dtype([(\"quint16\", np.uint16, 1)])\n",
      "\u001b[2m\u001b[36m(pid=3662)\u001b[0m /home/paul/anaconda3/envs/anyscale-academy/lib/python3.7/site-packages/tensorboard/compat/tensorflow_stub/dtypes.py:545: FutureWarning: Passing (type, 1) or '1type' as a synonym of type is deprecated; in a future version of numpy, it will be understood as (type, (1,)) / '(1,)type'.\n",
      "\u001b[2m\u001b[36m(pid=3662)\u001b[0m   _np_qint32 = np.dtype([(\"qint32\", np.int32, 1)])\n",
      "\u001b[2m\u001b[36m(pid=3662)\u001b[0m /home/paul/anaconda3/envs/anyscale-academy/lib/python3.7/site-packages/tensorboard/compat/tensorflow_stub/dtypes.py:550: FutureWarning: Passing (type, 1) or '1type' as a synonym of type is deprecated; in a future version of numpy, it will be understood as (type, (1,)) / '(1,)type'.\n",
      "\u001b[2m\u001b[36m(pid=3662)\u001b[0m   np_resource = np.dtype([(\"resource\", np.ubyte, 1)])\n",
      "\u001b[2m\u001b[36m(pid=3661)\u001b[0m MarketBandit: max_inflation: 100.0, tickers: ['sp500', 't.bill', 't.bond', 'corp'], data file: /home/paul/academy/ray-rllib/multi-armed-bandits/market.tsv (config: {})\n",
      "\u001b[2m\u001b[36m(pid=3661)\u001b[0m 2020-07-19 18:04:41,251\tINFO trainer.py:612 -- Current log_level is WARN. For more information, set 'log_level': 'INFO' / 'DEBUG' or use the -v and -vv flags.\n",
      "\u001b[2m\u001b[36m(pid=3664)\u001b[0m 2020-07-19 18:04:41,252\tINFO trainer.py:612 -- Current log_level is WARN. For more information, set 'log_level': 'INFO' / 'DEBUG' or use the -v and -vv flags.\n",
      "\u001b[2m\u001b[36m(pid=3662)\u001b[0m MarketBandit: max_inflation: 100.0, tickers: ['sp500', 't.bill', 't.bond', 'corp'], data file: /home/paul/academy/ray-rllib/multi-armed-bandits/market.tsv (config: {})\n",
      "\u001b[2m\u001b[36m(pid=3664)\u001b[0m MarketBandit: max_inflation: 100.0, tickers: ['sp500', 't.bill', 't.bond', 'corp'], data file: /home/paul/academy/ray-rllib/multi-armed-bandits/market.tsv (config: {})\n",
      "\u001b[2m\u001b[36m(pid=3662)\u001b[0m 2020-07-19 18:04:41,251\tINFO trainer.py:612 -- Current log_level is WARN. For more information, set 'log_level': 'INFO' / 'DEBUG' or use the -v and -vv flags.\n",
      "\u001b[2m\u001b[36m(pid=3661)\u001b[0m 2020-07-19 18:04:41,319\tWARNING util.py:37 -- Install gputil for GPU system monitoring.\n",
      "\u001b[2m\u001b[36m(pid=3664)\u001b[0m 2020-07-19 18:04:41,318\tWARNING util.py:37 -- Install gputil for GPU system monitoring.\n",
      "\u001b[2m\u001b[36m(pid=3662)\u001b[0m 2020-07-19 18:04:41,319\tWARNING util.py:37 -- Install gputil for GPU system monitoring.\n"
     ]
    },
    {
     "name": "stderr",
     "output_type": "stream",
     "text": [
      "2020-07-19 18:04:41,845\tERROR trial_runner.py:520 -- Trial MarketLinTSTrainer_MarketBandit_7eb5f_00002: Error processing event.\n",
      "Traceback (most recent call last):\n",
      "  File \"/home/paul/anaconda3/envs/anyscale-academy/lib/python3.7/site-packages/ray/tune/trial_runner.py\", line 468, in _process_trial\n",
      "    result = self.trial_executor.fetch_result(trial)\n",
      "  File \"/home/paul/anaconda3/envs/anyscale-academy/lib/python3.7/site-packages/ray/tune/ray_trial_executor.py\", line 430, in fetch_result\n",
      "    result = ray.get(trial_future[0], DEFAULT_GET_TIMEOUT)\n",
      "  File \"/home/paul/anaconda3/envs/anyscale-academy/lib/python3.7/site-packages/ray/worker.py\", line 1474, in get\n",
      "    raise value.as_instanceof_cause()\n",
      "ray.exceptions.RayTaskError(AttributeError): \u001b[36mray::MarketLinTSTrainer.train()\u001b[39m (pid=3661, ip=192.168.1.114)\n",
      "  File \"python/ray/_raylet.pyx\", line 446, in ray._raylet.execute_task\n",
      "  File \"python/ray/_raylet.pyx\", line 400, in ray._raylet.execute_task.function_executor\n",
      "  File \"/home/paul/anaconda3/envs/anyscale-academy/lib/python3.7/site-packages/ray/rllib/agents/trainer.py\", line 500, in train\n",
      "    raise e\n",
      "  File \"/home/paul/anaconda3/envs/anyscale-academy/lib/python3.7/site-packages/ray/rllib/agents/trainer.py\", line 486, in train\n",
      "    result = Trainable.train(self)\n",
      "  File \"/home/paul/anaconda3/envs/anyscale-academy/lib/python3.7/site-packages/ray/tune/trainable.py\", line 261, in train\n",
      "    result = self._train()\n",
      "  File \"/home/paul/anaconda3/envs/anyscale-academy/lib/python3.7/site-packages/ray/rllib/agents/trainer_template.py\", line 132, in _train\n",
      "    return self._train_exec_impl()\n",
      "  File \"/home/paul/anaconda3/envs/anyscale-academy/lib/python3.7/site-packages/ray/rllib/agents/trainer_template.py\", line 170, in _train_exec_impl\n",
      "    res = next(self.train_exec_impl)\n",
      "  File \"/home/paul/anaconda3/envs/anyscale-academy/lib/python3.7/site-packages/ray/util/iter.py\", line 731, in __next__\n",
      "    return next(self.built_iterator)\n",
      "  File \"/home/paul/anaconda3/envs/anyscale-academy/lib/python3.7/site-packages/ray/util/iter.py\", line 744, in apply_foreach\n",
      "    for item in it:\n",
      "  File \"/home/paul/anaconda3/envs/anyscale-academy/lib/python3.7/site-packages/ray/util/iter.py\", line 814, in apply_filter\n",
      "    for item in it:\n",
      "  File \"/home/paul/anaconda3/envs/anyscale-academy/lib/python3.7/site-packages/ray/util/iter.py\", line 814, in apply_filter\n",
      "    for item in it:\n",
      "  File \"/home/paul/anaconda3/envs/anyscale-academy/lib/python3.7/site-packages/ray/util/iter.py\", line 744, in apply_foreach\n",
      "    for item in it:\n",
      "  File \"/home/paul/anaconda3/envs/anyscale-academy/lib/python3.7/site-packages/ray/util/iter.py\", line 847, in apply_flatten\n",
      "    for item in it:\n",
      "  File \"/home/paul/anaconda3/envs/anyscale-academy/lib/python3.7/site-packages/ray/util/iter.py\", line 799, in add_wait_hooks\n",
      "    item = next(it)\n",
      "  File \"/home/paul/anaconda3/envs/anyscale-academy/lib/python3.7/site-packages/ray/util/iter.py\", line 744, in apply_foreach\n",
      "    for item in it:\n",
      "  File \"/home/paul/anaconda3/envs/anyscale-academy/lib/python3.7/site-packages/ray/util/iter.py\", line 744, in apply_foreach\n",
      "    for item in it:\n",
      "  File \"/home/paul/anaconda3/envs/anyscale-academy/lib/python3.7/site-packages/ray/rllib/execution/rollout_ops.py\", line 70, in sampler\n",
      "    yield workers.local_worker().sample()\n",
      "  File \"/home/paul/anaconda3/envs/anyscale-academy/lib/python3.7/site-packages/ray/rllib/evaluation/rollout_worker.py\", line 528, in sample\n",
      "    batches = [self.input_reader.next()]\n",
      "  File \"/home/paul/anaconda3/envs/anyscale-academy/lib/python3.7/site-packages/ray/rllib/evaluation/sampler.py\", line 59, in next\n",
      "    batches = [self.get_data()]\n",
      "  File \"/home/paul/anaconda3/envs/anyscale-academy/lib/python3.7/site-packages/ray/rllib/evaluation/sampler.py\", line 164, in get_data\n",
      "    item = next(self.rollout_provider)\n",
      "  File \"/home/paul/anaconda3/envs/anyscale-academy/lib/python3.7/site-packages/ray/rllib/evaluation/sampler.py\", line 500, in _env_runner\n",
      "    tf_sess=tf_sess)\n",
      "  File \"/home/paul/anaconda3/envs/anyscale-academy/lib/python3.7/site-packages/ray/rllib/evaluation/sampler.py\", line 827, in _do_policy_eval\n",
      "    timestep=policy.global_timestep)\n",
      "  File \"/home/paul/anaconda3/envs/anyscale-academy/lib/python3.7/site-packages/ray/rllib/policy/torch_policy.py\", line 151, in compute_actions\n",
      "    input_dict, state_batches, seq_lens)\n",
      "  File \"/home/paul/anaconda3/envs/anyscale-academy/lib/python3.7/site-packages/ray/rllib/models/modelv2.py\", line 180, in __call__\n",
      "    res = self.forward(restored, state or [], seq_lens)\n",
      "  File \"/home/paul/anaconda3/envs/anyscale-academy/lib/python3.7/site-packages/ray/rllib/contrib/bandits/models/linear_regression.py\", line 165, in forward\n",
      "    x, sample_theta=True, use_ucb=False)\n",
      "  File \"/home/paul/anaconda3/envs/anyscale-academy/lib/python3.7/site-packages/ray/rllib/contrib/bandits/models/linear_regression.py\", line 126, in predict\n",
      "    [self.arms[i](x, sample_theta) for i in range(self.num_outputs)],\n",
      "  File \"/home/paul/anaconda3/envs/anyscale-academy/lib/python3.7/site-packages/ray/rllib/contrib/bandits/models/linear_regression.py\", line 126, in <listcomp>\n",
      "    [self.arms[i](x, sample_theta) for i in range(self.num_outputs)],\n",
      "  File \"/home/paul/anaconda3/envs/anyscale-academy/lib/python3.7/site-packages/torch/nn/modules/module.py\", line 489, in __call__\n",
      "    result = self.forward(*input, **kwargs)\n",
      "  File \"/home/paul/anaconda3/envs/anyscale-academy/lib/python3.7/site-packages/ray/rllib/contrib/bandits/models/linear_regression.py\", line 80, in forward\n",
      "    self._check_inputs(x)\n",
      "  File \"/home/paul/anaconda3/envs/anyscale-academy/lib/python3.7/site-packages/ray/rllib/contrib/bandits/models/linear_regression.py\", line 86, in _check_inputs\n",
      "    assert x.ndim in [2, 3], \\\n",
      "AttributeError: 'Tensor' object has no attribute 'ndim'\n",
      "2020-07-19 18:04:41,866\tERROR trial_runner.py:520 -- Trial MarketLinTSTrainer_MarketBandit_7eb5f_00001: Error processing event.\n",
      "Traceback (most recent call last):\n",
      "  File \"/home/paul/anaconda3/envs/anyscale-academy/lib/python3.7/site-packages/ray/tune/trial_runner.py\", line 468, in _process_trial\n",
      "    result = self.trial_executor.fetch_result(trial)\n",
      "  File \"/home/paul/anaconda3/envs/anyscale-academy/lib/python3.7/site-packages/ray/tune/ray_trial_executor.py\", line 430, in fetch_result\n",
      "    result = ray.get(trial_future[0], DEFAULT_GET_TIMEOUT)\n",
      "  File \"/home/paul/anaconda3/envs/anyscale-academy/lib/python3.7/site-packages/ray/worker.py\", line 1474, in get\n",
      "    raise value.as_instanceof_cause()\n",
      "ray.exceptions.RayTaskError(AttributeError): \u001b[36mray::MarketLinTSTrainer.train()\u001b[39m (pid=3662, ip=192.168.1.114)\n",
      "  File \"python/ray/_raylet.pyx\", line 446, in ray._raylet.execute_task\n",
      "  File \"python/ray/_raylet.pyx\", line 400, in ray._raylet.execute_task.function_executor\n",
      "  File \"/home/paul/anaconda3/envs/anyscale-academy/lib/python3.7/site-packages/ray/rllib/agents/trainer.py\", line 500, in train\n",
      "    raise e\n",
      "  File \"/home/paul/anaconda3/envs/anyscale-academy/lib/python3.7/site-packages/ray/rllib/agents/trainer.py\", line 486, in train\n",
      "    result = Trainable.train(self)\n",
      "  File \"/home/paul/anaconda3/envs/anyscale-academy/lib/python3.7/site-packages/ray/tune/trainable.py\", line 261, in train\n",
      "    result = self._train()\n",
      "  File \"/home/paul/anaconda3/envs/anyscale-academy/lib/python3.7/site-packages/ray/rllib/agents/trainer_template.py\", line 132, in _train\n",
      "    return self._train_exec_impl()\n",
      "  File \"/home/paul/anaconda3/envs/anyscale-academy/lib/python3.7/site-packages/ray/rllib/agents/trainer_template.py\", line 170, in _train_exec_impl\n",
      "    res = next(self.train_exec_impl)\n",
      "  File \"/home/paul/anaconda3/envs/anyscale-academy/lib/python3.7/site-packages/ray/util/iter.py\", line 731, in __next__\n",
      "    return next(self.built_iterator)\n",
      "  File \"/home/paul/anaconda3/envs/anyscale-academy/lib/python3.7/site-packages/ray/util/iter.py\", line 744, in apply_foreach\n",
      "    for item in it:\n",
      "  File \"/home/paul/anaconda3/envs/anyscale-academy/lib/python3.7/site-packages/ray/util/iter.py\", line 814, in apply_filter\n",
      "    for item in it:\n",
      "  File \"/home/paul/anaconda3/envs/anyscale-academy/lib/python3.7/site-packages/ray/util/iter.py\", line 814, in apply_filter\n",
      "    for item in it:\n",
      "  File \"/home/paul/anaconda3/envs/anyscale-academy/lib/python3.7/site-packages/ray/util/iter.py\", line 744, in apply_foreach\n",
      "    for item in it:\n",
      "  File \"/home/paul/anaconda3/envs/anyscale-academy/lib/python3.7/site-packages/ray/util/iter.py\", line 847, in apply_flatten\n",
      "    for item in it:\n",
      "  File \"/home/paul/anaconda3/envs/anyscale-academy/lib/python3.7/site-packages/ray/util/iter.py\", line 799, in add_wait_hooks\n",
      "    item = next(it)\n",
      "  File \"/home/paul/anaconda3/envs/anyscale-academy/lib/python3.7/site-packages/ray/util/iter.py\", line 744, in apply_foreach\n",
      "    for item in it:\n",
      "  File \"/home/paul/anaconda3/envs/anyscale-academy/lib/python3.7/site-packages/ray/util/iter.py\", line 744, in apply_foreach\n",
      "    for item in it:\n",
      "  File \"/home/paul/anaconda3/envs/anyscale-academy/lib/python3.7/site-packages/ray/rllib/execution/rollout_ops.py\", line 70, in sampler\n",
      "    yield workers.local_worker().sample()\n",
      "  File \"/home/paul/anaconda3/envs/anyscale-academy/lib/python3.7/site-packages/ray/rllib/evaluation/rollout_worker.py\", line 528, in sample\n",
      "    batches = [self.input_reader.next()]\n",
      "  File \"/home/paul/anaconda3/envs/anyscale-academy/lib/python3.7/site-packages/ray/rllib/evaluation/sampler.py\", line 59, in next\n",
      "    batches = [self.get_data()]\n",
      "  File \"/home/paul/anaconda3/envs/anyscale-academy/lib/python3.7/site-packages/ray/rllib/evaluation/sampler.py\", line 164, in get_data\n",
      "    item = next(self.rollout_provider)\n",
      "  File \"/home/paul/anaconda3/envs/anyscale-academy/lib/python3.7/site-packages/ray/rllib/evaluation/sampler.py\", line 500, in _env_runner\n",
      "    tf_sess=tf_sess)\n",
      "  File \"/home/paul/anaconda3/envs/anyscale-academy/lib/python3.7/site-packages/ray/rllib/evaluation/sampler.py\", line 827, in _do_policy_eval\n",
      "    timestep=policy.global_timestep)\n",
      "  File \"/home/paul/anaconda3/envs/anyscale-academy/lib/python3.7/site-packages/ray/rllib/policy/torch_policy.py\", line 151, in compute_actions\n",
      "    input_dict, state_batches, seq_lens)\n",
      "  File \"/home/paul/anaconda3/envs/anyscale-academy/lib/python3.7/site-packages/ray/rllib/models/modelv2.py\", line 180, in __call__\n",
      "    res = self.forward(restored, state or [], seq_lens)\n",
      "  File \"/home/paul/anaconda3/envs/anyscale-academy/lib/python3.7/site-packages/ray/rllib/contrib/bandits/models/linear_regression.py\", line 165, in forward\n",
      "    x, sample_theta=True, use_ucb=False)\n",
      "  File \"/home/paul/anaconda3/envs/anyscale-academy/lib/python3.7/site-packages/ray/rllib/contrib/bandits/models/linear_regression.py\", line 126, in predict\n",
      "    [self.arms[i](x, sample_theta) for i in range(self.num_outputs)],\n",
      "  File \"/home/paul/anaconda3/envs/anyscale-academy/lib/python3.7/site-packages/ray/rllib/contrib/bandits/models/linear_regression.py\", line 126, in <listcomp>\n",
      "    [self.arms[i](x, sample_theta) for i in range(self.num_outputs)],\n",
      "  File \"/home/paul/anaconda3/envs/anyscale-academy/lib/python3.7/site-packages/torch/nn/modules/module.py\", line 489, in __call__\n",
      "    result = self.forward(*input, **kwargs)\n",
      "  File \"/home/paul/anaconda3/envs/anyscale-academy/lib/python3.7/site-packages/ray/rllib/contrib/bandits/models/linear_regression.py\", line 80, in forward\n",
      "    self._check_inputs(x)\n",
      "  File \"/home/paul/anaconda3/envs/anyscale-academy/lib/python3.7/site-packages/ray/rllib/contrib/bandits/models/linear_regression.py\", line 86, in _check_inputs\n",
      "    assert x.ndim in [2, 3], \\\n",
      "AttributeError: 'Tensor' object has no attribute 'ndim'\n",
      "2020-07-19 18:04:41,896\tERROR trial_runner.py:520 -- Trial MarketLinTSTrainer_MarketBandit_7eb5f_00000: Error processing event.\n",
      "Traceback (most recent call last):\n",
      "  File \"/home/paul/anaconda3/envs/anyscale-academy/lib/python3.7/site-packages/ray/tune/trial_runner.py\", line 468, in _process_trial\n",
      "    result = self.trial_executor.fetch_result(trial)\n",
      "  File \"/home/paul/anaconda3/envs/anyscale-academy/lib/python3.7/site-packages/ray/tune/ray_trial_executor.py\", line 430, in fetch_result\n",
      "    result = ray.get(trial_future[0], DEFAULT_GET_TIMEOUT)\n",
      "  File \"/home/paul/anaconda3/envs/anyscale-academy/lib/python3.7/site-packages/ray/worker.py\", line 1474, in get\n",
      "    raise value.as_instanceof_cause()\n",
      "ray.exceptions.RayTaskError(AttributeError): \u001b[36mray::MarketLinTSTrainer.train()\u001b[39m (pid=3664, ip=192.168.1.114)\n",
      "  File \"python/ray/_raylet.pyx\", line 446, in ray._raylet.execute_task\n",
      "  File \"python/ray/_raylet.pyx\", line 400, in ray._raylet.execute_task.function_executor\n",
      "  File \"/home/paul/anaconda3/envs/anyscale-academy/lib/python3.7/site-packages/ray/rllib/agents/trainer.py\", line 500, in train\n",
      "    raise e\n",
      "  File \"/home/paul/anaconda3/envs/anyscale-academy/lib/python3.7/site-packages/ray/rllib/agents/trainer.py\", line 486, in train\n",
      "    result = Trainable.train(self)\n",
      "  File \"/home/paul/anaconda3/envs/anyscale-academy/lib/python3.7/site-packages/ray/tune/trainable.py\", line 261, in train\n",
      "    result = self._train()\n",
      "  File \"/home/paul/anaconda3/envs/anyscale-academy/lib/python3.7/site-packages/ray/rllib/agents/trainer_template.py\", line 132, in _train\n",
      "    return self._train_exec_impl()\n",
      "  File \"/home/paul/anaconda3/envs/anyscale-academy/lib/python3.7/site-packages/ray/rllib/agents/trainer_template.py\", line 170, in _train_exec_impl\n",
      "    res = next(self.train_exec_impl)\n",
      "  File \"/home/paul/anaconda3/envs/anyscale-academy/lib/python3.7/site-packages/ray/util/iter.py\", line 731, in __next__\n",
      "    return next(self.built_iterator)\n",
      "  File \"/home/paul/anaconda3/envs/anyscale-academy/lib/python3.7/site-packages/ray/util/iter.py\", line 744, in apply_foreach\n",
      "    for item in it:\n",
      "  File \"/home/paul/anaconda3/envs/anyscale-academy/lib/python3.7/site-packages/ray/util/iter.py\", line 814, in apply_filter\n",
      "    for item in it:\n",
      "  File \"/home/paul/anaconda3/envs/anyscale-academy/lib/python3.7/site-packages/ray/util/iter.py\", line 814, in apply_filter\n",
      "    for item in it:\n",
      "  File \"/home/paul/anaconda3/envs/anyscale-academy/lib/python3.7/site-packages/ray/util/iter.py\", line 744, in apply_foreach\n",
      "    for item in it:\n",
      "  File \"/home/paul/anaconda3/envs/anyscale-academy/lib/python3.7/site-packages/ray/util/iter.py\", line 847, in apply_flatten\n",
      "    for item in it:\n",
      "  File \"/home/paul/anaconda3/envs/anyscale-academy/lib/python3.7/site-packages/ray/util/iter.py\", line 799, in add_wait_hooks\n",
      "    item = next(it)\n",
      "  File \"/home/paul/anaconda3/envs/anyscale-academy/lib/python3.7/site-packages/ray/util/iter.py\", line 744, in apply_foreach\n",
      "    for item in it:\n",
      "  File \"/home/paul/anaconda3/envs/anyscale-academy/lib/python3.7/site-packages/ray/util/iter.py\", line 744, in apply_foreach\n",
      "    for item in it:\n",
      "  File \"/home/paul/anaconda3/envs/anyscale-academy/lib/python3.7/site-packages/ray/rllib/execution/rollout_ops.py\", line 70, in sampler\n",
      "    yield workers.local_worker().sample()\n",
      "  File \"/home/paul/anaconda3/envs/anyscale-academy/lib/python3.7/site-packages/ray/rllib/evaluation/rollout_worker.py\", line 528, in sample\n",
      "    batches = [self.input_reader.next()]\n",
      "  File \"/home/paul/anaconda3/envs/anyscale-academy/lib/python3.7/site-packages/ray/rllib/evaluation/sampler.py\", line 59, in next\n",
      "    batches = [self.get_data()]\n",
      "  File \"/home/paul/anaconda3/envs/anyscale-academy/lib/python3.7/site-packages/ray/rllib/evaluation/sampler.py\", line 164, in get_data\n",
      "    item = next(self.rollout_provider)\n",
      "  File \"/home/paul/anaconda3/envs/anyscale-academy/lib/python3.7/site-packages/ray/rllib/evaluation/sampler.py\", line 500, in _env_runner\n",
      "    tf_sess=tf_sess)\n",
      "  File \"/home/paul/anaconda3/envs/anyscale-academy/lib/python3.7/site-packages/ray/rllib/evaluation/sampler.py\", line 827, in _do_policy_eval\n",
      "    timestep=policy.global_timestep)\n",
      "  File \"/home/paul/anaconda3/envs/anyscale-academy/lib/python3.7/site-packages/ray/rllib/policy/torch_policy.py\", line 151, in compute_actions\n",
      "    input_dict, state_batches, seq_lens)\n",
      "  File \"/home/paul/anaconda3/envs/anyscale-academy/lib/python3.7/site-packages/ray/rllib/models/modelv2.py\", line 180, in __call__\n",
      "    res = self.forward(restored, state or [], seq_lens)\n",
      "  File \"/home/paul/anaconda3/envs/anyscale-academy/lib/python3.7/site-packages/ray/rllib/contrib/bandits/models/linear_regression.py\", line 165, in forward\n",
      "    x, sample_theta=True, use_ucb=False)\n",
      "  File \"/home/paul/anaconda3/envs/anyscale-academy/lib/python3.7/site-packages/ray/rllib/contrib/bandits/models/linear_regression.py\", line 126, in predict\n",
      "    [self.arms[i](x, sample_theta) for i in range(self.num_outputs)],\n",
      "  File \"/home/paul/anaconda3/envs/anyscale-academy/lib/python3.7/site-packages/ray/rllib/contrib/bandits/models/linear_regression.py\", line 126, in <listcomp>\n",
      "    [self.arms[i](x, sample_theta) for i in range(self.num_outputs)],\n",
      "  File \"/home/paul/anaconda3/envs/anyscale-academy/lib/python3.7/site-packages/torch/nn/modules/module.py\", line 489, in __call__\n",
      "    result = self.forward(*input, **kwargs)\n",
      "  File \"/home/paul/anaconda3/envs/anyscale-academy/lib/python3.7/site-packages/ray/rllib/contrib/bandits/models/linear_regression.py\", line 80, in forward\n",
      "    self._check_inputs(x)\n",
      "  File \"/home/paul/anaconda3/envs/anyscale-academy/lib/python3.7/site-packages/ray/rllib/contrib/bandits/models/linear_regression.py\", line 86, in _check_inputs\n",
      "    assert x.ndim in [2, 3], \\\n",
      "AttributeError: 'Tensor' object has no attribute 'ndim'\n"
     ]
    },
    {
     "data": {
      "text/html": [
       "== Status ==<br>Memory usage on this node: 3.6/15.6 GiB<br>Using FIFO scheduling algorithm.<br>Resources requested: 0/4 CPUs, 0/2 GPUs, 0.0/8.11 GiB heap, 0.0/2.78 GiB objects<br>Result logdir: /home/paul/ray_results/MarketLinTSTrainer<br>Number of trials: 3 (3 ERROR)<br><table>\n",
       "<thead>\n",
       "<tr><th>Trial name                                 </th><th>status  </th><th>loc  </th></tr>\n",
       "</thead>\n",
       "<tbody>\n",
       "<tr><td>MarketLinTSTrainer_MarketBandit_7eb5f_00000</td><td>ERROR   </td><td>     </td></tr>\n",
       "<tr><td>MarketLinTSTrainer_MarketBandit_7eb5f_00001</td><td>ERROR   </td><td>     </td></tr>\n",
       "<tr><td>MarketLinTSTrainer_MarketBandit_7eb5f_00002</td><td>ERROR   </td><td>     </td></tr>\n",
       "</tbody>\n",
       "</table><br>Number of errored trials: 3<br><table>\n",
       "<thead>\n",
       "<tr><th>Trial name                                 </th><th style=\"text-align: right;\">  # failures</th><th>error file                                                                                                       </th></tr>\n",
       "</thead>\n",
       "<tbody>\n",
       "<tr><td>MarketLinTSTrainer_MarketBandit_7eb5f_00000</td><td style=\"text-align: right;\">           1</td><td>/home/paul/ray_results/MarketLinTSTrainer/MarketLinTSTrainer_MarketBandit_0_2020-07-19_18-04-39wcarj8p7/error.txt</td></tr>\n",
       "<tr><td>MarketLinTSTrainer_MarketBandit_7eb5f_00001</td><td style=\"text-align: right;\">           1</td><td>/home/paul/ray_results/MarketLinTSTrainer/MarketLinTSTrainer_MarketBandit_1_2020-07-19_18-04-39vtcbdzs6/error.txt</td></tr>\n",
       "<tr><td>MarketLinTSTrainer_MarketBandit_7eb5f_00002</td><td style=\"text-align: right;\">           1</td><td>/home/paul/ray_results/MarketLinTSTrainer/MarketLinTSTrainer_MarketBandit_2_2020-07-19_18-04-39mfsmbmce/error.txt</td></tr>\n",
       "</tbody>\n",
       "</table><br>"
      ],
      "text/plain": [
       "<IPython.core.display.HTML object>"
      ]
     },
     "metadata": {},
     "output_type": "display_data"
    },
    {
     "ename": "TuneError",
     "evalue": "('Trials did not complete', [MarketLinTSTrainer_MarketBandit_7eb5f_00000, MarketLinTSTrainer_MarketBandit_7eb5f_00001, MarketLinTSTrainer_MarketBandit_7eb5f_00002])",
     "output_type": "error",
     "traceback": [
      "\u001b[0;31m---------------------------------------------------------------------------\u001b[0m",
      "\u001b[0;31mTuneError\u001b[0m                                 Traceback (most recent call last)",
      "\u001b[0;32m<ipython-input-22-f6860df1d4da>\u001b[0m in \u001b[0;36m<module>\u001b[0;34m\u001b[0m\n\u001b[1;32m      6\u001b[0m     \u001b[0mcheckpoint_at_end\u001b[0m\u001b[0;34m=\u001b[0m\u001b[0;32mTrue\u001b[0m\u001b[0;34m,\u001b[0m\u001b[0;34m\u001b[0m\u001b[0;34m\u001b[0m\u001b[0m\n\u001b[1;32m      7\u001b[0m     \u001b[0mverbose\u001b[0m\u001b[0;34m=\u001b[0m\u001b[0;36m2\u001b[0m\u001b[0;34m,\u001b[0m              \u001b[0;31m# Change to 0 or 1 to reduce the output.\u001b[0m\u001b[0;34m\u001b[0m\u001b[0;34m\u001b[0m\u001b[0m\n\u001b[0;32m----> 8\u001b[0;31m     \u001b[0mray_auto_init\u001b[0m\u001b[0;34m=\u001b[0m\u001b[0;32mFalse\u001b[0m\u001b[0;34m,\u001b[0m    \u001b[0;31m# Don't allow Tune to initialize Ray.\u001b[0m\u001b[0;34m\u001b[0m\u001b[0;34m\u001b[0m\u001b[0m\n\u001b[0m\u001b[1;32m      9\u001b[0m )\n",
      "\u001b[0;32m~/anaconda3/envs/anyscale-academy/lib/python3.7/site-packages/ray/tune/tune.py\u001b[0m in \u001b[0;36mrun\u001b[0;34m(run_or_experiment, name, stop, config, resources_per_trial, num_samples, local_dir, upload_dir, trial_name_creator, loggers, sync_to_cloud, sync_to_driver, checkpoint_freq, checkpoint_at_end, sync_on_checkpoint, keep_checkpoints_num, checkpoint_score_attr, global_checkpoint_period, export_formats, max_failures, fail_fast, restore, search_alg, scheduler, with_server, server_port, verbose, progress_reporter, resume, queue_trials, reuse_actors, trial_executor, raise_on_failed_trial, return_trials, ray_auto_init)\u001b[0m\n\u001b[1;32m    347\u001b[0m     \u001b[0;32mif\u001b[0m \u001b[0mincomplete_trials\u001b[0m\u001b[0;34m:\u001b[0m\u001b[0;34m\u001b[0m\u001b[0;34m\u001b[0m\u001b[0m\n\u001b[1;32m    348\u001b[0m         \u001b[0;32mif\u001b[0m \u001b[0mraise_on_failed_trial\u001b[0m\u001b[0;34m:\u001b[0m\u001b[0;34m\u001b[0m\u001b[0;34m\u001b[0m\u001b[0m\n\u001b[0;32m--> 349\u001b[0;31m             \u001b[0;32mraise\u001b[0m \u001b[0mTuneError\u001b[0m\u001b[0;34m(\u001b[0m\u001b[0;34m\"Trials did not complete\"\u001b[0m\u001b[0;34m,\u001b[0m \u001b[0mincomplete_trials\u001b[0m\u001b[0;34m)\u001b[0m\u001b[0;34m\u001b[0m\u001b[0;34m\u001b[0m\u001b[0m\n\u001b[0m\u001b[1;32m    350\u001b[0m         \u001b[0;32melse\u001b[0m\u001b[0;34m:\u001b[0m\u001b[0;34m\u001b[0m\u001b[0;34m\u001b[0m\u001b[0m\n\u001b[1;32m    351\u001b[0m             \u001b[0mlogger\u001b[0m\u001b[0;34m.\u001b[0m\u001b[0merror\u001b[0m\u001b[0;34m(\u001b[0m\u001b[0;34m\"Trials did not complete: %s\"\u001b[0m\u001b[0;34m,\u001b[0m \u001b[0mincomplete_trials\u001b[0m\u001b[0;34m)\u001b[0m\u001b[0;34m\u001b[0m\u001b[0;34m\u001b[0m\u001b[0m\n",
      "\u001b[0;31mTuneError\u001b[0m: ('Trials did not complete', [MarketLinTSTrainer_MarketBandit_7eb5f_00000, MarketLinTSTrainer_MarketBandit_7eb5f_00001, MarketLinTSTrainer_MarketBandit_7eb5f_00002])"
     ]
    }
   ],
   "source": [
    "analysis = ray.tune.run(\n",
    "    MarketLinTSTrainer,\n",
    "    config=market_config,\n",
    "    stop=stop,\n",
    "    num_samples=3,    \n",
    "    checkpoint_at_end=True,\n",
    "    verbose=2,              # Change to 0 or 1 to reduce the output.\n",
    "    ray_auto_init=False,    # Don't allow Tune to initialize Ray.\n",
    ")"
   ]
  },
  {
   "cell_type": "markdown",
   "metadata": {},
   "source": [
    "## Analyzing the results\n",
    "\n",
    "Let's analyze the rewards and cumulative regrets of these trials."
   ]
  },
  {
   "cell_type": "code",
   "execution_count": null,
   "metadata": {},
   "outputs": [],
   "source": [
    "df_ts = pd.DataFrame()\n",
    "\n",
    "for key, df_trial in analysis.trial_dataframes.items():\n",
    "    df_ts = df_ts.append(df_trial, ignore_index=True)\n",
    "    \n",
    "df_ts.head()"
   ]
  },
  {
   "cell_type": "code",
   "execution_count": null,
   "metadata": {},
   "outputs": [],
   "source": [
    "rewards = df_ts \\\n",
    "    .groupby(\"info/num_steps_trained\")[\"episode_reward_mean\"] \\\n",
    "    .aggregate([\"mean\", \"max\", \"min\", \"std\"])\n",
    "\n",
    "rewards"
   ]
  },
  {
   "cell_type": "code",
   "execution_count": null,
   "metadata": {},
   "outputs": [],
   "source": [
    "plot_line_with_stddev(rewards, x_col='info/num_steps_trained', y_col='mean', stddev_col='std', \n",
    "                      title='Rewards vs. Steps', x_axis_label='step', y_axis_label='reward')"
   ]
  },
  {
   "cell_type": "markdown",
   "metadata": {},
   "source": [
    "([image](../../images/rllib/Market-Bandit-Rewards-vs-Steps.png))\n",
    "\n",
    "The rewards reach what appears to be nearly optimal by 3000 steps, then shows some slow improvement beyond 8000."
   ]
  },
  {
   "cell_type": "code",
   "execution_count": null,
   "metadata": {},
   "outputs": [],
   "source": [
    "regrets = df_ts \\\n",
    "    .groupby(\"info/num_steps_trained\")[\"info/learner/default_policy/cumulative_regret\"] \\\n",
    "    .aggregate([\"mean\", \"max\", \"min\", \"std\"])\n",
    "\n",
    "regrets"
   ]
  },
  {
   "cell_type": "code",
   "execution_count": null,
   "metadata": {},
   "outputs": [],
   "source": [
    "plot_cumulative_regret(regrets)"
   ]
  },
  {
   "cell_type": "markdown",
   "metadata": {},
   "source": [
    "([image](../../images/rllib/Market-Bandit-Cumulative-Regret.png))"
   ]
  },
  {
   "cell_type": "markdown",
   "metadata": {},
   "source": [
    "## Evaluating the Trained Policy\n",
    "\n",
    "Overall, how well did the trained policy perform? The results should be better than random, but less than the best case."
   ]
  },
  {
   "cell_type": "code",
   "execution_count": null,
   "metadata": {},
   "outputs": [],
   "source": [
    "print(\"{:5.2f}% optimized return annualized\".format(max(rewards[\"mean\"]) / n_years))"
   ]
  },
  {
   "cell_type": "markdown",
   "metadata": {},
   "source": [
    "You should see a number between 6-8%. That's better than the random action baseline of 3.75%, but no where near the best case scenario of 15.18% return. Hence, our regrets continue to grow over time...\n",
    "\n",
    "Note that investing solely in the S&P stock index which would have produced better than 8% return over that period -- that is, if one could wait 92 years. However, investing one's entire portfolio into stocks can become quite a risky policy in the short-term, so we were exploring how to balance a portfolio given only limited information.\n",
    "\n",
    "In any case, the contextual bandit performed well considering that it could only use *inflation* for the context of its decisions, and could only take actions once each year."
   ]
  },
  {
   "cell_type": "markdown",
   "metadata": {},
   "source": [
    "## Exercise 1\n",
    "\n",
    "Try using a `LinUCBTrainer`-based trainer. How does the annualized return compare?"
   ]
  },
  {
   "cell_type": "markdown",
   "metadata": {},
   "source": [
    "---\n",
    "\n",
    "## Extra - Restoring from a Checkpoint\n",
    "\n",
    "In the previous lesson, [05 Thompson Sampling](05-Thompson-Sampling.ipynb), we showed how to restore a trainer from a checkpoint, but almost \"in passing\". Let's use this feature again, this time with our custom trainer class `MarketLinTSTrainer`."
   ]
  },
  {
   "cell_type": "code",
   "execution_count": null,
   "metadata": {},
   "outputs": [],
   "source": [
    "trial = analysis.trials[0]\n",
    "path = trial.checkpoint.value\n",
    "print(f'checkpoint_path: {path}')"
   ]
  },
  {
   "cell_type": "code",
   "execution_count": null,
   "metadata": {},
   "outputs": [],
   "source": [
    "trainer = MarketLinTSTrainer(market_config)  # create instance and then restore from checkpoint\n",
    "trainer.restore(path)"
   ]
  },
  {
   "cell_type": "markdown",
   "metadata": {},
   "source": [
    "Access the model, to review the distribution of arm weights"
   ]
  },
  {
   "cell_type": "code",
   "execution_count": null,
   "metadata": {
    "scrolled": true
   },
   "outputs": [],
   "source": [
    "model = trainer.get_policy().model\n",
    "means = [model.arms[i].theta.numpy() for i in range(3)]\n",
    "covs = [model.arms[i].covariance.numpy() for i in range(3)]\n",
    "means, covs, model.arms[0].theta.numpy()"
   ]
  },
  {
   "cell_type": "markdown",
   "metadata": {},
   "source": [
    "A final note: when you checkpoint it will change how the training performs in this notebook, if you rerun the training! So be sure to start from scratch when doing experiments here, if that's what you intend!"
   ]
  }
 ],
 "metadata": {
  "kernelspec": {
   "display_name": "Python [conda env:anyscale-academy] *",
   "language": "python",
   "name": "conda-env-anyscale-academy-py"
  },
  "language_info": {
   "codemirror_mode": {
    "name": "ipython",
    "version": 3
   },
   "file_extension": ".py",
   "mimetype": "text/x-python",
   "name": "python",
   "nbconvert_exporter": "python",
   "pygments_lexer": "ipython3",
   "version": "3.7.6"
  }
 },
 "nbformat": 4,
 "nbformat_minor": 4
}
